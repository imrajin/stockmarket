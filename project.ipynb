{
 "cells": [
  {
   "cell_type": "code",
   "execution_count": 1,
   "id": "c5d090bf-ab3d-40f0-9ba2-97fd8a624c63",
   "metadata": {},
   "outputs": [
    {
     "data": {
      "text/html": [
       "        <script type=\"text/javascript\">\n",
       "        window.PlotlyConfig = {MathJaxConfig: 'local'};\n",
       "        if (window.MathJax && window.MathJax.Hub && window.MathJax.Hub.Config) {window.MathJax.Hub.Config({SVG: {font: \"STIX-Web\"}});}\n",
       "        if (typeof require !== 'undefined') {\n",
       "        require.undef(\"plotly\");\n",
       "        requirejs.config({\n",
       "            paths: {\n",
       "                'plotly': ['https://cdn.plot.ly/plotly-2.35.2.min']\n",
       "            }\n",
       "        });\n",
       "        require(['plotly'], function(Plotly) {\n",
       "            window._Plotly = Plotly;\n",
       "        });\n",
       "        }\n",
       "        </script>\n",
       "        "
      ]
     },
     "metadata": {},
     "output_type": "display_data"
    }
   ],
   "source": [
    "import os\n",
    "import pandas as pd\n",
    "import numpy as np\n",
    "import math\n",
    "import datetime as dt\n",
    "\n",
    "from sklearn.metrics import mean_squared_error, mean_absolute_error, explained_variance_score, r2_score\n",
    "from sklearn.metrics import mean_poisson_deviance, mean_gamma_deviance, accuracy_score\n",
    "from sklearn.preprocessing import MinMaxScaler\n",
    "\n",
    "import tensorflow as tf\n",
    "from tensorflow.keras.models import Sequential\n",
    "from tensorflow.keras.layers import Dense, Dropout\n",
    "from tensorflow.keras.layers import LSTM\n",
    "from tensorflow.keras.callbacks import EarlyStopping\n",
    "from tensorflow.keras.regularizers import l2\n",
    "from tensorflow.keras.optimizers import Adam\n",
    "from tensorflow.keras.callbacks import LearningRateScheduler\n",
    "\n",
    "import matplotlib.pyplot as plt\n",
    "from itertools import cycle\n",
    "import plotly.graph_objects as go\n",
    "import plotly.express as px\n",
    "from plotly.subplots import make_subplots\n",
    "\n",
    "from plotly.offline import init_notebook_mode,iplot\n",
    "init_notebook_mode(connected=True)"
   ]
  },
  {
   "cell_type": "code",
   "execution_count": 2,
   "id": "a28b46e6-0433-44e3-ba09-50cee20fa86c",
   "metadata": {},
   "outputs": [
    {
     "data": {
      "text/html": [
       "<div>\n",
       "<style scoped>\n",
       "    .dataframe tbody tr th:only-of-type {\n",
       "        vertical-align: middle;\n",
       "    }\n",
       "\n",
       "    .dataframe tbody tr th {\n",
       "        vertical-align: top;\n",
       "    }\n",
       "\n",
       "    .dataframe thead th {\n",
       "        text-align: right;\n",
       "    }\n",
       "</style>\n",
       "<table border=\"1\" class=\"dataframe\">\n",
       "  <thead>\n",
       "    <tr style=\"text-align: right;\">\n",
       "      <th></th>\n",
       "      <th>Open</th>\n",
       "      <th>High</th>\n",
       "      <th>Low</th>\n",
       "      <th>Close</th>\n",
       "      <th>Volume</th>\n",
       "    </tr>\n",
       "    <tr>\n",
       "      <th>Date</th>\n",
       "      <th></th>\n",
       "      <th></th>\n",
       "      <th></th>\n",
       "      <th></th>\n",
       "      <th></th>\n",
       "    </tr>\n",
       "  </thead>\n",
       "  <tbody>\n",
       "    <tr>\n",
       "      <th>2019-07-07</th>\n",
       "      <td>1262.98</td>\n",
       "      <td>1263.82</td>\n",
       "      <td>1255.01</td>\n",
       "      <td>1256.04</td>\n",
       "      <td>540,529,472.00</td>\n",
       "    </tr>\n",
       "    <tr>\n",
       "      <th>2019-07-08</th>\n",
       "      <td>1256.15</td>\n",
       "      <td>1257.57</td>\n",
       "      <td>1245.62</td>\n",
       "      <td>1247.35</td>\n",
       "      <td>591,053,824.00</td>\n",
       "    </tr>\n",
       "    <tr>\n",
       "      <th>2019-07-09</th>\n",
       "      <td>1247.41</td>\n",
       "      <td>1252.20</td>\n",
       "      <td>1244.36</td>\n",
       "      <td>1250.27</td>\n",
       "      <td>468,263,776.00</td>\n",
       "    </tr>\n",
       "    <tr>\n",
       "      <th>2019-07-10</th>\n",
       "      <td>1250.43</td>\n",
       "      <td>1251.89</td>\n",
       "      <td>1246.15</td>\n",
       "      <td>1249.15</td>\n",
       "      <td>573,447,488.00</td>\n",
       "    </tr>\n",
       "    <tr>\n",
       "      <th>2019-07-11</th>\n",
       "      <td>1249.46</td>\n",
       "      <td>1251.09</td>\n",
       "      <td>1247.63</td>\n",
       "      <td>1248.53</td>\n",
       "      <td>460,036,576.00</td>\n",
       "    </tr>\n",
       "    <tr>\n",
       "      <th>...</th>\n",
       "      <td>...</td>\n",
       "      <td>...</td>\n",
       "      <td>...</td>\n",
       "      <td>...</td>\n",
       "      <td>...</td>\n",
       "    </tr>\n",
       "    <tr>\n",
       "      <th>2024-11-21</th>\n",
       "      <td>2711.56</td>\n",
       "      <td>2722.59</td>\n",
       "      <td>2676.25</td>\n",
       "      <td>2680.44</td>\n",
       "      <td>8,257,643,886.83</td>\n",
       "    </tr>\n",
       "    <tr>\n",
       "      <th>2024-11-24</th>\n",
       "      <td>2690.52</td>\n",
       "      <td>2698.76</td>\n",
       "      <td>2661.22</td>\n",
       "      <td>2667.40</td>\n",
       "      <td>7,728,861,250.73</td>\n",
       "    </tr>\n",
       "    <tr>\n",
       "      <th>2024-11-25</th>\n",
       "      <td>2682.29</td>\n",
       "      <td>2694.67</td>\n",
       "      <td>2661.21</td>\n",
       "      <td>2683.24</td>\n",
       "      <td>6,345,809,597.84</td>\n",
       "    </tr>\n",
       "    <tr>\n",
       "      <th>2024-11-26</th>\n",
       "      <td>2704.58</td>\n",
       "      <td>2719.84</td>\n",
       "      <td>2685.64</td>\n",
       "      <td>2716.66</td>\n",
       "      <td>7,449,898,987.89</td>\n",
       "    </tr>\n",
       "    <tr>\n",
       "      <th>2024-11-27</th>\n",
       "      <td>2721.52</td>\n",
       "      <td>2755.98</td>\n",
       "      <td>2721.35</td>\n",
       "      <td>2755.47</td>\n",
       "      <td>9,312,934,840.36</td>\n",
       "    </tr>\n",
       "  </tbody>\n",
       "</table>\n",
       "<p>1223 rows × 5 columns</p>\n",
       "</div>"
      ],
      "text/plain": [
       "               Open     High      Low    Close            Volume\n",
       "Date                                                            \n",
       "2019-07-07  1262.98  1263.82  1255.01  1256.04    540,529,472.00\n",
       "2019-07-08  1256.15  1257.57  1245.62  1247.35    591,053,824.00\n",
       "2019-07-09  1247.41  1252.20  1244.36  1250.27    468,263,776.00\n",
       "2019-07-10  1250.43  1251.89  1246.15  1249.15    573,447,488.00\n",
       "2019-07-11  1249.46  1251.09  1247.63  1248.53    460,036,576.00\n",
       "...             ...      ...      ...      ...               ...\n",
       "2024-11-21  2711.56  2722.59  2676.25  2680.44  8,257,643,886.83\n",
       "2024-11-24  2690.52  2698.76  2661.22  2667.40  7,728,861,250.73\n",
       "2024-11-25  2682.29  2694.67  2661.21  2683.24  6,345,809,597.84\n",
       "2024-11-26  2704.58  2719.84  2685.64  2716.66  7,449,898,987.89\n",
       "2024-11-27  2721.52  2755.98  2721.35  2755.47  9,312,934,840.36\n",
       "\n",
       "[1223 rows x 5 columns]"
      ]
     },
     "execution_count": 2,
     "metadata": {},
     "output_type": "execute_result"
    }
   ],
   "source": [
    "data=pd.read_csv('NEPSE.csv',index_col='Date',parse_dates=True)\n",
    "data"
   ]
  },
  {
   "cell_type": "code",
   "execution_count": 3,
   "id": "1a0755f0-1ee5-4084-8b8a-123464123388",
   "metadata": {},
   "outputs": [
    {
     "data": {
      "text/html": [
       "<div>\n",
       "<style scoped>\n",
       "    .dataframe tbody tr th:only-of-type {\n",
       "        vertical-align: middle;\n",
       "    }\n",
       "\n",
       "    .dataframe tbody tr th {\n",
       "        vertical-align: top;\n",
       "    }\n",
       "\n",
       "    .dataframe thead th {\n",
       "        text-align: right;\n",
       "    }\n",
       "</style>\n",
       "<table border=\"1\" class=\"dataframe\">\n",
       "  <thead>\n",
       "    <tr style=\"text-align: right;\">\n",
       "      <th></th>\n",
       "      <th>Open</th>\n",
       "      <th>High</th>\n",
       "      <th>Low</th>\n",
       "      <th>Close</th>\n",
       "      <th>Volume</th>\n",
       "    </tr>\n",
       "    <tr>\n",
       "      <th>Date</th>\n",
       "      <th></th>\n",
       "      <th></th>\n",
       "      <th></th>\n",
       "      <th></th>\n",
       "      <th></th>\n",
       "    </tr>\n",
       "  </thead>\n",
       "  <tbody>\n",
       "    <tr>\n",
       "      <th>2019-07-07</th>\n",
       "      <td>1262.98</td>\n",
       "      <td>1263.82</td>\n",
       "      <td>1255.01</td>\n",
       "      <td>1256.04</td>\n",
       "      <td>540,529,472.00</td>\n",
       "    </tr>\n",
       "    <tr>\n",
       "      <th>2019-07-08</th>\n",
       "      <td>1256.15</td>\n",
       "      <td>1257.57</td>\n",
       "      <td>1245.62</td>\n",
       "      <td>1247.35</td>\n",
       "      <td>591,053,824.00</td>\n",
       "    </tr>\n",
       "    <tr>\n",
       "      <th>2019-07-09</th>\n",
       "      <td>1247.41</td>\n",
       "      <td>1252.20</td>\n",
       "      <td>1244.36</td>\n",
       "      <td>1250.27</td>\n",
       "      <td>468,263,776.00</td>\n",
       "    </tr>\n",
       "    <tr>\n",
       "      <th>2019-07-10</th>\n",
       "      <td>1250.43</td>\n",
       "      <td>1251.89</td>\n",
       "      <td>1246.15</td>\n",
       "      <td>1249.15</td>\n",
       "      <td>573,447,488.00</td>\n",
       "    </tr>\n",
       "    <tr>\n",
       "      <th>2019-07-11</th>\n",
       "      <td>1249.46</td>\n",
       "      <td>1251.09</td>\n",
       "      <td>1247.63</td>\n",
       "      <td>1248.53</td>\n",
       "      <td>460,036,576.00</td>\n",
       "    </tr>\n",
       "  </tbody>\n",
       "</table>\n",
       "</div>"
      ],
      "text/plain": [
       "               Open     High      Low    Close          Volume\n",
       "Date                                                          \n",
       "2019-07-07  1262.98  1263.82  1255.01  1256.04  540,529,472.00\n",
       "2019-07-08  1256.15  1257.57  1245.62  1247.35  591,053,824.00\n",
       "2019-07-09  1247.41  1252.20  1244.36  1250.27  468,263,776.00\n",
       "2019-07-10  1250.43  1251.89  1246.15  1249.15  573,447,488.00\n",
       "2019-07-11  1249.46  1251.09  1247.63  1248.53  460,036,576.00"
      ]
     },
     "execution_count": 3,
     "metadata": {},
     "output_type": "execute_result"
    }
   ],
   "source": [
    "data.head()"
   ]
  },
  {
   "cell_type": "code",
   "execution_count": 4,
   "id": "5983a7e2-10bd-425a-a407-b993036cf755",
   "metadata": {},
   "outputs": [
    {
     "data": {
      "text/html": [
       "<div>\n",
       "<style scoped>\n",
       "    .dataframe tbody tr th:only-of-type {\n",
       "        vertical-align: middle;\n",
       "    }\n",
       "\n",
       "    .dataframe tbody tr th {\n",
       "        vertical-align: top;\n",
       "    }\n",
       "\n",
       "    .dataframe thead th {\n",
       "        text-align: right;\n",
       "    }\n",
       "</style>\n",
       "<table border=\"1\" class=\"dataframe\">\n",
       "  <thead>\n",
       "    <tr style=\"text-align: right;\">\n",
       "      <th></th>\n",
       "      <th>Open</th>\n",
       "      <th>High</th>\n",
       "      <th>Low</th>\n",
       "      <th>Close</th>\n",
       "      <th>Volume</th>\n",
       "    </tr>\n",
       "    <tr>\n",
       "      <th>Date</th>\n",
       "      <th></th>\n",
       "      <th></th>\n",
       "      <th></th>\n",
       "      <th></th>\n",
       "      <th></th>\n",
       "    </tr>\n",
       "  </thead>\n",
       "  <tbody>\n",
       "    <tr>\n",
       "      <th>2024-11-21</th>\n",
       "      <td>2711.56</td>\n",
       "      <td>2722.59</td>\n",
       "      <td>2676.25</td>\n",
       "      <td>2680.44</td>\n",
       "      <td>8,257,643,886.83</td>\n",
       "    </tr>\n",
       "    <tr>\n",
       "      <th>2024-11-24</th>\n",
       "      <td>2690.52</td>\n",
       "      <td>2698.76</td>\n",
       "      <td>2661.22</td>\n",
       "      <td>2667.40</td>\n",
       "      <td>7,728,861,250.73</td>\n",
       "    </tr>\n",
       "    <tr>\n",
       "      <th>2024-11-25</th>\n",
       "      <td>2682.29</td>\n",
       "      <td>2694.67</td>\n",
       "      <td>2661.21</td>\n",
       "      <td>2683.24</td>\n",
       "      <td>6,345,809,597.84</td>\n",
       "    </tr>\n",
       "    <tr>\n",
       "      <th>2024-11-26</th>\n",
       "      <td>2704.58</td>\n",
       "      <td>2719.84</td>\n",
       "      <td>2685.64</td>\n",
       "      <td>2716.66</td>\n",
       "      <td>7,449,898,987.89</td>\n",
       "    </tr>\n",
       "    <tr>\n",
       "      <th>2024-11-27</th>\n",
       "      <td>2721.52</td>\n",
       "      <td>2755.98</td>\n",
       "      <td>2721.35</td>\n",
       "      <td>2755.47</td>\n",
       "      <td>9,312,934,840.36</td>\n",
       "    </tr>\n",
       "  </tbody>\n",
       "</table>\n",
       "</div>"
      ],
      "text/plain": [
       "               Open     High      Low    Close            Volume\n",
       "Date                                                            \n",
       "2024-11-21  2711.56  2722.59  2676.25  2680.44  8,257,643,886.83\n",
       "2024-11-24  2690.52  2698.76  2661.22  2667.40  7,728,861,250.73\n",
       "2024-11-25  2682.29  2694.67  2661.21  2683.24  6,345,809,597.84\n",
       "2024-11-26  2704.58  2719.84  2685.64  2716.66  7,449,898,987.89\n",
       "2024-11-27  2721.52  2755.98  2721.35  2755.47  9,312,934,840.36"
      ]
     },
     "execution_count": 4,
     "metadata": {},
     "output_type": "execute_result"
    }
   ],
   "source": [
    "data.tail()"
   ]
  },
  {
   "cell_type": "code",
   "execution_count": 5,
   "id": "27ac92bf-b5c1-4842-a6d1-50d33a9153a9",
   "metadata": {},
   "outputs": [
    {
     "name": "stdout",
     "output_type": "stream",
     "text": [
      "<class 'pandas.core.frame.DataFrame'>\n",
      "DatetimeIndex: 1223 entries, 2019-07-07 to 2024-11-27\n",
      "Data columns (total 5 columns):\n",
      " #   Column  Non-Null Count  Dtype  \n",
      "---  ------  --------------  -----  \n",
      " 0   Open    1223 non-null   float64\n",
      " 1   High    1223 non-null   float64\n",
      " 2   Low     1223 non-null   float64\n",
      " 3   Close   1223 non-null   float64\n",
      " 4   Volume  1223 non-null   object \n",
      "dtypes: float64(4), object(1)\n",
      "memory usage: 57.3+ KB\n"
     ]
    }
   ],
   "source": [
    "data.info()"
   ]
  },
  {
   "cell_type": "code",
   "execution_count": 6,
   "id": "701d36f5-9cad-4bbd-992f-0102e7e8434a",
   "metadata": {},
   "outputs": [
    {
     "name": "stdout",
     "output_type": "stream",
     "text": [
      "Null Values: 0\n"
     ]
    }
   ],
   "source": [
    "print('Null Values:',data.isnull().values.sum())"
   ]
  },
  {
   "cell_type": "code",
   "execution_count": 7,
   "id": "2a6544ba-65e4-4098-9835-493b5499291e",
   "metadata": {},
   "outputs": [],
   "source": [
    "# Remove any duplicate index\n",
    "data = data.loc[~data.index.duplicated(keep='first')]"
   ]
  },
  {
   "cell_type": "code",
   "execution_count": 8,
   "id": "b36232de-dc80-4af0-93c7-94d3812d52a1",
   "metadata": {},
   "outputs": [
    {
     "name": "stdout",
     "output_type": "stream",
     "text": [
      "Total number of days present in the dataset:  1221\n",
      "Total number of fields present in the dataset:  5\n"
     ]
    }
   ],
   "source": [
    "print('Total number of days present in the dataset: ',data.shape[0])\n",
    "print('Total number of fields present in the dataset: ',data.shape[1])"
   ]
  },
  {
   "cell_type": "code",
   "execution_count": 9,
   "id": "cf44e4b6-cff6-487f-99d2-e708a821bc13",
   "metadata": {},
   "outputs": [
    {
     "name": "stderr",
     "output_type": "stream",
     "text": [
      "C:\\Users\\Administrator\\AppData\\Local\\Temp\\ipykernel_12108\\1693081563.py:1: SettingWithCopyWarning:\n",
      "\n",
      "\n",
      "A value is trying to be set on a copy of a slice from a DataFrame.\n",
      "Try using .loc[row_indexer,col_indexer] = value instead\n",
      "\n",
      "See the caveats in the documentation: https://pandas.pydata.org/pandas-docs/stable/user_guide/indexing.html#returning-a-view-versus-a-copy\n",
      "\n"
     ]
    }
   ],
   "source": [
    "data['Volume'] = data['Volume'].str.replace(',','')"
   ]
  },
  {
   "cell_type": "code",
   "execution_count": 10,
   "id": "307289dc-96d6-45da-8068-27ad9e5307f0",
   "metadata": {},
   "outputs": [
    {
     "name": "stderr",
     "output_type": "stream",
     "text": [
      "C:\\Users\\Administrator\\AppData\\Local\\Temp\\ipykernel_12108\\234865643.py:1: SettingWithCopyWarning:\n",
      "\n",
      "\n",
      "A value is trying to be set on a copy of a slice from a DataFrame.\n",
      "Try using .loc[row_indexer,col_indexer] = value instead\n",
      "\n",
      "See the caveats in the documentation: https://pandas.pydata.org/pandas-docs/stable/user_guide/indexing.html#returning-a-view-versus-a-copy\n",
      "\n"
     ]
    }
   ],
   "source": [
    "data['Volume'] =data['Volume'].astype(float)"
   ]
  },
  {
   "cell_type": "code",
   "execution_count": 11,
   "id": "af42220b-32ea-4f13-a2f3-e2b15157a1e7",
   "metadata": {},
   "outputs": [
    {
     "name": "stdout",
     "output_type": "stream",
     "text": [
      "<class 'pandas.core.frame.DataFrame'>\n",
      "DatetimeIndex: 1221 entries, 2019-07-07 to 2024-11-27\n",
      "Data columns (total 5 columns):\n",
      " #   Column  Non-Null Count  Dtype  \n",
      "---  ------  --------------  -----  \n",
      " 0   Open    1221 non-null   float64\n",
      " 1   High    1221 non-null   float64\n",
      " 2   Low     1221 non-null   float64\n",
      " 3   Close   1221 non-null   float64\n",
      " 4   Volume  1221 non-null   float64\n",
      "dtypes: float64(5)\n",
      "memory usage: 57.2 KB\n"
     ]
    }
   ],
   "source": [
    "data.info()"
   ]
  },
  {
   "cell_type": "code",
   "execution_count": 12,
   "id": "0849affc-4c2c-40e7-88a1-51a515cbda5b",
   "metadata": {},
   "outputs": [
    {
     "data": {
      "text/html": [
       "<div>\n",
       "<style scoped>\n",
       "    .dataframe tbody tr th:only-of-type {\n",
       "        vertical-align: middle;\n",
       "    }\n",
       "\n",
       "    .dataframe tbody tr th {\n",
       "        vertical-align: top;\n",
       "    }\n",
       "\n",
       "    .dataframe thead th {\n",
       "        text-align: right;\n",
       "    }\n",
       "</style>\n",
       "<table border=\"1\" class=\"dataframe\">\n",
       "  <thead>\n",
       "    <tr style=\"text-align: right;\">\n",
       "      <th></th>\n",
       "      <th>Open</th>\n",
       "      <th>High</th>\n",
       "      <th>Low</th>\n",
       "      <th>Close</th>\n",
       "      <th>Volume</th>\n",
       "    </tr>\n",
       "  </thead>\n",
       "  <tbody>\n",
       "    <tr>\n",
       "      <th>count</th>\n",
       "      <td>1221.000000</td>\n",
       "      <td>1221.000000</td>\n",
       "      <td>1221.000000</td>\n",
       "      <td>1221.000000</td>\n",
       "      <td>1.221000e+03</td>\n",
       "    </tr>\n",
       "    <tr>\n",
       "      <th>mean</th>\n",
       "      <td>2081.038659</td>\n",
       "      <td>2098.568362</td>\n",
       "      <td>2059.666808</td>\n",
       "      <td>2077.910082</td>\n",
       "      <td>4.021612e+09</td>\n",
       "    </tr>\n",
       "    <tr>\n",
       "      <th>std</th>\n",
       "      <td>527.163596</td>\n",
       "      <td>532.221253</td>\n",
       "      <td>518.653586</td>\n",
       "      <td>524.439448</td>\n",
       "      <td>4.205573e+09</td>\n",
       "    </tr>\n",
       "    <tr>\n",
       "      <th>min</th>\n",
       "      <td>1109.090000</td>\n",
       "      <td>1111.760000</td>\n",
       "      <td>1102.460000</td>\n",
       "      <td>1109.160000</td>\n",
       "      <td>0.000000e+00</td>\n",
       "    </tr>\n",
       "    <tr>\n",
       "      <th>25%</th>\n",
       "      <td>1850.730000</td>\n",
       "      <td>1864.740000</td>\n",
       "      <td>1837.850000</td>\n",
       "      <td>1851.230000</td>\n",
       "      <td>1.189931e+09</td>\n",
       "    </tr>\n",
       "    <tr>\n",
       "      <th>50%</th>\n",
       "      <td>2050.280000</td>\n",
       "      <td>2068.910000</td>\n",
       "      <td>2030.190000</td>\n",
       "      <td>2049.280000</td>\n",
       "      <td>2.682587e+09</td>\n",
       "    </tr>\n",
       "    <tr>\n",
       "      <th>75%</th>\n",
       "      <td>2542.570000</td>\n",
       "      <td>2568.250000</td>\n",
       "      <td>2510.110000</td>\n",
       "      <td>2536.110000</td>\n",
       "      <td>5.395673e+09</td>\n",
       "    </tr>\n",
       "    <tr>\n",
       "      <th>max</th>\n",
       "      <td>3208.530800</td>\n",
       "      <td>3227.110000</td>\n",
       "      <td>3178.250000</td>\n",
       "      <td>3198.190000</td>\n",
       "      <td>2.995852e+10</td>\n",
       "    </tr>\n",
       "  </tbody>\n",
       "</table>\n",
       "</div>"
      ],
      "text/plain": [
       "              Open         High          Low        Close        Volume\n",
       "count  1221.000000  1221.000000  1221.000000  1221.000000  1.221000e+03\n",
       "mean   2081.038659  2098.568362  2059.666808  2077.910082  4.021612e+09\n",
       "std     527.163596   532.221253   518.653586   524.439448  4.205573e+09\n",
       "min    1109.090000  1111.760000  1102.460000  1109.160000  0.000000e+00\n",
       "25%    1850.730000  1864.740000  1837.850000  1851.230000  1.189931e+09\n",
       "50%    2050.280000  2068.910000  2030.190000  2049.280000  2.682587e+09\n",
       "75%    2542.570000  2568.250000  2510.110000  2536.110000  5.395673e+09\n",
       "max    3208.530800  3227.110000  3178.250000  3198.190000  2.995852e+10"
      ]
     },
     "execution_count": 12,
     "metadata": {},
     "output_type": "execute_result"
    }
   ],
   "source": [
    "data.describe()"
   ]
  },
  {
   "cell_type": "code",
   "execution_count": 13,
   "id": "9df60465-c40c-4a56-9c95-1fd990e4ff28",
   "metadata": {},
   "outputs": [
    {
     "data": {
      "text/plain": [
       "Index(['Open', 'High', 'Low', 'Close', 'Volume'], dtype='object')"
      ]
     },
     "execution_count": 13,
     "metadata": {},
     "output_type": "execute_result"
    }
   ],
   "source": [
    "data.columns"
   ]
  },
  {
   "cell_type": "code",
   "execution_count": 14,
   "id": "3574beae-ced8-4170-8f0d-17675ab8387b",
   "metadata": {},
   "outputs": [
    {
     "data": {
      "text/plain": [
       "Text(0.5, 1.0, 'Graph Of Moving Averages Of 100 Days')"
      ]
     },
     "execution_count": 14,
     "metadata": {},
     "output_type": "execute_result"
    },
    {
     "data": {
      "image/png": "[encoded data removed]",
      "text/plain": [
       "<Figure size 1200x600 with 1 Axes>"
      ]
     },
     "metadata": {},
     "output_type": "display_data"
    }
   ],
   "source": [
    "#moving average of 100 days\n",
    "ma100 = data.Close.rolling(100).mean()\n",
    "ma100\n",
    "plt.figure(figsize = (12,6))\n",
    "plt.plot(data.Close)\n",
    "plt.plot(ma100, 'r')\n",
    "plt.title('Graph Of Moving Averages Of 100 Days')"
   ]
  },
  {
   "cell_type": "code",
   "execution_count": 15,
   "id": "d537a4d1-7fd0-4f27-be58-3c7f6e7b903d",
   "metadata": {},
   "outputs": [
    {
     "data": {
      "text/plain": [
       "Text(0.5, 1.0, 'Comparison Of 100 Days And 200 Days Moving Averages')"
      ]
     },
     "execution_count": 15,
     "metadata": {},
     "output_type": "execute_result"
    },
    {
     "data": {
      "image/png": "[encoded data removed]",
      "text/plain": [
       "<Figure size 1200x600 with 1 Axes>"
      ]
     },
     "metadata": {},
     "output_type": "display_data"
    }
   ],
   "source": [
    "#moving average of 200 days\n",
    "ma200 = data.Close.rolling(200).mean()\n",
    "ma200\n",
    "plt.figure(figsize = (12,6))\n",
    "plt.plot(data.Close)\n",
    "plt.plot(ma100, 'r')\n",
    "plt.plot(ma200, 'g')\n",
    "plt.title('Comparison Of 100 Days And 200 Days Moving Averages')"
   ]
  },
  {
   "cell_type": "code",
   "execution_count": 16,
   "id": "51687f1c-7fc1-48ec-abd1-024e319bdceb",
   "metadata": {},
   "outputs": [
    {
     "data": {
      "image/png": "[encoded data removed]",
      "text/plain": [
       "<Figure size 1200x400 with 1 Axes>"
      ]
     },
     "metadata": {},
     "output_type": "display_data"
    },
    {
     "data": {
      "image/png": "[encoded data removed]",
      "text/plain": [
       "<Figure size 1200x400 with 1 Axes>"
      ]
     },
     "metadata": {},
     "output_type": "display_data"
    },
    {
     "data": {
      "image/png": "[encoded data removed]",
      "text/plain": [
       "<Figure size 1200x400 with 1 Axes>"
      ]
     },
     "metadata": {},
     "output_type": "display_data"
    },
    {
     "data": {
      "image/png": "[encoded data removed]",
      "text/plain": [
       "<Figure size 1200x400 with 1 Axes>"
      ]
     },
     "metadata": {},
     "output_type": "display_data"
    },
    {
     "data": {
      "image/png": "[encoded data removed]",
      "text/plain": [
       "<Figure size 1200x400 with 1 Axes>"
      ]
     },
     "metadata": {},
     "output_type": "display_data"
    }
   ],
   "source": [
    "for columns in data.columns:\n",
    "    plt.figure(figsize=(12,4))\n",
    "    plt.title(f\"Nepse {columns} Price\")\n",
    "    plt.plot(data.index,data[columns])\n",
    "    plt.xticks(rotation=45)"
   ]
  },
  {
   "cell_type": "code",
   "execution_count": 17,
   "id": "8949aa64-6df1-45c2-90d7-f28e055f2c6c",
   "metadata": {},
   "outputs": [
    {
     "data": {
      "text/plain": [
       "<matplotlib.legend.Legend at 0x11457f74350>"
      ]
     },
     "execution_count": 17,
     "metadata": {},
     "output_type": "execute_result"
    },
    {
     "data": {
      "image/png": "[encoded data removed]",
      "text/plain": [
       "<Figure size 1200x400 with 1 Axes>"
      ]
     },
     "metadata": {},
     "output_type": "display_data"
    }
   ],
   "source": [
    "plt.figure(figsize=(12,4))\n",
    "plt.title(\"Nepse Price\")\n",
    "for columns in data.columns:\n",
    "    if(columns !='Volume'):\n",
    "        plt.plot(data.index,data[columns],label=columns)\n",
    "plt.xticks(rotation=45)\n",
    "plt.legend()"
   ]
  },
  {
   "cell_type": "code",
   "execution_count": 18,
   "id": "9ca76874-4128-4b24-a6ae-c34df8fd5f92",
   "metadata": {},
   "outputs": [
    {
     "data": {
      "text/plain": [
       "(1221,)"
      ]
     },
     "execution_count": 18,
     "metadata": {},
     "output_type": "execute_result"
    }
   ],
   "source": [
    "data=data['Close']\n",
    "data.shape"
   ]
  },
  {
   "cell_type": "code",
   "execution_count": 19,
   "id": "b913c397-c22c-4e67-93a1-bde18227598e",
   "metadata": {},
   "outputs": [
    {
     "data": {
      "text/plain": [
       "Date\n",
       "2019-07-07    1256.04\n",
       "2019-07-08    1247.35\n",
       "2019-07-09    1250.27\n",
       "2019-07-10    1249.15\n",
       "2019-07-11    1248.53\n",
       "               ...   \n",
       "2024-11-21    2680.44\n",
       "2024-11-24    2667.40\n",
       "2024-11-25    2683.24\n",
       "2024-11-26    2716.66\n",
       "2024-11-27    2755.47\n",
       "Name: Close, Length: 1221, dtype: float64"
      ]
     },
     "execution_count": 19,
     "metadata": {},
     "output_type": "execute_result"
    }
   ],
   "source": [
    "data"
   ]
  },
  {
   "cell_type": "code",
   "execution_count": 20,
   "id": "5e6303fe-1cca-4250-999e-1cf762a4d71e",
   "metadata": {},
   "outputs": [
    {
     "data": {
      "text/plain": [
       "array([1256.04, 1247.35, 1250.27, ..., 2683.24, 2716.66, 2755.47])"
      ]
     },
     "execution_count": 20,
     "metadata": {},
     "output_type": "execute_result"
    }
   ],
   "source": [
    "np.array(data)"
   ]
  },
  {
   "cell_type": "code",
   "execution_count": 21,
   "id": "23474115-0857-4743-9766-26966b862be4",
   "metadata": {},
   "outputs": [
    {
     "data": {
      "text/plain": [
       "array([[0.07031014],\n",
       "       [0.06615032],\n",
       "       [0.0675481 ],\n",
       "       ...,\n",
       "       [0.75349803],\n",
       "       [0.76949589],\n",
       "       [0.78807389]])"
      ]
     },
     "execution_count": 21,
     "metadata": {},
     "output_type": "execute_result"
    }
   ],
   "source": [
    "scaler=MinMaxScaler(feature_range=(0,1))\n",
    "data=scaler.fit_transform(np.array(data).reshape(-1,1));data"
   ]
  },
  {
   "cell_type": "code",
   "execution_count": 22,
   "id": "5366c8d2-2dee-433f-85c1-5e2c02afaf19",
   "metadata": {},
   "outputs": [
    {
     "name": "stdout",
     "output_type": "stream",
     "text": [
      "train_data:  (854, 1)\n",
      "test_data:  (367, 1)\n"
     ]
    }
   ],
   "source": [
    " #we keep the training set as 70% and 30% testing set\n",
    "\n",
    "training_size=int(len(data)*0.70)\n",
    "test_size=len(data)-training_size\n",
    "train_data,test_data=data[0:training_size,:],data[training_size:len(data),:1]\n",
    "print(\"train_data: \", train_data.shape)\n",
    "print(\"test_data: \", test_data.shape)"
   ]
  },
  {
   "cell_type": "code",
   "execution_count": 23,
   "id": "4cda1303-1366-495c-a432-2387bf4c119e",
   "metadata": {},
   "outputs": [],
   "source": [
    "#convert an array of values into a dataset matrix\n",
    "def create_dataset(dataset, time_step=1):\n",
    "    dataX, dataY = [], []\n",
    "    for i in range(len(dataset)-time_step-1):\n",
    "        a = dataset[i:(i+time_step), 0]   ###i=0, 0,1,2,3-----99   100\n",
    "        dataX.append(a)\n",
    "        dataY.append(dataset[i + time_step, 0])\n",
    "    return np.array(dataX), np.array(dataY)"
   ]
  },
  {
   "cell_type": "code",
   "execution_count": 24,
   "id": "b8bfc0dd-2690-45cc-96a3-f3f7c0bbe952",
   "metadata": {},
   "outputs": [
    {
     "name": "stdout",
     "output_type": "stream",
     "text": [
      "(753, 100)\n",
      "(753,)\n",
      "(266, 100)\n",
      "(266,)\n"
     ]
    },
    {
     "data": {
      "text/plain": [
       "(None, None, None, None)"
      ]
     },
     "execution_count": 24,
     "metadata": {},
     "output_type": "execute_result"
    }
   ],
   "source": [
    "# reshape into X=t,t+1,t+2,t+3 and Y=t+4\n",
    "time_step = 100\n",
    "X_train, y_train = create_dataset(train_data, time_step)\n",
    "X_test, ytest = create_dataset(test_data, time_step)\n",
    "print(X_train.shape), print(y_train.shape),print(X_test.shape), print(ytest.shape)"
   ]
  },
  {
   "cell_type": "code",
   "execution_count": 25,
   "id": "c69f7e14-381d-4360-8252-c75513902a6c",
   "metadata": {},
   "outputs": [
    {
     "name": "stdout",
     "output_type": "stream",
     "text": [
      "X_train:  (753, 100, 1)\n",
      "X_test:  (266, 100, 1)\n"
     ]
    }
   ],
   "source": [
    "# reshape input to be [samples, time steps, features] which is required for LSTM\n",
    "X_train =X_train.reshape(X_train.shape[0],X_train.shape[1] , 1)\n",
    "X_test = X_test.reshape(X_test.shape[0],X_test.shape[1] , 1)\n",
    "\n",
    "print(\"X_train: \", X_train.shape)\n",
    "print(\"X_test: \", X_test.shape)"
   ]
  },
  {
   "cell_type": "code",
   "execution_count": 26,
   "id": "2423b4dd-d613-47ec-952c-268b4424fee1",
   "metadata": {},
   "outputs": [],
   "source": [
    "from keras.models import Sequential\n",
    "from keras.layers import LSTM,Dense,Dropout\n",
    "import tensorflow as tf\n",
    "from tensorflow import keras"
   ]
  },
  {
   "cell_type": "code",
   "execution_count": 27,
   "id": "244fc188-d9f6-4a73-97ba-188c0bd9a3ce",
   "metadata": {},
   "outputs": [
    {
     "name": "stderr",
     "output_type": "stream",
     "text": [
      "C:\\Users\\Administrator\\Desktop\\anoconda\\Lib\\site-packages\\keras\\src\\layers\\rnn\\rnn.py:200: UserWarning:\n",
      "\n",
      "Do not pass an `input_shape`/`input_dim` argument to a layer. When using Sequential models, prefer using an `Input(shape)` object as the first layer in the model instead.\n",
      "\n"
     ]
    }
   ],
   "source": [
    "# Define the updated LSTM model with L2 regularization in the Dense layers\n",
    "model = Sequential()\n",
    "model.add(LSTM(256, input_shape=(X_train.shape[1], X_train.shape[2]), return_sequences=True, activation='tanh'))\n",
    "model.add(Dropout(0.3))\n",
    "model.add(LSTM(128, return_sequences=True, activation='tanh'))\n",
    "model.add(Dropout(0.3))\n",
    "model.add(LSTM(64, activation='tanh'))\n",
    "model.add(Dropout(0.3))\n",
    "model.add(Dense(64, activation='relu', kernel_regularizer=l2(0.01)))\n",
    "model.add(Dense(32, activation='relu', kernel_regularizer=l2(0.01)))\n",
    "model.add(Dense(1))\n",
    "\n",
    "\n",
    "\n",
    "# Compile the model with a custom learning rate\n",
    "initial_learning_rate = 0.001\n",
    "lr_schedule = LearningRateScheduler(lambda epoch: initial_learning_rate * np.exp(-epoch / 100), verbose=1)\n",
    "optimizer = Adam(learning_rate=initial_learning_rate)\n",
    "model.compile(loss='mean_squared_error', optimizer=optimizer)"
   ]
  },
  {
   "cell_type": "code",
   "execution_count": 28,
   "id": "e0869140-cab8-448e-84a3-366f31e5b2db",
   "metadata": {},
   "outputs": [],
   "source": [
    "early_stopping = EarlyStopping(monitor='val_loss', patience=10, restore_best_weights=True)"
   ]
  },
  {
   "cell_type": "code",
   "execution_count": 29,
   "id": "51e54f95-4997-49d0-9ee2-233ddcab0d5c",
   "metadata": {},
   "outputs": [
    {
     "name": "stdout",
     "output_type": "stream",
     "text": [
      "\n",
      "Epoch 1: LearningRateScheduler setting learning rate to 0.001.\n",
      "Epoch 1/100\n",
      "\u001b[1m24/24\u001b[0m \u001b[32m━━━━━━━━━━━━━━━━━━━━\u001b[0m\u001b[37m\u001b[0m \u001b[1m21s\u001b[0m 466ms/step - loss: 1.1729 - val_loss: 0.8213 - learning_rate: 0.0010\n",
      "\n",
      "Epoch 2: LearningRateScheduler setting learning rate to 0.000990049833749168.\n",
      "Epoch 2/100\n",
      "\u001b[1m24/24\u001b[0m \u001b[32m━━━━━━━━━━━━━━━━━━━━\u001b[0m\u001b[37m\u001b[0m \u001b[1m9s\u001b[0m 389ms/step - loss: 0.7706 - val_loss: 0.6138 - learning_rate: 9.9005e-04\n",
      "\n",
      "Epoch 3: LearningRateScheduler setting learning rate to 0.0009801986733067552.\n",
      "Epoch 3/100\n",
      "\u001b[1m24/24\u001b[0m \u001b[32m━━━━━━━━━━━━━━━━━━━━\u001b[0m\u001b[37m\u001b[0m \u001b[1m9s\u001b[0m 395ms/step - loss: 0.5755 - val_loss: 0.4570 - learning_rate: 9.8020e-04\n",
      "\n",
      "Epoch 4: LearningRateScheduler setting learning rate to 0.0009704455335485082.\n",
      "Epoch 4/100\n",
      "\u001b[1m24/24\u001b[0m \u001b[32m━━━━━━━━━━━━━━━━━━━━\u001b[0m\u001b[37m\u001b[0m \u001b[1m10s\u001b[0m 402ms/step - loss: 0.4283 - val_loss: 0.3384 - learning_rate: 9.7045e-04\n",
      "\n",
      "Epoch 5: LearningRateScheduler setting learning rate to 0.0009607894391523232.\n",
      "Epoch 5/100\n",
      "\u001b[1m24/24\u001b[0m \u001b[32m━━━━━━━━━━━━━━━━━━━━\u001b[0m\u001b[37m\u001b[0m \u001b[1m10s\u001b[0m 410ms/step - loss: 0.3167 - val_loss: 0.2488 - learning_rate: 9.6079e-04\n",
      "\n",
      "Epoch 6: LearningRateScheduler setting learning rate to 0.000951229424500714.\n",
      "Epoch 6/100\n",
      "\u001b[1m24/24\u001b[0m \u001b[32m━━━━━━━━━━━━━━━━━━━━\u001b[0m\u001b[37m\u001b[0m \u001b[1m10s\u001b[0m 410ms/step - loss: 0.2351 - val_loss: 0.1840 - learning_rate: 9.5123e-04\n",
      "\n",
      "Epoch 7: LearningRateScheduler setting learning rate to 0.0009417645335842487.\n",
      "Epoch 7/100\n",
      "\u001b[1m24/24\u001b[0m \u001b[32m━━━━━━━━━━━━━━━━━━━━\u001b[0m\u001b[37m\u001b[0m \u001b[1m9s\u001b[0m 388ms/step - loss: 0.1738 - val_loss: 0.1367 - learning_rate: 9.4176e-04\n",
      "\n",
      "Epoch 8: LearningRateScheduler setting learning rate to 0.0009323938199059483.\n",
      "Epoch 8/100\n",
      "\u001b[1m24/24\u001b[0m \u001b[32m━━━━━━━━━━━━━━━━━━━━\u001b[0m\u001b[37m\u001b[0m \u001b[1m9s\u001b[0m 392ms/step - loss: 0.1313 - val_loss: 0.1026 - learning_rate: 9.3239e-04\n",
      "\n",
      "Epoch 9: LearningRateScheduler setting learning rate to 0.0009231163463866358.\n",
      "Epoch 9/100\n",
      "\u001b[1m24/24\u001b[0m \u001b[32m━━━━━━━━━━━━━━━━━━━━\u001b[0m\u001b[37m\u001b[0m \u001b[1m9s\u001b[0m 389ms/step - loss: 0.0995 - val_loss: 0.0767 - learning_rate: 9.2312e-04\n",
      "\n",
      "Epoch 10: LearningRateScheduler setting learning rate to 0.0009139311852712283.\n",
      "Epoch 10/100\n",
      "\u001b[1m24/24\u001b[0m \u001b[32m━━━━━━━━━━━━━━━━━━━━\u001b[0m\u001b[37m\u001b[0m \u001b[1m9s\u001b[0m 391ms/step - loss: 0.0749 - val_loss: 0.0584 - learning_rate: 9.1393e-04\n",
      "\n",
      "Epoch 11: LearningRateScheduler setting learning rate to 0.0009048374180359595.\n",
      "Epoch 11/100\n",
      "\u001b[1m24/24\u001b[0m \u001b[32m━━━━━━━━━━━━━━━━━━━━\u001b[0m\u001b[37m\u001b[0m \u001b[1m9s\u001b[0m 387ms/step - loss: 0.0572 - val_loss: 0.0459 - learning_rate: 9.0484e-04\n",
      "\n",
      "Epoch 12: LearningRateScheduler setting learning rate to 0.0008958341352965282.\n",
      "Epoch 12/100\n",
      "\u001b[1m24/24\u001b[0m \u001b[32m━━━━━━━━━━━━━━━━━━━━\u001b[0m\u001b[37m\u001b[0m \u001b[1m9s\u001b[0m 377ms/step - loss: 0.0450 - val_loss: 0.0355 - learning_rate: 8.9583e-04\n",
      "\n",
      "Epoch 13: LearningRateScheduler setting learning rate to 0.0008869204367171575.\n",
      "Epoch 13/100\n",
      "\u001b[1m24/24\u001b[0m \u001b[32m━━━━━━━━━━━━━━━━━━━━\u001b[0m\u001b[37m\u001b[0m \u001b[1m11s\u001b[0m 387ms/step - loss: 0.0361 - val_loss: 0.0317 - learning_rate: 8.8692e-04\n",
      "\n",
      "Epoch 14: LearningRateScheduler setting learning rate to 0.0008780954309205613.\n",
      "Epoch 14/100\n",
      "\u001b[1m24/24\u001b[0m \u001b[32m━━━━━━━━━━━━━━━━━━━━\u001b[0m\u001b[37m\u001b[0m \u001b[1m9s\u001b[0m 377ms/step - loss: 0.0301 - val_loss: 0.0236 - learning_rate: 8.7810e-04\n",
      "\n",
      "Epoch 15: LearningRateScheduler setting learning rate to 0.0008693582353988059.\n",
      "Epoch 15/100\n",
      "\u001b[1m24/24\u001b[0m \u001b[32m━━━━━━━━━━━━━━━━━━━━\u001b[0m\u001b[37m\u001b[0m \u001b[1m9s\u001b[0m 385ms/step - loss: 0.0249 - val_loss: 0.0194 - learning_rate: 8.6936e-04\n",
      "\n",
      "Epoch 16: LearningRateScheduler setting learning rate to 0.0008607079764250578.\n",
      "Epoch 16/100\n",
      "\u001b[1m24/24\u001b[0m \u001b[32m━━━━━━━━━━━━━━━━━━━━\u001b[0m\u001b[37m\u001b[0m \u001b[1m10s\u001b[0m 398ms/step - loss: 0.0213 - val_loss: 0.0183 - learning_rate: 8.6071e-04\n",
      "\n",
      "Epoch 17: LearningRateScheduler setting learning rate to 0.0008521437889662113.\n",
      "Epoch 17/100\n",
      "\u001b[1m24/24\u001b[0m \u001b[32m━━━━━━━━━━━━━━━━━━━━\u001b[0m\u001b[37m\u001b[0m \u001b[1m11s\u001b[0m 470ms/step - loss: 0.0190 - val_loss: 0.0145 - learning_rate: 8.5214e-04\n",
      "\n",
      "Epoch 18: LearningRateScheduler setting learning rate to 0.0008436648165963838.\n",
      "Epoch 18/100\n",
      "\u001b[1m24/24\u001b[0m \u001b[32m━━━━━━━━━━━━━━━━━━━━\u001b[0m\u001b[37m\u001b[0m \u001b[1m19s\u001b[0m 410ms/step - loss: 0.0165 - val_loss: 0.0131 - learning_rate: 8.4366e-04\n",
      "\n",
      "Epoch 19: LearningRateScheduler setting learning rate to 0.000835270211411272.\n",
      "Epoch 19/100\n",
      "\u001b[1m24/24\u001b[0m \u001b[32m━━━━━━━━━━━━━━━━━━━━\u001b[0m\u001b[37m\u001b[0m \u001b[1m10s\u001b[0m 398ms/step - loss: 0.0143 - val_loss: 0.0117 - learning_rate: 8.3527e-04\n",
      "\n",
      "Epoch 20: LearningRateScheduler setting learning rate to 0.0008269591339433623.\n",
      "Epoch 20/100\n",
      "\u001b[1m24/24\u001b[0m \u001b[32m━━━━━━━━━━━━━━━━━━━━\u001b[0m\u001b[37m\u001b[0m \u001b[1m10s\u001b[0m 404ms/step - loss: 0.0133 - val_loss: 0.0109 - learning_rate: 8.2696e-04\n",
      "\n",
      "Epoch 21: LearningRateScheduler setting learning rate to 0.0008187307530779819.\n",
      "Epoch 21/100\n",
      "\u001b[1m24/24\u001b[0m \u001b[32m━━━━━━━━━━━━━━━━━━━━\u001b[0m\u001b[37m\u001b[0m \u001b[1m10s\u001b[0m 415ms/step - loss: 0.0127 - val_loss: 0.0098 - learning_rate: 8.1873e-04\n",
      "\n",
      "Epoch 22: LearningRateScheduler setting learning rate to 0.0008105842459701871.\n",
      "Epoch 22/100\n",
      "\u001b[1m24/24\u001b[0m \u001b[32m━━━━━━━━━━━━━━━━━━━━\u001b[0m\u001b[37m\u001b[0m \u001b[1m10s\u001b[0m 411ms/step - loss: 0.0117 - val_loss: 0.0100 - learning_rate: 8.1058e-04\n",
      "\n",
      "Epoch 23: LearningRateScheduler setting learning rate to 0.0008025187979624785.\n",
      "Epoch 23/100\n",
      "\u001b[1m24/24\u001b[0m \u001b[32m━━━━━━━━━━━━━━━━━━━━\u001b[0m\u001b[37m\u001b[0m \u001b[1m10s\u001b[0m 406ms/step - loss: 0.0108 - val_loss: 0.0087 - learning_rate: 8.0252e-04\n",
      "\n",
      "Epoch 24: LearningRateScheduler setting learning rate to 0.000794533602503334.\n",
      "Epoch 24/100\n",
      "\u001b[1m24/24\u001b[0m \u001b[32m━━━━━━━━━━━━━━━━━━━━\u001b[0m\u001b[37m\u001b[0m \u001b[1m10s\u001b[0m 410ms/step - loss: 0.0107 - val_loss: 0.0085 - learning_rate: 7.9453e-04\n",
      "\n",
      "Epoch 25: LearningRateScheduler setting learning rate to 0.0007866278610665535.\n",
      "Epoch 25/100\n",
      "\u001b[1m24/24\u001b[0m \u001b[32m━━━━━━━━━━━━━━━━━━━━\u001b[0m\u001b[37m\u001b[0m \u001b[1m10s\u001b[0m 399ms/step - loss: 0.0102 - val_loss: 0.0086 - learning_rate: 7.8663e-04\n",
      "\n",
      "Epoch 26: LearningRateScheduler setting learning rate to 0.0007788007830714049.\n",
      "Epoch 26/100\n",
      "\u001b[1m24/24\u001b[0m \u001b[32m━━━━━━━━━━━━━━━━━━━━\u001b[0m\u001b[37m\u001b[0m \u001b[1m10s\u001b[0m 389ms/step - loss: 0.0095 - val_loss: 0.0074 - learning_rate: 7.7880e-04\n",
      "\n",
      "Epoch 27: LearningRateScheduler setting learning rate to 0.0007710515858035663.\n",
      "Epoch 27/100\n",
      "\u001b[1m24/24\u001b[0m \u001b[32m━━━━━━━━━━━━━━━━━━━━\u001b[0m\u001b[37m\u001b[0m \u001b[1m10s\u001b[0m 391ms/step - loss: 0.0089 - val_loss: 0.0076 - learning_rate: 7.7105e-04\n",
      "\n",
      "Epoch 28: LearningRateScheduler setting learning rate to 0.0007633794943368531.\n",
      "Epoch 28/100\n",
      "\u001b[1m24/24\u001b[0m \u001b[32m━━━━━━━━━━━━━━━━━━━━\u001b[0m\u001b[37m\u001b[0m \u001b[1m10s\u001b[0m 428ms/step - loss: 0.0094 - val_loss: 0.0065 - learning_rate: 7.6338e-04\n",
      "\n",
      "Epoch 29: LearningRateScheduler setting learning rate to 0.0007557837414557255.\n",
      "Epoch 29/100\n",
      "\u001b[1m24/24\u001b[0m \u001b[32m━━━━━━━━━━━━━━━━━━━━\u001b[0m\u001b[37m\u001b[0m \u001b[1m19s\u001b[0m 372ms/step - loss: 0.0084 - val_loss: 0.0066 - learning_rate: 7.5578e-04\n",
      "\n",
      "Epoch 30: LearningRateScheduler setting learning rate to 0.0007482635675785653.\n",
      "Epoch 30/100\n",
      "\u001b[1m24/24\u001b[0m \u001b[32m━━━━━━━━━━━━━━━━━━━━\u001b[0m\u001b[37m\u001b[0m \u001b[1m9s\u001b[0m 387ms/step - loss: 0.0078 - val_loss: 0.0066 - learning_rate: 7.4826e-04\n",
      "\n",
      "Epoch 31: LearningRateScheduler setting learning rate to 0.0007408182206817179.\n",
      "Epoch 31/100\n",
      "\u001b[1m24/24\u001b[0m \u001b[32m━━━━━━━━━━━━━━━━━━━━\u001b[0m\u001b[37m\u001b[0m \u001b[1m10s\u001b[0m 414ms/step - loss: 0.0079 - val_loss: 0.0062 - learning_rate: 7.4082e-04\n",
      "\n",
      "Epoch 32: LearningRateScheduler setting learning rate to 0.0007334469562242892.\n",
      "Epoch 32/100\n",
      "\u001b[1m24/24\u001b[0m \u001b[32m━━━━━━━━━━━━━━━━━━━━\u001b[0m\u001b[37m\u001b[0m \u001b[1m10s\u001b[0m 401ms/step - loss: 0.0072 - val_loss: 0.0057 - learning_rate: 7.3345e-04\n",
      "\n",
      "Epoch 33: LearningRateScheduler setting learning rate to 0.000726149037073691.\n",
      "Epoch 33/100\n",
      "\u001b[1m24/24\u001b[0m \u001b[32m━━━━━━━━━━━━━━━━━━━━\u001b[0m\u001b[37m\u001b[0m \u001b[1m11s\u001b[0m 411ms/step - loss: 0.0078 - val_loss: 0.0056 - learning_rate: 7.2615e-04\n",
      "\n",
      "Epoch 34: LearningRateScheduler setting learning rate to 0.0007189237334319262.\n",
      "Epoch 34/100\n",
      "\u001b[1m24/24\u001b[0m \u001b[32m━━━━━━━━━━━━━━━━━━━━\u001b[0m\u001b[37m\u001b[0m \u001b[1m11s\u001b[0m 420ms/step - loss: 0.0075 - val_loss: 0.0055 - learning_rate: 7.1892e-04\n",
      "\n",
      "Epoch 35: LearningRateScheduler setting learning rate to 0.0007117703227626096.\n",
      "Epoch 35/100\n",
      "\u001b[1m24/24\u001b[0m \u001b[32m━━━━━━━━━━━━━━━━━━━━\u001b[0m\u001b[37m\u001b[0m \u001b[1m11s\u001b[0m 458ms/step - loss: 0.0072 - val_loss: 0.0053 - learning_rate: 7.1177e-04\n",
      "\n",
      "Epoch 36: LearningRateScheduler setting learning rate to 0.0007046880897187134.\n",
      "Epoch 36/100\n",
      "\u001b[1m24/24\u001b[0m \u001b[32m━━━━━━━━━━━━━━━━━━━━\u001b[0m\u001b[37m\u001b[0m \u001b[1m20s\u001b[0m 424ms/step - loss: 0.0064 - val_loss: 0.0065 - learning_rate: 7.0469e-04\n",
      "\n",
      "Epoch 37: LearningRateScheduler setting learning rate to 0.000697676326071031.\n",
      "Epoch 37/100\n",
      "\u001b[1m24/24\u001b[0m \u001b[32m━━━━━━━━━━━━━━━━━━━━\u001b[0m\u001b[37m\u001b[0m \u001b[1m11s\u001b[0m 443ms/step - loss: 0.0070 - val_loss: 0.0049 - learning_rate: 6.9768e-04\n",
      "\n",
      "Epoch 38: LearningRateScheduler setting learning rate to 0.0006907343306373547.\n",
      "Epoch 38/100\n",
      "\u001b[1m24/24\u001b[0m \u001b[32m━━━━━━━━━━━━━━━━━━━━\u001b[0m\u001b[37m\u001b[0m \u001b[1m2199s\u001b[0m 96s/step - loss: 0.0069 - val_loss: 0.0054 - learning_rate: 6.9073e-04\n",
      "\n",
      "Epoch 39: LearningRateScheduler setting learning rate to 0.0006838614092123559.\n",
      "Epoch 39/100\n",
      "\u001b[1m24/24\u001b[0m \u001b[32m━━━━━━━━━━━━━━━━━━━━\u001b[0m\u001b[37m\u001b[0m \u001b[1m19s\u001b[0m 808ms/step - loss: 0.0070 - val_loss: 0.0049 - learning_rate: 6.8386e-04\n",
      "\n",
      "Epoch 40: LearningRateScheduler setting learning rate to 0.0006770568744981646.\n",
      "Epoch 40/100\n",
      "\u001b[1m24/24\u001b[0m \u001b[32m━━━━━━━━━━━━━━━━━━━━\u001b[0m\u001b[37m\u001b[0m \u001b[1m16s\u001b[0m 578ms/step - loss: 0.0063 - val_loss: 0.0051 - learning_rate: 6.7706e-04\n",
      "\n",
      "Epoch 41: LearningRateScheduler setting learning rate to 0.0006703200460356394.\n",
      "Epoch 41/100\n",
      "\u001b[1m24/24\u001b[0m \u001b[32m━━━━━━━━━━━━━━━━━━━━\u001b[0m\u001b[37m\u001b[0m \u001b[1m12s\u001b[0m 496ms/step - loss: 0.0064 - val_loss: 0.0046 - learning_rate: 6.7032e-04\n",
      "\n",
      "Epoch 42: LearningRateScheduler setting learning rate to 0.0006636502501363194.\n",
      "Epoch 42/100\n",
      "\u001b[1m24/24\u001b[0m \u001b[32m━━━━━━━━━━━━━━━━━━━━\u001b[0m\u001b[37m\u001b[0m \u001b[1m12s\u001b[0m 513ms/step - loss: 0.0060 - val_loss: 0.0046 - learning_rate: 6.6365e-04\n",
      "\n",
      "Epoch 43: LearningRateScheduler setting learning rate to 0.0006570468198150568.\n",
      "Epoch 43/100\n",
      "\u001b[1m24/24\u001b[0m \u001b[32m━━━━━━━━━━━━━━━━━━━━\u001b[0m\u001b[37m\u001b[0m \u001b[1m12s\u001b[0m 509ms/step - loss: 0.0059 - val_loss: 0.0044 - learning_rate: 6.5705e-04\n",
      "\n",
      "Epoch 44: LearningRateScheduler setting learning rate to 0.0006505090947233165.\n",
      "Epoch 44/100\n",
      "\u001b[1m24/24\u001b[0m \u001b[32m━━━━━━━━━━━━━━━━━━━━\u001b[0m\u001b[37m\u001b[0m \u001b[1m11s\u001b[0m 464ms/step - loss: 0.0061 - val_loss: 0.0045 - learning_rate: 6.5051e-04\n",
      "\n",
      "Epoch 45: LearningRateScheduler setting learning rate to 0.0006440364210831414.\n",
      "Epoch 45/100\n",
      "\u001b[1m24/24\u001b[0m \u001b[32m━━━━━━━━━━━━━━━━━━━━\u001b[0m\u001b[37m\u001b[0m \u001b[1m11s\u001b[0m 446ms/step - loss: 0.0058 - val_loss: 0.0043 - learning_rate: 6.4404e-04\n",
      "\n",
      "Epoch 46: LearningRateScheduler setting learning rate to 0.0006376281516217733.\n",
      "Epoch 46/100\n",
      "\u001b[1m24/24\u001b[0m \u001b[32m━━━━━━━━━━━━━━━━━━━━\u001b[0m\u001b[37m\u001b[0m \u001b[1m19s\u001b[0m 381ms/step - loss: 0.0058 - val_loss: 0.0042 - learning_rate: 6.3763e-04\n",
      "\n",
      "Epoch 47: LearningRateScheduler setting learning rate to 0.000631283645506926.\n",
      "Epoch 47/100\n",
      "\u001b[1m24/24\u001b[0m \u001b[32m━━━━━━━━━━━━━━━━━━━━\u001b[0m\u001b[37m\u001b[0m \u001b[1m10s\u001b[0m 419ms/step - loss: 0.0052 - val_loss: 0.0043 - learning_rate: 6.3128e-04\n",
      "\n",
      "Epoch 48: LearningRateScheduler setting learning rate to 0.0006250022682827008.\n",
      "Epoch 48/100\n",
      "\u001b[1m24/24\u001b[0m \u001b[32m━━━━━━━━━━━━━━━━━━━━\u001b[0m\u001b[37m\u001b[0m \u001b[1m10s\u001b[0m 423ms/step - loss: 0.0054 - val_loss: 0.0047 - learning_rate: 6.2500e-04\n",
      "\n",
      "Epoch 49: LearningRateScheduler setting learning rate to 0.0006187833918061408.\n",
      "Epoch 49/100\n",
      "\u001b[1m24/24\u001b[0m \u001b[32m━━━━━━━━━━━━━━━━━━━━\u001b[0m\u001b[37m\u001b[0m \u001b[1m10s\u001b[0m 421ms/step - loss: 0.0052 - val_loss: 0.0040 - learning_rate: 6.1878e-04\n",
      "\n",
      "Epoch 50: LearningRateScheduler setting learning rate to 0.0006126263941844161.\n",
      "Epoch 50/100\n",
      "\u001b[1m24/24\u001b[0m \u001b[32m━━━━━━━━━━━━━━━━━━━━\u001b[0m\u001b[37m\u001b[0m \u001b[1m11s\u001b[0m 432ms/step - loss: 0.0052 - val_loss: 0.0041 - learning_rate: 6.1263e-04\n",
      "\n",
      "Epoch 51: LearningRateScheduler setting learning rate to 0.0006065306597126335.\n",
      "Epoch 51/100\n",
      "\u001b[1m24/24\u001b[0m \u001b[32m━━━━━━━━━━━━━━━━━━━━\u001b[0m\u001b[37m\u001b[0m \u001b[1m10s\u001b[0m 424ms/step - loss: 0.0049 - val_loss: 0.0039 - learning_rate: 6.0653e-04\n",
      "\n",
      "Epoch 52: LearningRateScheduler setting learning rate to 0.000600495578812266.\n",
      "Epoch 52/100\n",
      "\u001b[1m24/24\u001b[0m \u001b[32m━━━━━━━━━━━━━━━━━━━━\u001b[0m\u001b[37m\u001b[0m \u001b[1m10s\u001b[0m 397ms/step - loss: 0.0049 - val_loss: 0.0040 - learning_rate: 6.0050e-04\n",
      "\n",
      "Epoch 53: LearningRateScheduler setting learning rate to 0.0005945205479701944.\n",
      "Epoch 53/100\n",
      "\u001b[1m24/24\u001b[0m \u001b[32m━━━━━━━━━━━━━━━━━━━━\u001b[0m\u001b[37m\u001b[0m \u001b[1m11s\u001b[0m 402ms/step - loss: 0.0051 - val_loss: 0.0058 - learning_rate: 5.9452e-04\n",
      "\n",
      "Epoch 54: LearningRateScheduler setting learning rate to 0.0005886049696783552.\n",
      "Epoch 54/100\n",
      "\u001b[1m24/24\u001b[0m \u001b[32m━━━━━━━━━━━━━━━━━━━━\u001b[0m\u001b[37m\u001b[0m \u001b[1m10s\u001b[0m 415ms/step - loss: 0.0057 - val_loss: 0.0040 - learning_rate: 5.8860e-04\n",
      "\n",
      "Epoch 55: LearningRateScheduler setting learning rate to 0.0005827482523739897.\n",
      "Epoch 55/100\n",
      "\u001b[1m24/24\u001b[0m \u001b[32m━━━━━━━━━━━━━━━━━━━━\u001b[0m\u001b[37m\u001b[0m \u001b[1m10s\u001b[0m 400ms/step - loss: 0.0048 - val_loss: 0.0040 - learning_rate: 5.8275e-04\n",
      "\n",
      "Epoch 56: LearningRateScheduler setting learning rate to 0.0005769498103804867.\n",
      "Epoch 56/100\n",
      "\u001b[1m24/24\u001b[0m \u001b[32m━━━━━━━━━━━━━━━━━━━━\u001b[0m\u001b[37m\u001b[0m \u001b[1m10s\u001b[0m 397ms/step - loss: 0.0050 - val_loss: 0.0043 - learning_rate: 5.7695e-04\n",
      "\n",
      "Epoch 57: LearningRateScheduler setting learning rate to 0.0005712090638488148.\n",
      "Epoch 57/100\n",
      "\u001b[1m24/24\u001b[0m \u001b[32m━━━━━━━━━━━━━━━━━━━━\u001b[0m\u001b[37m\u001b[0m \u001b[1m11s\u001b[0m 405ms/step - loss: 0.0051 - val_loss: 0.0036 - learning_rate: 5.7121e-04\n",
      "\n",
      "Epoch 58: LearningRateScheduler setting learning rate to 0.0005655254386995371.\n",
      "Epoch 58/100\n",
      "\u001b[1m24/24\u001b[0m \u001b[32m━━━━━━━━━━━━━━━━━━━━\u001b[0m\u001b[37m\u001b[0m \u001b[1m11s\u001b[0m 413ms/step - loss: 0.0046 - val_loss: 0.0036 - learning_rate: 5.6553e-04\n",
      "\n",
      "Epoch 59: LearningRateScheduler setting learning rate to 0.000559898366565402.\n",
      "Epoch 59/100\n",
      "\u001b[1m24/24\u001b[0m \u001b[32m━━━━━━━━━━━━━━━━━━━━\u001b[0m\u001b[37m\u001b[0m \u001b[1m10s\u001b[0m 396ms/step - loss: 0.0044 - val_loss: 0.0042 - learning_rate: 5.5990e-04\n",
      "\n",
      "Epoch 60: LearningRateScheduler setting learning rate to 0.0005543272847345071.\n",
      "Epoch 60/100\n",
      "\u001b[1m24/24\u001b[0m \u001b[32m━━━━━━━━━━━━━━━━━━━━\u001b[0m\u001b[37m\u001b[0m \u001b[1m9s\u001b[0m 392ms/step - loss: 0.0045 - val_loss: 0.0046 - learning_rate: 5.5433e-04\n",
      "\n",
      "Epoch 61: LearningRateScheduler setting learning rate to 0.0005488116360940265.\n",
      "Epoch 61/100\n",
      "\u001b[1m24/24\u001b[0m \u001b[32m━━━━━━━━━━━━━━━━━━━━\u001b[0m\u001b[37m\u001b[0m \u001b[1m10s\u001b[0m 399ms/step - loss: 0.0055 - val_loss: 0.0055 - learning_rate: 5.4881e-04\n",
      "\n",
      "Epoch 62: LearningRateScheduler setting learning rate to 0.0005433508690744998.\n",
      "Epoch 62/100\n",
      "\u001b[1m24/24\u001b[0m \u001b[32m━━━━━━━━━━━━━━━━━━━━\u001b[0m\u001b[37m\u001b[0m \u001b[1m10s\u001b[0m 395ms/step - loss: 0.0058 - val_loss: 0.0035 - learning_rate: 5.4335e-04\n",
      "\n",
      "Epoch 63: LearningRateScheduler setting learning rate to 0.0005379444375946745.\n",
      "Epoch 63/100\n",
      "\u001b[1m24/24\u001b[0m \u001b[32m━━━━━━━━━━━━━━━━━━━━\u001b[0m\u001b[37m\u001b[0m \u001b[1m10s\u001b[0m 395ms/step - loss: 0.0045 - val_loss: 0.0033 - learning_rate: 5.3794e-04\n",
      "\n",
      "Epoch 64: LearningRateScheduler setting learning rate to 0.0005325918010068972.\n",
      "Epoch 64/100\n",
      "\u001b[1m24/24\u001b[0m \u001b[32m━━━━━━━━━━━━━━━━━━━━\u001b[0m\u001b[37m\u001b[0m \u001b[1m10s\u001b[0m 400ms/step - loss: 0.0050 - val_loss: 0.0036 - learning_rate: 5.3259e-04\n",
      "\n",
      "Epoch 65: LearningRateScheduler setting learning rate to 0.0005272924240430486.\n",
      "Epoch 65/100\n",
      "\u001b[1m24/24\u001b[0m \u001b[32m━━━━━━━━━━━━━━━━━━━━\u001b[0m\u001b[37m\u001b[0m \u001b[1m10s\u001b[0m 406ms/step - loss: 0.0045 - val_loss: 0.0033 - learning_rate: 5.2729e-04\n",
      "\n",
      "Epoch 66: LearningRateScheduler setting learning rate to 0.000522045776761016.\n",
      "Epoch 66/100\n",
      "\u001b[1m24/24\u001b[0m \u001b[32m━━━━━━━━━━━━━━━━━━━━\u001b[0m\u001b[37m\u001b[0m \u001b[1m10s\u001b[0m 424ms/step - loss: 0.0044 - val_loss: 0.0035 - learning_rate: 5.2205e-04\n",
      "\n",
      "Epoch 67: LearningRateScheduler setting learning rate to 0.0005168513344916992.\n",
      "Epoch 67/100\n",
      "\u001b[1m24/24\u001b[0m \u001b[32m━━━━━━━━━━━━━━━━━━━━\u001b[0m\u001b[37m\u001b[0m \u001b[1m10s\u001b[0m 417ms/step - loss: 0.0045 - val_loss: 0.0033 - learning_rate: 5.1685e-04\n",
      "\n",
      "Epoch 68: LearningRateScheduler setting learning rate to 0.0005117085777865425.\n",
      "Epoch 68/100\n",
      "\u001b[1m24/24\u001b[0m \u001b[32m━━━━━━━━━━━━━━━━━━━━\u001b[0m\u001b[37m\u001b[0m \u001b[1m10s\u001b[0m 404ms/step - loss: 0.0043 - val_loss: 0.0031 - learning_rate: 5.1171e-04\n",
      "\n",
      "Epoch 69: LearningRateScheduler setting learning rate to 0.0005066169923655895.\n",
      "Epoch 69/100\n",
      "\u001b[1m24/24\u001b[0m \u001b[32m━━━━━━━━━━━━━━━━━━━━\u001b[0m\u001b[37m\u001b[0m \u001b[1m10s\u001b[0m 406ms/step - loss: 0.0040 - val_loss: 0.0032 - learning_rate: 5.0662e-04\n",
      "\n",
      "Epoch 70: LearningRateScheduler setting learning rate to 0.0005015760690660556.\n",
      "Epoch 70/100\n",
      "\u001b[1m24/24\u001b[0m \u001b[32m━━━━━━━━━━━━━━━━━━━━\u001b[0m\u001b[37m\u001b[0m \u001b[1m11s\u001b[0m 414ms/step - loss: 0.0043 - val_loss: 0.0031 - learning_rate: 5.0158e-04\n",
      "\n",
      "Epoch 71: LearningRateScheduler setting learning rate to 0.0004965853037914096.\n",
      "Epoch 71/100\n",
      "\u001b[1m24/24\u001b[0m \u001b[32m━━━━━━━━━━━━━━━━━━━━\u001b[0m\u001b[37m\u001b[0m \u001b[1m10s\u001b[0m 400ms/step - loss: 0.0041 - val_loss: 0.0032 - learning_rate: 4.9659e-04\n",
      "\n",
      "Epoch 72: LearningRateScheduler setting learning rate to 0.0004916441974609651.\n",
      "Epoch 72/100\n",
      "\u001b[1m24/24\u001b[0m \u001b[32m━━━━━━━━━━━━━━━━━━━━\u001b[0m\u001b[37m\u001b[0m \u001b[1m10s\u001b[0m 393ms/step - loss: 0.0041 - val_loss: 0.0031 - learning_rate: 4.9164e-04\n",
      "\n",
      "Epoch 73: LearningRateScheduler setting learning rate to 0.0004867522559599717.\n",
      "Epoch 73/100\n",
      "\u001b[1m24/24\u001b[0m \u001b[32m━━━━━━━━━━━━━━━━━━━━\u001b[0m\u001b[37m\u001b[0m \u001b[1m11s\u001b[0m 405ms/step - loss: 0.0041 - val_loss: 0.0030 - learning_rate: 4.8675e-04\n",
      "\n",
      "Epoch 74: LearningRateScheduler setting learning rate to 0.00048190899009020245.\n",
      "Epoch 74/100\n",
      "\u001b[1m24/24\u001b[0m \u001b[32m━━━━━━━━━━━━━━━━━━━━\u001b[0m\u001b[37m\u001b[0m \u001b[1m10s\u001b[0m 389ms/step - loss: 0.0041 - val_loss: 0.0030 - learning_rate: 4.8191e-04\n",
      "\n",
      "Epoch 75: LearningRateScheduler setting learning rate to 0.0004771139155210344.\n",
      "Epoch 75/100\n",
      "\u001b[1m24/24\u001b[0m \u001b[32m━━━━━━━━━━━━━━━━━━━━\u001b[0m\u001b[37m\u001b[0m \u001b[1m11s\u001b[0m 411ms/step - loss: 0.0044 - val_loss: 0.0036 - learning_rate: 4.7711e-04\n",
      "\n",
      "Epoch 76: LearningRateScheduler setting learning rate to 0.0004723665527410147.\n",
      "Epoch 76/100\n",
      "\u001b[1m24/24\u001b[0m \u001b[32m━━━━━━━━━━━━━━━━━━━━\u001b[0m\u001b[37m\u001b[0m \u001b[1m10s\u001b[0m 398ms/step - loss: 0.0040 - val_loss: 0.0030 - learning_rate: 4.7237e-04\n",
      "\n",
      "Epoch 77: LearningRateScheduler setting learning rate to 0.00046766642700990925.\n",
      "Epoch 77/100\n",
      "\u001b[1m24/24\u001b[0m \u001b[32m━━━━━━━━━━━━━━━━━━━━\u001b[0m\u001b[37m\u001b[0m \u001b[1m9s\u001b[0m 389ms/step - loss: 0.0040 - val_loss: 0.0037 - learning_rate: 4.6767e-04\n",
      "\n",
      "Epoch 78: LearningRateScheduler setting learning rate to 0.00046301306831122806.\n",
      "Epoch 78/100\n",
      "\u001b[1m24/24\u001b[0m \u001b[32m━━━━━━━━━━━━━━━━━━━━\u001b[0m\u001b[37m\u001b[0m \u001b[1m11s\u001b[0m 413ms/step - loss: 0.0043 - val_loss: 0.0038 - learning_rate: 4.6301e-04\n",
      "\n",
      "Epoch 79: LearningRateScheduler setting learning rate to 0.00045840601130522354.\n",
      "Epoch 79/100\n",
      "\u001b[1m24/24\u001b[0m \u001b[32m━━━━━━━━━━━━━━━━━━━━\u001b[0m\u001b[37m\u001b[0m \u001b[1m11s\u001b[0m 432ms/step - loss: 0.0049 - val_loss: 0.0030 - learning_rate: 4.5841e-04\n",
      "\n",
      "Epoch 80: LearningRateScheduler setting learning rate to 0.0004538447952823558.\n",
      "Epoch 80/100\n",
      "\u001b[1m24/24\u001b[0m \u001b[32m━━━━━━━━━━━━━━━━━━━━\u001b[0m\u001b[37m\u001b[0m \u001b[1m19s\u001b[0m 387ms/step - loss: 0.0044 - val_loss: 0.0029 - learning_rate: 4.5384e-04\n",
      "\n",
      "Epoch 81: LearningRateScheduler setting learning rate to 0.0004493289641172216.\n",
      "Epoch 81/100\n",
      "\u001b[1m24/24\u001b[0m \u001b[32m━━━━━━━━━━━━━━━━━━━━\u001b[0m\u001b[37m\u001b[0m \u001b[1m10s\u001b[0m 410ms/step - loss: 0.0039 - val_loss: 0.0031 - learning_rate: 4.4933e-04\n",
      "\n",
      "Epoch 82: LearningRateScheduler setting learning rate to 0.0004448580662229411.\n",
      "Epoch 82/100\n",
      "\u001b[1m24/24\u001b[0m \u001b[32m━━━━━━━━━━━━━━━━━━━━\u001b[0m\u001b[37m\u001b[0m \u001b[1m10s\u001b[0m 415ms/step - loss: 0.0038 - val_loss: 0.0030 - learning_rate: 4.4486e-04\n",
      "\n",
      "Epoch 83: LearningRateScheduler setting learning rate to 0.00044043165450599934.\n",
      "Epoch 83/100\n",
      "\u001b[1m24/24\u001b[0m \u001b[32m━━━━━━━━━━━━━━━━━━━━\u001b[0m\u001b[37m\u001b[0m \u001b[1m10s\u001b[0m 402ms/step - loss: 0.0041 - val_loss: 0.0030 - learning_rate: 4.4043e-04\n",
      "\n",
      "Epoch 84: LearningRateScheduler setting learning rate to 0.00043604928632153564.\n",
      "Epoch 84/100\n",
      "\u001b[1m24/24\u001b[0m \u001b[32m━━━━━━━━━━━━━━━━━━━━\u001b[0m\u001b[37m\u001b[0m \u001b[1m10s\u001b[0m 393ms/step - loss: 0.0039 - val_loss: 0.0030 - learning_rate: 4.3605e-04\n",
      "\n",
      "Epoch 85: LearningRateScheduler setting learning rate to 0.00043171052342907973.\n",
      "Epoch 85/100\n",
      "\u001b[1m24/24\u001b[0m \u001b[32m━━━━━━━━━━━━━━━━━━━━\u001b[0m\u001b[37m\u001b[0m \u001b[1m10s\u001b[0m 397ms/step - loss: 0.0035 - val_loss: 0.0028 - learning_rate: 4.3171e-04\n",
      "\n",
      "Epoch 86: LearningRateScheduler setting learning rate to 0.0004274149319487267.\n",
      "Epoch 86/100\n",
      "\u001b[1m24/24\u001b[0m \u001b[32m━━━━━━━━━━━━━━━━━━━━\u001b[0m\u001b[37m\u001b[0m \u001b[1m11s\u001b[0m 411ms/step - loss: 0.0038 - val_loss: 0.0040 - learning_rate: 4.2741e-04\n",
      "\n",
      "Epoch 87: LearningRateScheduler setting learning rate to 0.00042316208231774885.\n",
      "Epoch 87/100\n",
      "\u001b[1m24/24\u001b[0m \u001b[32m━━━━━━━━━━━━━━━━━━━━\u001b[0m\u001b[37m\u001b[0m \u001b[1m10s\u001b[0m 414ms/step - loss: 0.0041 - val_loss: 0.0032 - learning_rate: 4.2316e-04\n",
      "\n",
      "Epoch 88: LearningRateScheduler setting learning rate to 0.000418951549247639.\n",
      "Epoch 88/100\n",
      "\u001b[1m24/24\u001b[0m \u001b[32m━━━━━━━━━━━━━━━━━━━━\u001b[0m\u001b[37m\u001b[0m \u001b[1m10s\u001b[0m 395ms/step - loss: 0.0041 - val_loss: 0.0031 - learning_rate: 4.1895e-04\n",
      "\n",
      "Epoch 89: LearningRateScheduler setting learning rate to 0.0004147829116815814.\n",
      "Epoch 89/100\n",
      "\u001b[1m24/24\u001b[0m \u001b[32m━━━━━━━━━━━━━━━━━━━━\u001b[0m\u001b[37m\u001b[0m \u001b[1m11s\u001b[0m 421ms/step - loss: 0.0037 - val_loss: 0.0028 - learning_rate: 4.1478e-04\n",
      "\n",
      "Epoch 90: LearningRateScheduler setting learning rate to 0.0004106557527523455.\n",
      "Epoch 90/100\n",
      "\u001b[1m24/24\u001b[0m \u001b[32m━━━━━━━━━━━━━━━━━━━━\u001b[0m\u001b[37m\u001b[0m \u001b[1m10s\u001b[0m 391ms/step - loss: 0.0039 - val_loss: 0.0028 - learning_rate: 4.1066e-04\n",
      "\n",
      "Epoch 91: LearningRateScheduler setting learning rate to 0.00040656965974059914.\n",
      "Epoch 91/100\n",
      "\u001b[1m24/24\u001b[0m \u001b[32m━━━━━━━━━━━━━━━━━━━━\u001b[0m\u001b[37m\u001b[0m \u001b[1m10s\u001b[0m 389ms/step - loss: 0.0037 - val_loss: 0.0030 - learning_rate: 4.0657e-04\n",
      "\n",
      "Epoch 92: LearningRateScheduler setting learning rate to 0.00040252422403363596.\n",
      "Epoch 92/100\n",
      "\u001b[1m24/24\u001b[0m \u001b[32m━━━━━━━━━━━━━━━━━━━━\u001b[0m\u001b[37m\u001b[0m \u001b[1m10s\u001b[0m 389ms/step - loss: 0.0037 - val_loss: 0.0029 - learning_rate: 4.0252e-04\n",
      "\n",
      "Epoch 93: LearningRateScheduler setting learning rate to 0.00039851904108451417.\n",
      "Epoch 93/100\n",
      "\u001b[1m24/24\u001b[0m \u001b[32m━━━━━━━━━━━━━━━━━━━━\u001b[0m\u001b[37m\u001b[0m \u001b[1m11s\u001b[0m 397ms/step - loss: 0.0036 - val_loss: 0.0028 - learning_rate: 3.9852e-04\n",
      "\n",
      "Epoch 94: LearningRateScheduler setting learning rate to 0.0003945537103716011.\n",
      "Epoch 94/100\n",
      "\u001b[1m24/24\u001b[0m \u001b[32m━━━━━━━━━━━━━━━━━━━━\u001b[0m\u001b[37m\u001b[0m \u001b[1m10s\u001b[0m 400ms/step - loss: 0.0038 - val_loss: 0.0027 - learning_rate: 3.9455e-04\n",
      "\n",
      "Epoch 95: LearningRateScheduler setting learning rate to 0.0003906278353585211.\n",
      "Epoch 95/100\n",
      "\u001b[1m24/24\u001b[0m \u001b[32m━━━━━━━━━━━━━━━━━━━━\u001b[0m\u001b[37m\u001b[0m \u001b[1m11s\u001b[0m 413ms/step - loss: 0.0039 - val_loss: 0.0029 - learning_rate: 3.9063e-04\n",
      "\n",
      "Epoch 96: LearningRateScheduler setting learning rate to 0.0003867410234545012.\n",
      "Epoch 96/100\n",
      "\u001b[1m24/24\u001b[0m \u001b[32m━━━━━━━━━━━━━━━━━━━━\u001b[0m\u001b[37m\u001b[0m \u001b[1m10s\u001b[0m 398ms/step - loss: 0.0038 - val_loss: 0.0029 - learning_rate: 3.8674e-04\n",
      "\n",
      "Epoch 97: LearningRateScheduler setting learning rate to 0.0003828928859751121.\n",
      "Epoch 97/100\n",
      "\u001b[1m24/24\u001b[0m \u001b[32m━━━━━━━━━━━━━━━━━━━━\u001b[0m\u001b[37m\u001b[0m \u001b[1m10s\u001b[0m 400ms/step - loss: 0.0039 - val_loss: 0.0028 - learning_rate: 3.8289e-04\n",
      "\n",
      "Epoch 98: LearningRateScheduler setting learning rate to 0.00037908303810339886.\n",
      "Epoch 98/100\n",
      "\u001b[1m24/24\u001b[0m \u001b[32m━━━━━━━━━━━━━━━━━━━━\u001b[0m\u001b[37m\u001b[0m \u001b[1m9s\u001b[0m 391ms/step - loss: 0.0034 - val_loss: 0.0029 - learning_rate: 3.7908e-04\n",
      "\n",
      "Epoch 99: LearningRateScheduler setting learning rate to 0.0003753110988513996.\n",
      "Epoch 99/100\n",
      "\u001b[1m24/24\u001b[0m \u001b[32m━━━━━━━━━━━━━━━━━━━━\u001b[0m\u001b[37m\u001b[0m \u001b[1m11s\u001b[0m 450ms/step - loss: 0.0036 - val_loss: 0.0028 - learning_rate: 3.7531e-04\n",
      "\n",
      "Epoch 100: LearningRateScheduler setting learning rate to 0.0003715766910220457.\n",
      "Epoch 100/100\n",
      "\u001b[1m24/24\u001b[0m \u001b[32m━━━━━━━━━━━━━━━━━━━━\u001b[0m\u001b[37m\u001b[0m \u001b[1m10s\u001b[0m 405ms/step - loss: 0.0037 - val_loss: 0.0030 - learning_rate: 3.7158e-04\n"
     ]
    }
   ],
   "source": [
    "# Train the model with Early Stopping and Learning Rate Scheduler\n",
    "history = model.fit(\n",
    "    X_train, y_train,\n",
    "    validation_data=(X_test, ytest),\n",
    "    epochs=100,\n",
    "    batch_size=32,\n",
    "    verbose=1,\n",
    "    callbacks=[early_stopping, lr_schedule]\n",
    ")"
   ]
  },
  {
   "cell_type": "code",
   "execution_count": 30,
   "id": "7ce759a7-4516-424c-b0f3-41d00a7011fe",
   "metadata": {},
   "outputs": [
    {
     "data": {
      "image/png": "[encoded data removed]",
      "text/plain": [
       "<Figure size 640x480 with 1 Axes>"
      ]
     },
     "metadata": {},
     "output_type": "display_data"
    },
    {
     "data": {
      "text/plain": [
       "<Figure size 640x480 with 0 Axes>"
      ]
     },
     "metadata": {},
     "output_type": "display_data"
    }
   ],
   "source": [
    "loss = history.history['loss']\n",
    "val_loss = history.history['val_loss']\n",
    "\n",
    "epochs = range(len(loss))\n",
    "\n",
    "plt.plot(epochs, loss, 'r', label='Training loss')\n",
    "plt.plot(epochs, val_loss, 'b', label='Validation loss')\n",
    "plt.title('Training and validation loss')\n",
    "plt.legend(loc=0)\n",
    "plt.figure()\n",
    "plt.show()"
   ]
  },
  {
   "cell_type": "code",
   "execution_count": 31,
   "id": "b2c61fde-fddc-4420-8226-38c3d88414f5",
   "metadata": {},
   "outputs": [
    {
     "name": "stdout",
     "output_type": "stream",
     "text": [
      "\u001b[1m24/24\u001b[0m \u001b[32m━━━━━━━━━━━━━━━━━━━━\u001b[0m\u001b[37m\u001b[0m \u001b[1m5s\u001b[0m 161ms/step\n",
      "\u001b[1m9/9\u001b[0m \u001b[32m━━━━━━━━━━━━━━━━━━━━\u001b[0m\u001b[37m\u001b[0m \u001b[1m1s\u001b[0m 114ms/step\n"
     ]
    },
    {
     "data": {
      "text/plain": [
       "((753, 1), (266, 1))"
      ]
     },
     "execution_count": 31,
     "metadata": {},
     "output_type": "execute_result"
    }
   ],
   "source": [
    "## Lets Do the prediction and check performance metrics\n",
    "train_predict=model.predict(X_train)\n",
    "test_predict=model.predict(X_test)\n",
    "train_predict.shape, test_predict.shape"
   ]
  },
  {
   "cell_type": "code",
   "execution_count": 32,
   "id": "289fb3a7-2d21-424f-a31b-ef4e3658353e",
   "metadata": {},
   "outputs": [],
   "source": [
    "# Transform back to original form\n",
    "\n",
    "train_predict = scaler.inverse_transform(train_predict)\n",
    "test_predict = scaler.inverse_transform(test_predict)\n",
    "original_ytrain = scaler.inverse_transform(y_train.reshape(-1,1))\n",
    "original_ytest = scaler.inverse_transform(ytest.reshape(-1,1))"
   ]
  },
  {
   "cell_type": "code",
   "execution_count": 33,
   "id": "d1dddb37-e467-4aae-baa7-56ef9a09a517",
   "metadata": {},
   "outputs": [
    {
     "name": "stdout",
     "output_type": "stream",
     "text": [
      "Train data RMSE:  77.11454804644818\n",
      "Train data MSE:  5946.653520407964\n",
      "Train data MAE:  60.745051103398914\n",
      "-------------------------------------------------------------------------------------\n",
      "Test data RMSE:  67.57143899993962\n",
      "Test data MSE:  4565.8993685225605\n",
      "Test data MAE:  52.82128282131108\n"
     ]
    }
   ],
   "source": [
    "# Evaluation metrices RMSE and MAE\n",
    "print(\"Train data RMSE: \", math.sqrt(mean_squared_error(original_ytrain,train_predict)))\n",
    "print(\"Train data MSE: \", mean_squared_error(original_ytrain,train_predict))\n",
    "print(\"Train data MAE: \", mean_absolute_error(original_ytrain,train_predict))\n",
    "print(\"-------------------------------------------------------------------------------------\")\n",
    "print(\"Test data RMSE: \", math.sqrt(mean_squared_error(original_ytest,test_predict)))\n",
    "print(\"Test data MSE: \", mean_squared_error(original_ytest,test_predict))\n",
    "print(\"Test data MAE: \", mean_absolute_error(original_ytest,test_predict))"
   ]
  },
  {
   "cell_type": "code",
   "execution_count": 34,
   "id": "bd747cd1-1d63-4ae9-8f7c-bf2dc509590c",
   "metadata": {},
   "outputs": [
    {
     "name": "stdout",
     "output_type": "stream",
     "text": [
      "Train data explained variance regression score: 0.9791866158241586\n",
      "Test data explained variance regression score: 0.9567746765534616\n"
     ]
    }
   ],
   "source": [
    "print(\"Train data explained variance regression score:\",\n",
    "      explained_variance_score(original_ytrain, train_predict))\n",
    "print(\"Test data explained variance regression score:\",\n",
    "      explained_variance_score(original_ytest, test_predict))"
   ]
  },
  {
   "cell_type": "code",
   "execution_count": 35,
   "id": "af695dcf-a464-40d2-85d2-eecb7cd4dfea",
   "metadata": {},
   "outputs": [
    {
     "name": "stdout",
     "output_type": "stream",
     "text": [
      "Train data R2 score: 0.9791691508920155\n",
      "Test data R2 score: 0.9563635351588071\n"
     ]
    }
   ],
   "source": [
    "print(\"Train data R2 score:\", r2_score(original_ytrain, train_predict))\n",
    "print(\"Test data R2 score:\", r2_score(original_ytest, test_predict))"
   ]
  },
  {
   "cell_type": "code",
   "execution_count": 36,
   "id": "a8d05bc8-e95f-4513-82b3-b5a9d78c4478",
   "metadata": {},
   "outputs": [
    {
     "name": "stdout",
     "output_type": "stream",
     "text": [
      "2215.0030611086027\n",
      "2238.212341727787\n"
     ]
    }
   ],
   "source": [
    "#Calculate RMSE performance metrics\n",
    "print(math.sqrt(mean_squared_error(y_train,train_predict)))\n",
    "print(math.sqrt(mean_squared_error(ytest,test_predict)))"
   ]
  },
  {
   "cell_type": "code",
   "execution_count": 37,
   "id": "e9db7589-b651-4aa2-9280-e7d526d929ee",
   "metadata": {},
   "outputs": [
    {
     "name": "stdout",
     "output_type": "stream",
     "text": [
      "Train data MGD:  0.0016169317600247674\n",
      "Test data MGD:  0.0008331187949951444\n",
      "----------------------------------------------------------------------\n",
      "Train data MPD:  2.947161057163926\n",
      "Test data MPD:  1.9298599028567394\n"
     ]
    }
   ],
   "source": [
    "print(\"Train data MGD: \", mean_gamma_deviance(original_ytrain, train_predict))\n",
    "print(\"Test data MGD: \", mean_gamma_deviance(original_ytest, test_predict))\n",
    "print(\"----------------------------------------------------------------------\")\n",
    "print(\"Train data MPD: \", mean_poisson_deviance(original_ytrain, train_predict))\n",
    "print(\"Test data MPD: \", mean_poisson_deviance(original_ytest, test_predict))"
   ]
  },
  {
   "cell_type": "code",
   "execution_count": 38,
   "id": "3af0b570-4e72-457a-a4ac-2ffe12093fc1",
   "metadata": {},
   "outputs": [
    {
     "data": {
      "image/png": "[encoded data removed]",
      "text/plain": [
       "<Figure size 640x480 with 1 Axes>"
      ]
     },
     "metadata": {},
     "output_type": "display_data"
    }
   ],
   "source": [
    "# shift train predictions for plotting\n",
    "look_back=100\n",
    "trainPredictPlot = np.empty_like(data)\n",
    "trainPredictPlot[:, :] = np.nan\n",
    "trainPredictPlot[look_back:len(train_predict)+look_back, :] = train_predict\n",
    "# shift test predictions for plotting\n",
    "testPredictPlot = np.empty_like(data)\n",
    "testPredictPlot[:, :] = np.nan\n",
    "testPredictPlot[len(train_predict)+(look_back*2)+1:len(data)-1, :] = test_predict\n",
    "# plot baseline and predictions\n",
    "plt.plot(scaler.inverse_transform(data),label=\"Actual close price\")\n",
    "plt.plot(trainPredictPlot,label=\"Training prediction close price\")\n",
    "plt.plot(testPredictPlot,label=\"Predicted close price\")\n",
    "plt.legend()\n",
    "plt.show()"
   ]
  },
  {
   "cell_type": "code",
   "execution_count": 39,
   "id": "9af499b4-2e83-44fb-a179-af8fc53a00ad",
   "metadata": {},
   "outputs": [
    {
     "name": "stdout",
     "output_type": "stream",
     "text": [
      "Output of predicted next days:  30\n"
     ]
    }
   ],
   "source": [
    "x_input=test_data[len(test_data)-time_step:].reshape(1,-1)\n",
    "temp_input=list(x_input)\n",
    "temp_input=temp_input[0].tolist()\n",
    "\n",
    "from numpy import array\n",
    "\n",
    "lst_output=[]\n",
    "n_steps=time_step\n",
    "i=0\n",
    "pred_days = 30    # Prediction for next 30 days\n",
    "\n",
    "while(i<pred_days):\n",
    "\n",
    "    if(len(temp_input)>time_step):\n",
    "\n",
    "        x_input=np.array(temp_input[1:])\n",
    "        #print(\"{} day input {}\".format(i,x_input))\n",
    "        x_input = x_input.reshape(1,-1)\n",
    "        x_input = x_input.reshape((1, n_steps, 1))\n",
    "\n",
    "        yhat = model.predict(x_input, verbose=0)\n",
    "        #print(\"{} day output {}\".format(i,yhat))\n",
    "        temp_input.extend(yhat[0].tolist())\n",
    "        temp_input=temp_input[1:]\n",
    "        #print(temp_input)\n",
    "\n",
    "        lst_output.extend(yhat.tolist())\n",
    "        i=i+1\n",
    "\n",
    "    else:\n",
    "\n",
    "        x_input = x_input.reshape((1, n_steps,1))\n",
    "        yhat = model.predict(x_input, verbose=0)\n",
    "        temp_input.extend(yhat[0].tolist())\n",
    "\n",
    "        lst_output.extend(yhat.tolist())\n",
    "        i=i+1\n",
    "\n",
    "print(\"Output of predicted next days: \", len(lst_output))"
   ]
  },
  {
   "cell_type": "code",
   "execution_count": 40,
   "id": "fdf014e0-cb99-40b7-8ffc-ee82a33df20f",
   "metadata": {},
   "outputs": [],
   "source": [
    "last_days=np.arange(1,time_step+1)\n",
    "day_pred=np.arange(time_step+1,time_step+pred_days+1)"
   ]
  },
  {
   "cell_type": "code",
   "execution_count": 41,
   "id": "f58323b8-1e31-4ab5-8d53-dc49796d0fab",
   "metadata": {},
   "outputs": [
    {
     "data": {
      "application/vnd.plotly.v1+json": {
       "config": {
        "plotlyServerURL": "https://plot.ly"
       },
       "data": [
        {
         "hovertemplate": "variable=last_original_days_value<br>Timestamp=%{x}<br>Stock price=%{y}<extra></extra>",
         "legendgroup": "last_original_days_value",
         "line": {
          "color": "#636efa",
          "dash": "solid"
         },
         "marker": {
          "symbol": "circle"
         },
         "mode": "lines",
         "name": "Last 15 days close price",
         "orientation": "v",
         "showlegend": true,
         "type": "scatter",
         "x": [
          0,
          1,
          2,
          3,
          4,
          5,
          6,
          7,
          8,
          9,
          10,
          11,
          12,
          13,
          14,
          15,
          16,
          17,
          18,
          19,
          20,
          21,
          22,
          23,
          24,
          25,
          26,
          27,
          28,
          29,
          30,
          31,
          32,
          33,
          34,
          35,
          36,
          37,
          38,
          39,
          40,
          41,
          42,
          43,
          44,
          45,
          46,
          47,
          48,
          49,
          50,
          51,
          52,
          53,
          54,
          55,
          56,
          57,
          58,
          59,
          60,
          61,
          62,
          63,
          64,
          65,
          66,
          67,
          68,
          69,
          70,
          71,
          72,
          73,
          74,
          75,
          76,
          77,
          78,
          79,
          80,
          81,
          82,
          83,
          84,
          85,
          86,
          87,
          88,
          89,
          90,
          91,
          92,
          93,
          94,
          95,
          96,
          97,
          98,
          99,
          100,
          101,
          102,
          103,
          104,
          105,
          106,
          107,
          108,
          109,
          110,
          111,
          112,
          113,
          114,
          115,
          116,
          117,
          118,
          119,
          120,
          121,
          122,
          123,
          124,
          125,
          126,
          127,
          128,
          129,
          130
         ],
         "xaxis": "x",
         "y": [
          2068.31,
          2062.94,
          2066.16,
          2071.77,
          2060.16,
          2051.92,
          2037.09,
          2053.38,
          2100.43,
          2104.22,
          2119.69,
          2140.97,
          2136.35,
          2152.14,
          2175.4,
          2204.61,
          2257.59,
          2240.41,
          2310.59,
          2364.63,
          2424.32,
          2485.94,
          2488.09,
          2563.43,
          2536.11,
          2568.11,
          2681.56,
          2661.09,
          2696.65,
          2760.9,
          2755.62,
          2796.38,
          2651.32,
          2759.67,
          2766.38,
          2860.91,
          2931.65,
          2923.46,
          2957.75,
          3000.81,
          2966.33,
          2968.44,
          2974.46,
          2894.57,
          2782.6,
          2786.4,
          2749.57,
          2695.93,
          2823.25,
          2830.16,
          2739.46,
          2727.36,
          2701.9,
          2646.03,
          2632.94,
          2610.21,
          2688.38,
          2637.79,
          2580.76,
          2576.76,
          2588.3500000000004,
          2529.33,
          2470.39,
          2519.57,
          2486.76,
          2464.4,
          2508.86,
          2623.56,
          2597.49,
          2653.58,
          2690.72,
          2663.32,
          2668.17,
          2699.66,
          2742.88,
          2745.36,
          2697.91,
          2639.92,
          2665.81,
          2645.39,
          2627.14,
          2617.95,
          2645.36,
          2692.05,
          2677.62,
          2677.4,
          2675.51,
          2738.06,
          2760.21,
          2748.96,
          2734.83,
          2748.78,
          2753.76,
          2702.65,
          2711.75,
          2680.44,
          2667.4,
          2683.24,
          2716.66,
          2755.47,
          null,
          null,
          null,
          null,
          null,
          null,
          null,
          null,
          null,
          null,
          null,
          null,
          null,
          null,
          null,
          null,
          null,
          null,
          null,
          null,
          null,
          null,
          null,
          null,
          null,
          null,
          null,
          null,
          null,
          null,
          null
         ],
         "yaxis": "y"
        },
        {
         "hovertemplate": "variable=next_predicted_days_value<br>Timestamp=%{x}<br>Stock price=%{y}<extra></extra>",
         "legendgroup": "next_predicted_days_value",
         "line": {
          "color": "#EF553B",
          "dash": "solid"
         },
         "marker": {
          "symbol": "circle"
         },
         "mode": "lines",
         "name": "Predicted next 30 days close price",
         "orientation": "v",
         "showlegend": true,
         "type": "scatter",
         "x": [
          0,
          1,
          2,
          3,
          4,
          5,
          6,
          7,
          8,
          9,
          10,
          11,
          12,
          13,
          14,
          15,
          16,
          17,
          18,
          19,
          20,
          21,
          22,
          23,
          24,
          25,
          26,
          27,
          28,
          29,
          30,
          31,
          32,
          33,
          34,
          35,
          36,
          37,
          38,
          39,
          40,
          41,
          42,
          43,
          44,
          45,
          46,
          47,
          48,
          49,
          50,
          51,
          52,
          53,
          54,
          55,
          56,
          57,
          58,
          59,
          60,
          61,
          62,
          63,
          64,
          65,
          66,
          67,
          68,
          69,
          70,
          71,
          72,
          73,
          74,
          75,
          76,
          77,
          78,
          79,
          80,
          81,
          82,
          83,
          84,
          85,
          86,
          87,
          88,
          89,
          90,
          91,
          92,
          93,
          94,
          95,
          96,
          97,
          98,
          99,
          100,
          101,
          102,
          103,
          104,
          105,
          106,
          107,
          108,
          109,
          110,
          111,
          112,
          113,
          114,
          115,
          116,
          117,
          118,
          119,
          120,
          121,
          122,
          123,
          124,
          125,
          126,
          127,
          128,
          129,
          130
         ],
         "xaxis": "x",
         "y": [
          null,
          null,
          null,
          null,
          null,
          null,
          null,
          null,
          null,
          null,
          null,
          null,
          null,
          null,
          null,
          null,
          null,
          null,
          null,
          null,
          null,
          null,
          null,
          null,
          null,
          null,
          null,
          null,
          null,
          null,
          null,
          null,
          null,
          null,
          null,
          null,
          null,
          null,
          null,
          null,
          null,
          null,
          null,
          null,
          null,
          null,
          null,
          null,
          null,
          null,
          null,
          null,
          null,
          null,
          null,
          null,
          null,
          null,
          null,
          null,
          null,
          null,
          null,
          null,
          null,
          null,
          null,
          null,
          null,
          null,
          null,
          null,
          null,
          null,
          null,
          null,
          null,
          null,
          null,
          null,
          null,
          null,
          null,
          null,
          null,
          null,
          null,
          null,
          null,
          null,
          null,
          null,
          null,
          null,
          null,
          null,
          null,
          null,
          null,
          null,
          2717.2600713431834,
          2721.0525763535497,
          2728.6765598481893,
          2738.5428255093098,
          2749.0078880906103,
          2758.8391647863386,
          2767.310229887962,
          2774.3953086060283,
          2780.159896299243,
          2784.821646745205,
          2788.413432139158,
          2790.9508169674873,
          2792.3165072607994,
          2792.14056630671,
          2790.166740401387,
          2786.147616469264,
          2780.017823667526,
          2772.190630238652,
          2763.536651293039,
          2755.8372111684084,
          2750.5492703062296,
          2747.088351113796,
          2742.8128489619494,
          2736.224464133382,
          2727.1822446393967,
          2717.430160050392,
          2707.145396479368,
          2695.8504354840516,
          2685.83001914978,
          2676.7120939940214,
          null
         ],
         "yaxis": "y"
        }
       ],
       "layout": {
        "autosize": true,
        "font": {
         "color": "black",
         "size": 15
        },
        "legend": {
         "title": {
          "text": "Close Price"
         },
         "tracegroupgap": 0
        },
        "margin": {
         "t": 60
        },
        "plot_bgcolor": "white",
        "template": {
         "data": {
          "bar": [
           {
            "error_x": {
             "color": "#2a3f5f"
            },
            "error_y": {
             "color": "#2a3f5f"
            },
            "marker": {
             "line": {
              "color": "#E5ECF6",
              "width": 0.5
             },
             "pattern": {
              "fillmode": "overlay",
              "size": 10,
              "solidity": 0.2
             }
            },
            "type": "bar"
           }
          ],
          "barpolar": [
           {
            "marker": {
             "line": {
              "color": "#E5ECF6",
              "width": 0.5
             },
             "pattern": {
              "fillmode": "overlay",
              "size": 10,
              "solidity": 0.2
             }
            },
            "type": "barpolar"
           }
          ],
          "carpet": [
           {
            "aaxis": {
             "endlinecolor": "#2a3f5f",
             "gridcolor": "white",
             "linecolor": "white",
             "minorgridcolor": "white",
             "startlinecolor": "#2a3f5f"
            },
            "baxis": {
             "endlinecolor": "#2a3f5f",
             "gridcolor": "white",
             "linecolor": "white",
             "minorgridcolor": "white",
             "startlinecolor": "#2a3f5f"
            },
            "type": "carpet"
           }
          ],
          "choropleth": [
           {
            "colorbar": {
             "outlinewidth": 0,
             "ticks": ""
            },
            "type": "choropleth"
           }
          ],
          "contour": [
           {
            "colorbar": {
             "outlinewidth": 0,
             "ticks": ""
            },
            "colorscale": [
             [
              0,
              "#0d0887"
             ],
             [
              0.1111111111111111,
              "#46039f"
             ],
             [
              0.2222222222222222,
              "#7201a8"
             ],
             [
              0.3333333333333333,
              "#9c179e"
             ],
             [
              0.4444444444444444,
              "#bd3786"
             ],
             [
              0.5555555555555556,
              "#d8576b"
             ],
             [
              0.6666666666666666,
              "#ed7953"
             ],
             [
              0.7777777777777778,
              "#fb9f3a"
             ],
             [
              0.8888888888888888,
              "#fdca26"
             ],
             [
              1,
              "#f0f921"
             ]
            ],
            "type": "contour"
           }
          ],
          "contourcarpet": [
           {
            "colorbar": {
             "outlinewidth": 0,
             "ticks": ""
            },
            "type": "contourcarpet"
           }
          ],
          "heatmap": [
           {
            "colorbar": {
             "outlinewidth": 0,
             "ticks": ""
            },
            "colorscale": [
             [
              0,
              "#0d0887"
             ],
             [
              0.1111111111111111,
              "#46039f"
             ],
             [
              0.2222222222222222,
              "#7201a8"
             ],
             [
              0.3333333333333333,
              "#9c179e"
             ],
             [
              0.4444444444444444,
              "#bd3786"
             ],
             [
              0.5555555555555556,
              "#d8576b"
             ],
             [
              0.6666666666666666,
              "#ed7953"
             ],
             [
              0.7777777777777778,
              "#fb9f3a"
             ],
             [
              0.8888888888888888,
              "#fdca26"
             ],
             [
              1,
              "#f0f921"
             ]
            ],
            "type": "heatmap"
           }
          ],
          "heatmapgl": [
           {
            "colorbar": {
             "outlinewidth": 0,
             "ticks": ""
            },
            "colorscale": [
             [
              0,
              "#0d0887"
             ],
             [
              0.1111111111111111,
              "#46039f"
             ],
             [
              0.2222222222222222,
              "#7201a8"
             ],
             [
              0.3333333333333333,
              "#9c179e"
             ],
             [
              0.4444444444444444,
              "#bd3786"
             ],
             [
              0.5555555555555556,
              "#d8576b"
             ],
             [
              0.6666666666666666,
              "#ed7953"
             ],
             [
              0.7777777777777778,
              "#fb9f3a"
             ],
             [
              0.8888888888888888,
              "#fdca26"
             ],
             [
              1,
              "#f0f921"
             ]
            ],
            "type": "heatmapgl"
           }
          ],
          "histogram": [
           {
            "marker": {
             "pattern": {
              "fillmode": "overlay",
              "size": 10,
              "solidity": 0.2
             }
            },
            "type": "histogram"
           }
          ],
          "histogram2d": [
           {
            "colorbar": {
             "outlinewidth": 0,
             "ticks": ""
            },
            "colorscale": [
             [
              0,
              "#0d0887"
             ],
             [
              0.1111111111111111,
              "#46039f"
             ],
             [
              0.2222222222222222,
              "#7201a8"
             ],
             [
              0.3333333333333333,
              "#9c179e"
             ],
             [
              0.4444444444444444,
              "#bd3786"
             ],
             [
              0.5555555555555556,
              "#d8576b"
             ],
             [
              0.6666666666666666,
              "#ed7953"
             ],
             [
              0.7777777777777778,
              "#fb9f3a"
             ],
             [
              0.8888888888888888,
              "#fdca26"
             ],
             [
              1,
              "#f0f921"
             ]
            ],
            "type": "histogram2d"
           }
          ],
          "histogram2dcontour": [
           {
            "colorbar": {
             "outlinewidth": 0,
             "ticks": ""
            },
            "colorscale": [
             [
              0,
              "#0d0887"
             ],
             [
              0.1111111111111111,
              "#46039f"
             ],
             [
              0.2222222222222222,
              "#7201a8"
             ],
             [
              0.3333333333333333,
              "#9c179e"
             ],
             [
              0.4444444444444444,
              "#bd3786"
             ],
             [
              0.5555555555555556,
              "#d8576b"
             ],
             [
              0.6666666666666666,
              "#ed7953"
             ],
             [
              0.7777777777777778,
              "#fb9f3a"
             ],
             [
              0.8888888888888888,
              "#fdca26"
             ],
             [
              1,
              "#f0f921"
             ]
            ],
            "type": "histogram2dcontour"
           }
          ],
          "mesh3d": [
           {
            "colorbar": {
             "outlinewidth": 0,
             "ticks": ""
            },
            "type": "mesh3d"
           }
          ],
          "parcoords": [
           {
            "line": {
             "colorbar": {
              "outlinewidth": 0,
              "ticks": ""
             }
            },
            "type": "parcoords"
           }
          ],
          "pie": [
           {
            "automargin": true,
            "type": "pie"
           }
          ],
          "scatter": [
           {
            "fillpattern": {
             "fillmode": "overlay",
             "size": 10,
             "solidity": 0.2
            },
            "type": "scatter"
           }
          ],
          "scatter3d": [
           {
            "line": {
             "colorbar": {
              "outlinewidth": 0,
              "ticks": ""
             }
            },
            "marker": {
             "colorbar": {
              "outlinewidth": 0,
              "ticks": ""
             }
            },
            "type": "scatter3d"
           }
          ],
          "scattercarpet": [
           {
            "marker": {
             "colorbar": {
              "outlinewidth": 0,
              "ticks": ""
             }
            },
            "type": "scattercarpet"
           }
          ],
          "scattergeo": [
           {
            "marker": {
             "colorbar": {
              "outlinewidth": 0,
              "ticks": ""
             }
            },
            "type": "scattergeo"
           }
          ],
          "scattergl": [
           {
            "marker": {
             "colorbar": {
              "outlinewidth": 0,
              "ticks": ""
             }
            },
            "type": "scattergl"
           }
          ],
          "scattermapbox": [
           {
            "marker": {
             "colorbar": {
              "outlinewidth": 0,
              "ticks": ""
             }
            },
            "type": "scattermapbox"
           }
          ],
          "scatterpolar": [
           {
            "marker": {
             "colorbar": {
              "outlinewidth": 0,
              "ticks": ""
             }
            },
            "type": "scatterpolar"
           }
          ],
          "scatterpolargl": [
           {
            "marker": {
             "colorbar": {
              "outlinewidth": 0,
              "ticks": ""
             }
            },
            "type": "scatterpolargl"
           }
          ],
          "scatterternary": [
           {
            "marker": {
             "colorbar": {
              "outlinewidth": 0,
              "ticks": ""
             }
            },
            "type": "scatterternary"
           }
          ],
          "surface": [
           {
            "colorbar": {
             "outlinewidth": 0,
             "ticks": ""
            },
            "colorscale": [
             [
              0,
              "#0d0887"
             ],
             [
              0.1111111111111111,
              "#46039f"
             ],
             [
              0.2222222222222222,
              "#7201a8"
             ],
             [
              0.3333333333333333,
              "#9c179e"
             ],
             [
              0.4444444444444444,
              "#bd3786"
             ],
             [
              0.5555555555555556,
              "#d8576b"
             ],
             [
              0.6666666666666666,
              "#ed7953"
             ],
             [
              0.7777777777777778,
              "#fb9f3a"
             ],
             [
              0.8888888888888888,
              "#fdca26"
             ],
             [
              1,
              "#f0f921"
             ]
            ],
            "type": "surface"
           }
          ],
          "table": [
           {
            "cells": {
             "fill": {
              "color": "#EBF0F8"
             },
             "line": {
              "color": "white"
             }
            },
            "header": {
             "fill": {
              "color": "#C8D4E3"
             },
             "line": {
              "color": "white"
             }
            },
            "type": "table"
           }
          ]
         },
         "layout": {
          "annotationdefaults": {
           "arrowcolor": "#2a3f5f",
           "arrowhead": 0,
           "arrowwidth": 1
          },
          "autotypenumbers": "strict",
          "coloraxis": {
           "colorbar": {
            "outlinewidth": 0,
            "ticks": ""
           }
          },
          "colorscale": {
           "diverging": [
            [
             0,
             "#8e0152"
            ],
            [
             0.1,
             "#c51b7d"
            ],
            [
             0.2,
             "#de77ae"
            ],
            [
             0.3,
             "#f1b6da"
            ],
            [
             0.4,
             "#fde0ef"
            ],
            [
             0.5,
             "#f7f7f7"
            ],
            [
             0.6,
             "#e6f5d0"
            ],
            [
             0.7,
             "#b8e186"
            ],
            [
             0.8,
             "#7fbc41"
            ],
            [
             0.9,
             "#4d9221"
            ],
            [
             1,
             "#276419"
            ]
           ],
           "sequential": [
            [
             0,
             "#0d0887"
            ],
            [
             0.1111111111111111,
             "#46039f"
            ],
            [
             0.2222222222222222,
             "#7201a8"
            ],
            [
             0.3333333333333333,
             "#9c179e"
            ],
            [
             0.4444444444444444,
             "#bd3786"
            ],
            [
             0.5555555555555556,
             "#d8576b"
            ],
            [
             0.6666666666666666,
             "#ed7953"
            ],
            [
             0.7777777777777778,
             "#fb9f3a"
            ],
            [
             0.8888888888888888,
             "#fdca26"
            ],
            [
             1,
             "#f0f921"
            ]
           ],
           "sequentialminus": [
            [
             0,
             "#0d0887"
            ],
            [
             0.1111111111111111,
             "#46039f"
            ],
            [
             0.2222222222222222,
             "#7201a8"
            ],
            [
             0.3333333333333333,
             "#9c179e"
            ],
            [
             0.4444444444444444,
             "#bd3786"
            ],
            [
             0.5555555555555556,
             "#d8576b"
            ],
            [
             0.6666666666666666,
             "#ed7953"
            ],
            [
             0.7777777777777778,
             "#fb9f3a"
            ],
            [
             0.8888888888888888,
             "#fdca26"
            ],
            [
             1,
             "#f0f921"
            ]
           ]
          },
          "colorway": [
           "#636efa",
           "#EF553B",
           "#00cc96",
           "#ab63fa",
           "#FFA15A",
           "#19d3f3",
           "#FF6692",
           "#B6E880",
           "#FF97FF",
           "#FECB52"
          ],
          "font": {
           "color": "#2a3f5f"
          },
          "geo": {
           "bgcolor": "white",
           "lakecolor": "white",
           "landcolor": "#E5ECF6",
           "showlakes": true,
           "showland": true,
           "subunitcolor": "white"
          },
          "hoverlabel": {
           "align": "left"
          },
          "hovermode": "closest",
          "mapbox": {
           "style": "light"
          },
          "paper_bgcolor": "white",
          "plot_bgcolor": "#E5ECF6",
          "polar": {
           "angularaxis": {
            "gridcolor": "white",
            "linecolor": "white",
            "ticks": ""
           },
           "bgcolor": "#E5ECF6",
           "radialaxis": {
            "gridcolor": "white",
            "linecolor": "white",
            "ticks": ""
           }
          },
          "scene": {
           "xaxis": {
            "backgroundcolor": "#E5ECF6",
            "gridcolor": "white",
            "gridwidth": 2,
            "linecolor": "white",
            "showbackground": true,
            "ticks": "",
            "zerolinecolor": "white"
           },
           "yaxis": {
            "backgroundcolor": "#E5ECF6",
            "gridcolor": "white",
            "gridwidth": 2,
            "linecolor": "white",
            "showbackground": true,
            "ticks": "",
            "zerolinecolor": "white"
           },
           "zaxis": {
            "backgroundcolor": "#E5ECF6",
            "gridcolor": "white",
            "gridwidth": 2,
            "linecolor": "white",
            "showbackground": true,
            "ticks": "",
            "zerolinecolor": "white"
           }
          },
          "shapedefaults": {
           "line": {
            "color": "#2a3f5f"
           }
          },
          "ternary": {
           "aaxis": {
            "gridcolor": "white",
            "linecolor": "white",
            "ticks": ""
           },
           "baxis": {
            "gridcolor": "white",
            "linecolor": "white",
            "ticks": ""
           },
           "bgcolor": "#E5ECF6",
           "caxis": {
            "gridcolor": "white",
            "linecolor": "white",
            "ticks": ""
           }
          },
          "title": {
           "x": 0.05
          },
          "xaxis": {
           "automargin": true,
           "gridcolor": "white",
           "linecolor": "white",
           "ticks": "",
           "title": {
            "standoff": 15
           },
           "zerolinecolor": "white",
           "zerolinewidth": 2
          },
          "yaxis": {
           "automargin": true,
           "gridcolor": "white",
           "linecolor": "white",
           "ticks": "",
           "title": {
            "standoff": 15
           },
           "zerolinecolor": "white",
           "zerolinewidth": 2
          }
         }
        },
        "title": {
         "text": "Compare last 15 days vs next 30 days"
        },
        "xaxis": {
         "anchor": "y",
         "autorange": true,
         "domain": [
          0,
          1
         ],
         "range": [
          0,
          130
         ],
         "showgrid": false,
         "title": {
          "text": "Timestamp"
         },
         "type": "linear"
        },
        "yaxis": {
         "anchor": "x",
         "autorange": true,
         "domain": [
          0,
          1
         ],
         "range": [
          1983.55,
          3054.35
         ],
         "showgrid": false,
         "title": {
          "text": "Stock price"
         },
         "type": "linear"
        }
       }
      },
      "image/png": "[encoded data removed]",
      "text/html": [
       "<div>                            <div id=\"716f8713-0fad-426a-92c2-669d6f8473fb\" class=\"plotly-graph-div\" style=\"height:525px; width:100%;\"></div>            <script type=\"text/javascript\">                require([\"plotly\"], function(Plotly) {                    window.PLOTLYENV=window.PLOTLYENV || {};                                    if (document.getElementById(\"716f8713-0fad-426a-92c2-669d6f8473fb\")) {                    Plotly.newPlot(                        \"716f8713-0fad-426a-92c2-669d6f8473fb\",                        [{\"hovertemplate\":\"variable=last_original_days_value\\u003cbr\\u003eTimestamp=%{x}\\u003cbr\\u003eStock price=%{y}\\u003cextra\\u003e\\u003c\\u002fextra\\u003e\",\"legendgroup\":\"last_original_days_value\",\"line\":{\"color\":\"#636efa\",\"dash\":\"solid\"},\"marker\":{\"symbol\":\"circle\"},\"mode\":\"lines\",\"name\":\"Last 15 days close price\",\"orientation\":\"v\",\"showlegend\":true,\"x\":[0,1,2,3,4,5,6,7,8,9,10,11,12,13,14,15,16,17,18,19,20,21,22,23,24,25,26,27,28,29,30,31,32,33,34,35,36,37,38,39,40,41,42,43,44,45,46,47,48,49,50,51,52,53,54,55,56,57,58,59,60,61,62,63,64,65,66,67,68,69,70,71,72,73,74,75,76,77,78,79,80,81,82,83,84,85,86,87,88,89,90,91,92,93,94,95,96,97,98,99,100,101,102,103,104,105,106,107,108,109,110,111,112,113,114,115,116,117,118,119,120,121,122,123,124,125,126,127,128,129,130],\"xaxis\":\"x\",\"y\":[2068.31,2062.94,2066.16,2071.77,2060.16,2051.92,2037.09,2053.38,2100.43,2104.22,2119.69,2140.97,2136.35,2152.14,2175.4,2204.61,2257.59,2240.41,2310.59,2364.63,2424.32,2485.94,2488.09,2563.43,2536.11,2568.11,2681.56,2661.09,2696.65,2760.9,2755.62,2796.38,2651.32,2759.67,2766.38,2860.91,2931.65,2923.46,2957.75,3000.81,2966.33,2968.44,2974.46,2894.57,2782.6,2786.4,2749.57,2695.93,2823.25,2830.16,2739.46,2727.36,2701.9,2646.03,2632.94,2610.21,2688.38,2637.79,2580.76,2576.76,2588.3500000000004,2529.33,2470.39,2519.57,2486.76,2464.4,2508.86,2623.56,2597.49,2653.58,2690.72,2663.32,2668.17,2699.66,2742.88,2745.36,2697.91,2639.92,2665.81,2645.39,2627.14,2617.95,2645.36,2692.05,2677.62,2677.4,2675.51,2738.06,2760.21,2748.96,2734.83,2748.78,2753.76,2702.65,2711.75,2680.44,2667.4,2683.24,2716.66,2755.47,null,null,null,null,null,null,null,null,null,null,null,null,null,null,null,null,null,null,null,null,null,null,null,null,null,null,null,null,null,null,null],\"yaxis\":\"y\",\"type\":\"scatter\"},{\"hovertemplate\":\"variable=next_predicted_days_value\\u003cbr\\u003eTimestamp=%{x}\\u003cbr\\u003eStock price=%{y}\\u003cextra\\u003e\\u003c\\u002fextra\\u003e\",\"legendgroup\":\"next_predicted_days_value\",\"line\":{\"color\":\"#EF553B\",\"dash\":\"solid\"},\"marker\":{\"symbol\":\"circle\"},\"mode\":\"lines\",\"name\":\"Predicted next 30 days close price\",\"orientation\":\"v\",\"showlegend\":true,\"x\":[0,1,2,3,4,5,6,7,8,9,10,11,12,13,14,15,16,17,18,19,20,21,22,23,24,25,26,27,28,29,30,31,32,33,34,35,36,37,38,39,40,41,42,43,44,45,46,47,48,49,50,51,52,53,54,55,56,57,58,59,60,61,62,63,64,65,66,67,68,69,70,71,72,73,74,75,76,77,78,79,80,81,82,83,84,85,86,87,88,89,90,91,92,93,94,95,96,97,98,99,100,101,102,103,104,105,106,107,108,109,110,111,112,113,114,115,116,117,118,119,120,121,122,123,124,125,126,127,128,129,130],\"xaxis\":\"x\",\"y\":[null,null,null,null,null,null,null,null,null,null,null,null,null,null,null,null,null,null,null,null,null,null,null,null,null,null,null,null,null,null,null,null,null,null,null,null,null,null,null,null,null,null,null,null,null,null,null,null,null,null,null,null,null,null,null,null,null,null,null,null,null,null,null,null,null,null,null,null,null,null,null,null,null,null,null,null,null,null,null,null,null,null,null,null,null,null,null,null,null,null,null,null,null,null,null,null,null,null,null,null,2717.2600713431834,2721.0525763535497,2728.6765598481893,2738.5428255093098,2749.0078880906103,2758.8391647863386,2767.310229887962,2774.3953086060283,2780.159896299243,2784.821646745205,2788.413432139158,2790.9508169674873,2792.3165072607994,2792.14056630671,2790.166740401387,2786.147616469264,2780.017823667526,2772.190630238652,2763.536651293039,2755.8372111684084,2750.5492703062296,2747.088351113796,2742.8128489619494,2736.224464133382,2727.1822446393967,2717.430160050392,2707.145396479368,2695.8504354840516,2685.83001914978,2676.7120939940214,null],\"yaxis\":\"y\",\"type\":\"scatter\"}],                        {\"template\":{\"data\":{\"histogram2dcontour\":[{\"type\":\"histogram2dcontour\",\"colorbar\":{\"outlinewidth\":0,\"ticks\":\"\"},\"colorscale\":[[0.0,\"#0d0887\"],[0.1111111111111111,\"#46039f\"],[0.2222222222222222,\"#7201a8\"],[0.3333333333333333,\"#9c179e\"],[0.4444444444444444,\"#bd3786\"],[0.5555555555555556,\"#d8576b\"],[0.6666666666666666,\"#ed7953\"],[0.7777777777777778,\"#fb9f3a\"],[0.8888888888888888,\"#fdca26\"],[1.0,\"#f0f921\"]]}],\"choropleth\":[{\"type\":\"choropleth\",\"colorbar\":{\"outlinewidth\":0,\"ticks\":\"\"}}],\"histogram2d\":[{\"type\":\"histogram2d\",\"colorbar\":{\"outlinewidth\":0,\"ticks\":\"\"},\"colorscale\":[[0.0,\"#0d0887\"],[0.1111111111111111,\"#46039f\"],[0.2222222222222222,\"#7201a8\"],[0.3333333333333333,\"#9c179e\"],[0.4444444444444444,\"#bd3786\"],[0.5555555555555556,\"#d8576b\"],[0.6666666666666666,\"#ed7953\"],[0.7777777777777778,\"#fb9f3a\"],[0.8888888888888888,\"#fdca26\"],[1.0,\"#f0f921\"]]}],\"heatmap\":[{\"type\":\"heatmap\",\"colorbar\":{\"outlinewidth\":0,\"ticks\":\"\"},\"colorscale\":[[0.0,\"#0d0887\"],[0.1111111111111111,\"#46039f\"],[0.2222222222222222,\"#7201a8\"],[0.3333333333333333,\"#9c179e\"],[0.4444444444444444,\"#bd3786\"],[0.5555555555555556,\"#d8576b\"],[0.6666666666666666,\"#ed7953\"],[0.7777777777777778,\"#fb9f3a\"],[0.8888888888888888,\"#fdca26\"],[1.0,\"#f0f921\"]]}],\"heatmapgl\":[{\"type\":\"heatmapgl\",\"colorbar\":{\"outlinewidth\":0,\"ticks\":\"\"},\"colorscale\":[[0.0,\"#0d0887\"],[0.1111111111111111,\"#46039f\"],[0.2222222222222222,\"#7201a8\"],[0.3333333333333333,\"#9c179e\"],[0.4444444444444444,\"#bd3786\"],[0.5555555555555556,\"#d8576b\"],[0.6666666666666666,\"#ed7953\"],[0.7777777777777778,\"#fb9f3a\"],[0.8888888888888888,\"#fdca26\"],[1.0,\"#f0f921\"]]}],\"contourcarpet\":[{\"type\":\"contourcarpet\",\"colorbar\":{\"outlinewidth\":0,\"ticks\":\"\"}}],\"contour\":[{\"type\":\"contour\",\"colorbar\":{\"outlinewidth\":0,\"ticks\":\"\"},\"colorscale\":[[0.0,\"#0d0887\"],[0.1111111111111111,\"#46039f\"],[0.2222222222222222,\"#7201a8\"],[0.3333333333333333,\"#9c179e\"],[0.4444444444444444,\"#bd3786\"],[0.5555555555555556,\"#d8576b\"],[0.6666666666666666,\"#ed7953\"],[0.7777777777777778,\"#fb9f3a\"],[0.8888888888888888,\"#fdca26\"],[1.0,\"#f0f921\"]]}],\"surface\":[{\"type\":\"surface\",\"colorbar\":{\"outlinewidth\":0,\"ticks\":\"\"},\"colorscale\":[[0.0,\"#0d0887\"],[0.1111111111111111,\"#46039f\"],[0.2222222222222222,\"#7201a8\"],[0.3333333333333333,\"#9c179e\"],[0.4444444444444444,\"#bd3786\"],[0.5555555555555556,\"#d8576b\"],[0.6666666666666666,\"#ed7953\"],[0.7777777777777778,\"#fb9f3a\"],[0.8888888888888888,\"#fdca26\"],[1.0,\"#f0f921\"]]}],\"mesh3d\":[{\"type\":\"mesh3d\",\"colorbar\":{\"outlinewidth\":0,\"ticks\":\"\"}}],\"scatter\":[{\"fillpattern\":{\"fillmode\":\"overlay\",\"size\":10,\"solidity\":0.2},\"type\":\"scatter\"}],\"parcoords\":[{\"type\":\"parcoords\",\"line\":{\"colorbar\":{\"outlinewidth\":0,\"ticks\":\"\"}}}],\"scatterpolargl\":[{\"type\":\"scatterpolargl\",\"marker\":{\"colorbar\":{\"outlinewidth\":0,\"ticks\":\"\"}}}],\"bar\":[{\"error_x\":{\"color\":\"#2a3f5f\"},\"error_y\":{\"color\":\"#2a3f5f\"},\"marker\":{\"line\":{\"color\":\"#E5ECF6\",\"width\":0.5},\"pattern\":{\"fillmode\":\"overlay\",\"size\":10,\"solidity\":0.2}},\"type\":\"bar\"}],\"scattergeo\":[{\"type\":\"scattergeo\",\"marker\":{\"colorbar\":{\"outlinewidth\":0,\"ticks\":\"\"}}}],\"scatterpolar\":[{\"type\":\"scatterpolar\",\"marker\":{\"colorbar\":{\"outlinewidth\":0,\"ticks\":\"\"}}}],\"histogram\":[{\"marker\":{\"pattern\":{\"fillmode\":\"overlay\",\"size\":10,\"solidity\":0.2}},\"type\":\"histogram\"}],\"scattergl\":[{\"type\":\"scattergl\",\"marker\":{\"colorbar\":{\"outlinewidth\":0,\"ticks\":\"\"}}}],\"scatter3d\":[{\"type\":\"scatter3d\",\"line\":{\"colorbar\":{\"outlinewidth\":0,\"ticks\":\"\"}},\"marker\":{\"colorbar\":{\"outlinewidth\":0,\"ticks\":\"\"}}}],\"scattermapbox\":[{\"type\":\"scattermapbox\",\"marker\":{\"colorbar\":{\"outlinewidth\":0,\"ticks\":\"\"}}}],\"scatterternary\":[{\"type\":\"scatterternary\",\"marker\":{\"colorbar\":{\"outlinewidth\":0,\"ticks\":\"\"}}}],\"scattercarpet\":[{\"type\":\"scattercarpet\",\"marker\":{\"colorbar\":{\"outlinewidth\":0,\"ticks\":\"\"}}}],\"carpet\":[{\"aaxis\":{\"endlinecolor\":\"#2a3f5f\",\"gridcolor\":\"white\",\"linecolor\":\"white\",\"minorgridcolor\":\"white\",\"startlinecolor\":\"#2a3f5f\"},\"baxis\":{\"endlinecolor\":\"#2a3f5f\",\"gridcolor\":\"white\",\"linecolor\":\"white\",\"minorgridcolor\":\"white\",\"startlinecolor\":\"#2a3f5f\"},\"type\":\"carpet\"}],\"table\":[{\"cells\":{\"fill\":{\"color\":\"#EBF0F8\"},\"line\":{\"color\":\"white\"}},\"header\":{\"fill\":{\"color\":\"#C8D4E3\"},\"line\":{\"color\":\"white\"}},\"type\":\"table\"}],\"barpolar\":[{\"marker\":{\"line\":{\"color\":\"#E5ECF6\",\"width\":0.5},\"pattern\":{\"fillmode\":\"overlay\",\"size\":10,\"solidity\":0.2}},\"type\":\"barpolar\"}],\"pie\":[{\"automargin\":true,\"type\":\"pie\"}]},\"layout\":{\"autotypenumbers\":\"strict\",\"colorway\":[\"#636efa\",\"#EF553B\",\"#00cc96\",\"#ab63fa\",\"#FFA15A\",\"#19d3f3\",\"#FF6692\",\"#B6E880\",\"#FF97FF\",\"#FECB52\"],\"font\":{\"color\":\"#2a3f5f\"},\"hovermode\":\"closest\",\"hoverlabel\":{\"align\":\"left\"},\"paper_bgcolor\":\"white\",\"plot_bgcolor\":\"#E5ECF6\",\"polar\":{\"bgcolor\":\"#E5ECF6\",\"angularaxis\":{\"gridcolor\":\"white\",\"linecolor\":\"white\",\"ticks\":\"\"},\"radialaxis\":{\"gridcolor\":\"white\",\"linecolor\":\"white\",\"ticks\":\"\"}},\"ternary\":{\"bgcolor\":\"#E5ECF6\",\"aaxis\":{\"gridcolor\":\"white\",\"linecolor\":\"white\",\"ticks\":\"\"},\"baxis\":{\"gridcolor\":\"white\",\"linecolor\":\"white\",\"ticks\":\"\"},\"caxis\":{\"gridcolor\":\"white\",\"linecolor\":\"white\",\"ticks\":\"\"}},\"coloraxis\":{\"colorbar\":{\"outlinewidth\":0,\"ticks\":\"\"}},\"colorscale\":{\"sequential\":[[0.0,\"#0d0887\"],[0.1111111111111111,\"#46039f\"],[0.2222222222222222,\"#7201a8\"],[0.3333333333333333,\"#9c179e\"],[0.4444444444444444,\"#bd3786\"],[0.5555555555555556,\"#d8576b\"],[0.6666666666666666,\"#ed7953\"],[0.7777777777777778,\"#fb9f3a\"],[0.8888888888888888,\"#fdca26\"],[1.0,\"#f0f921\"]],\"sequentialminus\":[[0.0,\"#0d0887\"],[0.1111111111111111,\"#46039f\"],[0.2222222222222222,\"#7201a8\"],[0.3333333333333333,\"#9c179e\"],[0.4444444444444444,\"#bd3786\"],[0.5555555555555556,\"#d8576b\"],[0.6666666666666666,\"#ed7953\"],[0.7777777777777778,\"#fb9f3a\"],[0.8888888888888888,\"#fdca26\"],[1.0,\"#f0f921\"]],\"diverging\":[[0,\"#8e0152\"],[0.1,\"#c51b7d\"],[0.2,\"#de77ae\"],[0.3,\"#f1b6da\"],[0.4,\"#fde0ef\"],[0.5,\"#f7f7f7\"],[0.6,\"#e6f5d0\"],[0.7,\"#b8e186\"],[0.8,\"#7fbc41\"],[0.9,\"#4d9221\"],[1,\"#276419\"]]},\"xaxis\":{\"gridcolor\":\"white\",\"linecolor\":\"white\",\"ticks\":\"\",\"title\":{\"standoff\":15},\"zerolinecolor\":\"white\",\"automargin\":true,\"zerolinewidth\":2},\"yaxis\":{\"gridcolor\":\"white\",\"linecolor\":\"white\",\"ticks\":\"\",\"title\":{\"standoff\":15},\"zerolinecolor\":\"white\",\"automargin\":true,\"zerolinewidth\":2},\"scene\":{\"xaxis\":{\"backgroundcolor\":\"#E5ECF6\",\"gridcolor\":\"white\",\"linecolor\":\"white\",\"showbackground\":true,\"ticks\":\"\",\"zerolinecolor\":\"white\",\"gridwidth\":2},\"yaxis\":{\"backgroundcolor\":\"#E5ECF6\",\"gridcolor\":\"white\",\"linecolor\":\"white\",\"showbackground\":true,\"ticks\":\"\",\"zerolinecolor\":\"white\",\"gridwidth\":2},\"zaxis\":{\"backgroundcolor\":\"#E5ECF6\",\"gridcolor\":\"white\",\"linecolor\":\"white\",\"showbackground\":true,\"ticks\":\"\",\"zerolinecolor\":\"white\",\"gridwidth\":2}},\"shapedefaults\":{\"line\":{\"color\":\"#2a3f5f\"}},\"annotationdefaults\":{\"arrowcolor\":\"#2a3f5f\",\"arrowhead\":0,\"arrowwidth\":1},\"geo\":{\"bgcolor\":\"white\",\"landcolor\":\"#E5ECF6\",\"subunitcolor\":\"white\",\"showland\":true,\"showlakes\":true,\"lakecolor\":\"white\"},\"title\":{\"x\":0.05},\"mapbox\":{\"style\":\"light\"}}},\"xaxis\":{\"anchor\":\"y\",\"domain\":[0.0,1.0],\"title\":{\"text\":\"Timestamp\"},\"showgrid\":false},\"yaxis\":{\"anchor\":\"x\",\"domain\":[0.0,1.0],\"title\":{\"text\":\"Stock price\"},\"showgrid\":false},\"legend\":{\"title\":{\"text\":\"Close Price\"},\"tracegroupgap\":0},\"margin\":{\"t\":60},\"title\":{\"text\":\"Compare last 15 days vs next 30 days\"},\"font\":{\"size\":15,\"color\":\"black\"},\"plot_bgcolor\":\"white\"},                        {\"responsive\": true}                    ).then(function(){\n",
       "                            \n",
       "var gd = document.getElementById('716f8713-0fad-426a-92c2-669d6f8473fb');\n",
       "var x = new MutationObserver(function (mutations, observer) {{\n",
       "        var display = window.getComputedStyle(gd).display;\n",
       "        if (!display || display === 'none') {{\n",
       "            console.log([gd, 'removed!']);\n",
       "            Plotly.purge(gd);\n",
       "            observer.disconnect();\n",
       "        }}\n",
       "}});\n",
       "\n",
       "// Listen for the removal of the full notebook cells\n",
       "var notebookContainer = gd.closest('#notebook-container');\n",
       "if (notebookContainer) {{\n",
       "    x.observe(notebookContainer, {childList: true});\n",
       "}}\n",
       "\n",
       "// Listen for the clearing of the current output cell\n",
       "var outputEl = gd.closest('.output');\n",
       "if (outputEl) {{\n",
       "    x.observe(outputEl, {childList: true});\n",
       "}}\n",
       "\n",
       "                        })                };                });            </script>        </div>"
      ]
     },
     "metadata": {},
     "output_type": "display_data"
    }
   ],
   "source": [
    "# Initialize the template matrix with NaNs to hold both actual and predicted values\n",
    "temp_mat = np.empty((len(last_days) + pred_days + 1, 1))\n",
    "temp_mat[:] = np.nan\n",
    "\n",
    "# Extract the last actual values and predicted values, then inverse transform them\n",
    "last_original_days_value = temp_mat.flatten().tolist()\n",
    "next_predicted_days_value = temp_mat.flatten().tolist()\n",
    "\n",
    "last_original_days_value[:time_step] = scaler.inverse_transform(data[-time_step:]).flatten().tolist()\n",
    "next_predicted_days_value[time_step:time_step + pred_days] = scaler.inverse_transform(np.array(lst_output).reshape(-1,1)).flatten().tolist()\n",
    "\n",
    "# Create a DataFrame for the plot\n",
    "new_pred_plot = pd.DataFrame({\n",
    "    'last_original_days_value': last_original_days_value,\n",
    "    'next_predicted_days_value': next_predicted_days_value\n",
    "})\n",
    "# Cycle through the names for the legend\n",
    "names = cycle(['Last 15 days close price', 'Predicted next 30 days close price'])\n",
    "\n",
    "# Create the plot\n",
    "fig = px.line(new_pred_plot, x=new_pred_plot.index, y=['last_original_days_value', 'next_predicted_days_value'],\n",
    "              labels={'value': 'Stock price', 'index': 'Timestamp'})\n",
    "\n",
    "# Update the layout and add proper names to the traces\n",
    "fig.update_layout(title_text='Compare last 15 days vs next 30 days',\n",
    "                  plot_bgcolor='white', font_size=15, font_color='black', legend_title_text='Close Price')\n",
    "\n",
    "fig.for_each_trace(lambda t: t.update(name=next(names)))\n",
    "\n",
    "# Update the axes\n",
    "fig.update_xaxes(showgrid=False)\n",
    "fig.update_yaxes(showgrid=False)\n",
    "\n",
    "# Show the plot\n",
    "fig.show()"
   ]
  },
  {
   "cell_type": "code",
   "execution_count": 42,
   "id": "068d88a3-c628-4705-835b-62ac108778dd",
   "metadata": {},
   "outputs": [
    {
     "data": {
      "application/vnd.plotly.v1+json": {
       "config": {
        "plotlyServerURL": "https://plot.ly"
       },
       "data": [
        {
         "hovertemplate": "variable=0<br>Timestamp=%{x}<br>Stock price=%{y}<extra></extra>",
         "legendgroup": "0",
         "line": {
          "color": "#636efa",
          "dash": "solid"
         },
         "marker": {
          "symbol": "circle"
         },
         "mode": "lines",
         "name": "Close price",
         "showlegend": true,
         "type": "scattergl",
         "x": [
          0,
          1,
          2,
          3,
          4,
          5,
          6,
          7,
          8,
          9,
          10,
          11,
          12,
          13,
          14,
          15,
          16,
          17,
          18,
          19,
          20,
          21,
          22,
          23,
          24,
          25,
          26,
          27,
          28,
          29,
          30,
          31,
          32,
          33,
          34,
          35,
          36,
          37,
          38,
          39,
          40,
          41,
          42,
          43,
          44,
          45,
          46,
          47,
          48,
          49,
          50,
          51,
          52,
          53,
          54,
          55,
          56,
          57,
          58,
          59,
          60,
          61,
          62,
          63,
          64,
          65,
          66,
          67,
          68,
          69,
          70,
          71,
          72,
          73,
          74,
          75,
          76,
          77,
          78,
          79,
          80,
          81,
          82,
          83,
          84,
          85,
          86,
          87,
          88,
          89,
          90,
          91,
          92,
          93,
          94,
          95,
          96,
          97,
          98,
          99,
          100,
          101,
          102,
          103,
          104,
          105,
          106,
          107,
          108,
          109,
          110,
          111,
          112,
          113,
          114,
          115,
          116,
          117,
          118,
          119,
          120,
          121,
          122,
          123,
          124,
          125,
          126,
          127,
          128,
          129,
          130,
          131,
          132,
          133,
          134,
          135,
          136,
          137,
          138,
          139,
          140,
          141,
          142,
          143,
          144,
          145,
          146,
          147,
          148,
          149,
          150,
          151,
          152,
          153,
          154,
          155,
          156,
          157,
          158,
          159,
          160,
          161,
          162,
          163,
          164,
          165,
          166,
          167,
          168,
          169,
          170,
          171,
          172,
          173,
          174,
          175,
          176,
          177,
          178,
          179,
          180,
          181,
          182,
          183,
          184,
          185,
          186,
          187,
          188,
          189,
          190,
          191,
          192,
          193,
          194,
          195,
          196,
          197,
          198,
          199,
          200,
          201,
          202,
          203,
          204,
          205,
          206,
          207,
          208,
          209,
          210,
          211,
          212,
          213,
          214,
          215,
          216,
          217,
          218,
          219,
          220,
          221,
          222,
          223,
          224,
          225,
          226,
          227,
          228,
          229,
          230,
          231,
          232,
          233,
          234,
          235,
          236,
          237,
          238,
          239,
          240,
          241,
          242,
          243,
          244,
          245,
          246,
          247,
          248,
          249,
          250,
          251,
          252,
          253,
          254,
          255,
          256,
          257,
          258,
          259,
          260,
          261,
          262,
          263,
          264,
          265,
          266,
          267,
          268,
          269,
          270,
          271,
          272,
          273,
          274,
          275,
          276,
          277,
          278,
          279,
          280,
          281,
          282,
          283,
          284,
          285,
          286,
          287,
          288,
          289,
          290,
          291,
          292,
          293,
          294,
          295,
          296,
          297,
          298,
          299,
          300,
          301,
          302,
          303,
          304,
          305,
          306,
          307,
          308,
          309,
          310,
          311,
          312,
          313,
          314,
          315,
          316,
          317,
          318,
          319,
          320,
          321,
          322,
          323,
          324,
          325,
          326,
          327,
          328,
          329,
          330,
          331,
          332,
          333,
          334,
          335,
          336,
          337,
          338,
          339,
          340,
          341,
          342,
          343,
          344,
          345,
          346,
          347,
          348,
          349,
          350,
          351,
          352,
          353,
          354,
          355,
          356,
          357,
          358,
          359,
          360,
          361,
          362,
          363,
          364,
          365,
          366,
          367,
          368,
          369,
          370,
          371,
          372,
          373,
          374,
          375,
          376,
          377,
          378,
          379,
          380,
          381,
          382,
          383,
          384,
          385,
          386,
          387,
          388,
          389,
          390,
          391,
          392,
          393,
          394,
          395,
          396,
          397,
          398,
          399,
          400,
          401,
          402,
          403,
          404,
          405,
          406,
          407,
          408,
          409,
          410,
          411,
          412,
          413,
          414,
          415,
          416,
          417,
          418,
          419,
          420,
          421,
          422,
          423,
          424,
          425,
          426,
          427,
          428,
          429,
          430,
          431,
          432,
          433,
          434,
          435,
          436,
          437,
          438,
          439,
          440,
          441,
          442,
          443,
          444,
          445,
          446,
          447,
          448,
          449,
          450,
          451,
          452,
          453,
          454,
          455,
          456,
          457,
          458,
          459,
          460,
          461,
          462,
          463,
          464,
          465,
          466,
          467,
          468,
          469,
          470,
          471,
          472,
          473,
          474,
          475,
          476,
          477,
          478,
          479,
          480,
          481,
          482,
          483,
          484,
          485,
          486,
          487,
          488,
          489,
          490,
          491,
          492,
          493,
          494,
          495,
          496,
          497,
          498,
          499,
          500,
          501,
          502,
          503,
          504,
          505,
          506,
          507,
          508,
          509,
          510,
          511,
          512,
          513,
          514,
          515,
          516,
          517,
          518,
          519,
          520,
          521,
          522,
          523,
          524,
          525,
          526,
          527,
          528,
          529,
          530,
          531,
          532,
          533,
          534,
          535,
          536,
          537,
          538,
          539,
          540,
          541,
          542,
          543,
          544,
          545,
          546,
          547,
          548,
          549,
          550,
          551,
          552,
          553,
          554,
          555,
          556,
          557,
          558,
          559,
          560,
          561,
          562,
          563,
          564,
          565,
          566,
          567,
          568,
          569,
          570,
          571,
          572,
          573,
          574,
          575,
          576,
          577,
          578,
          579,
          580,
          581,
          582,
          583,
          584,
          585,
          586,
          587,
          588,
          589,
          590,
          591,
          592,
          593,
          594,
          595,
          596,
          597,
          598,
          599,
          600,
          601,
          602,
          603,
          604,
          605,
          606,
          607,
          608,
          609,
          610,
          611,
          612,
          613,
          614,
          615,
          616,
          617,
          618,
          619,
          620,
          621,
          622,
          623,
          624,
          625,
          626,
          627,
          628,
          629,
          630,
          631,
          632,
          633,
          634,
          635,
          636,
          637,
          638,
          639,
          640,
          641,
          642,
          643,
          644,
          645,
          646,
          647,
          648,
          649,
          650,
          651,
          652,
          653,
          654,
          655,
          656,
          657,
          658,
          659,
          660,
          661,
          662,
          663,
          664,
          665,
          666,
          667,
          668,
          669,
          670,
          671,
          672,
          673,
          674,
          675,
          676,
          677,
          678,
          679,
          680,
          681,
          682,
          683,
          684,
          685,
          686,
          687,
          688,
          689,
          690,
          691,
          692,
          693,
          694,
          695,
          696,
          697,
          698,
          699,
          700,
          701,
          702,
          703,
          704,
          705,
          706,
          707,
          708,
          709,
          710,
          711,
          712,
          713,
          714,
          715,
          716,
          717,
          718,
          719,
          720,
          721,
          722,
          723,
          724,
          725,
          726,
          727,
          728,
          729,
          730,
          731,
          732,
          733,
          734,
          735,
          736,
          737,
          738,
          739,
          740,
          741,
          742,
          743,
          744,
          745,
          746,
          747,
          748,
          749,
          750,
          751,
          752,
          753,
          754,
          755,
          756,
          757,
          758,
          759,
          760,
          761,
          762,
          763,
          764,
          765,
          766,
          767,
          768,
          769,
          770,
          771,
          772,
          773,
          774,
          775,
          776,
          777,
          778,
          779,
          780,
          781,
          782,
          783,
          784,
          785,
          786,
          787,
          788,
          789,
          790,
          791,
          792,
          793,
          794,
          795,
          796,
          797,
          798,
          799,
          800,
          801,
          802,
          803,
          804,
          805,
          806,
          807,
          808,
          809,
          810,
          811,
          812,
          813,
          814,
          815,
          816,
          817,
          818,
          819,
          820,
          821,
          822,
          823,
          824,
          825,
          826,
          827,
          828,
          829,
          830,
          831,
          832,
          833,
          834,
          835,
          836,
          837,
          838,
          839,
          840,
          841,
          842,
          843,
          844,
          845,
          846,
          847,
          848,
          849,
          850,
          851,
          852,
          853,
          854,
          855,
          856,
          857,
          858,
          859,
          860,
          861,
          862,
          863,
          864,
          865,
          866,
          867,
          868,
          869,
          870,
          871,
          872,
          873,
          874,
          875,
          876,
          877,
          878,
          879,
          880,
          881,
          882,
          883,
          884,
          885,
          886,
          887,
          888,
          889,
          890,
          891,
          892,
          893,
          894,
          895,
          896,
          897,
          898,
          899,
          900,
          901,
          902,
          903,
          904,
          905,
          906,
          907,
          908,
          909,
          910,
          911,
          912,
          913,
          914,
          915,
          916,
          917,
          918,
          919,
          920,
          921,
          922,
          923,
          924,
          925,
          926,
          927,
          928,
          929,
          930,
          931,
          932,
          933,
          934,
          935,
          936,
          937,
          938,
          939,
          940,
          941,
          942,
          943,
          944,
          945,
          946,
          947,
          948,
          949,
          950,
          951,
          952,
          953,
          954,
          955,
          956,
          957,
          958,
          959,
          960,
          961,
          962,
          963,
          964,
          965,
          966,
          967,
          968,
          969,
          970,
          971,
          972,
          973,
          974,
          975,
          976,
          977,
          978,
          979,
          980,
          981,
          982,
          983,
          984,
          985,
          986,
          987,
          988,
          989,
          990,
          991,
          992,
          993,
          994,
          995,
          996,
          997,
          998,
          999,
          1000,
          1001,
          1002,
          1003,
          1004,
          1005,
          1006,
          1007,
          1008,
          1009,
          1010,
          1011,
          1012,
          1013,
          1014,
          1015,
          1016,
          1017,
          1018,
          1019,
          1020,
          1021,
          1022,
          1023,
          1024,
          1025,
          1026,
          1027,
          1028,
          1029,
          1030,
          1031,
          1032,
          1033,
          1034,
          1035,
          1036,
          1037,
          1038,
          1039,
          1040,
          1041,
          1042,
          1043,
          1044,
          1045,
          1046,
          1047,
          1048,
          1049,
          1050,
          1051,
          1052,
          1053,
          1054,
          1055,
          1056,
          1057,
          1058,
          1059,
          1060,
          1061,
          1062,
          1063,
          1064,
          1065,
          1066,
          1067,
          1068,
          1069,
          1070,
          1071,
          1072,
          1073,
          1074,
          1075,
          1076,
          1077,
          1078,
          1079,
          1080,
          1081,
          1082,
          1083,
          1084,
          1085,
          1086,
          1087,
          1088,
          1089,
          1090,
          1091,
          1092,
          1093,
          1094,
          1095,
          1096,
          1097,
          1098,
          1099,
          1100,
          1101,
          1102,
          1103,
          1104,
          1105,
          1106,
          1107,
          1108,
          1109,
          1110,
          1111,
          1112,
          1113,
          1114,
          1115,
          1116,
          1117,
          1118,
          1119,
          1120,
          1121,
          1122,
          1123,
          1124,
          1125,
          1126,
          1127,
          1128,
          1129,
          1130,
          1131,
          1132,
          1133,
          1134,
          1135,
          1136,
          1137,
          1138,
          1139,
          1140,
          1141,
          1142,
          1143,
          1144,
          1145,
          1146,
          1147,
          1148,
          1149,
          1150,
          1151,
          1152,
          1153,
          1154,
          1155,
          1156,
          1157,
          1158,
          1159,
          1160,
          1161,
          1162,
          1163,
          1164,
          1165,
          1166,
          1167,
          1168,
          1169,
          1170,
          1171,
          1172,
          1173,
          1174,
          1175,
          1176,
          1177,
          1178,
          1179,
          1180,
          1181,
          1182,
          1183,
          1184,
          1185,
          1186,
          1187,
          1188,
          1189,
          1190,
          1191,
          1192,
          1193,
          1194,
          1195,
          1196,
          1197,
          1198,
          1199,
          1200,
          1201,
          1202,
          1203,
          1204,
          1205,
          1206,
          1207,
          1208,
          1209,
          1210,
          1211,
          1212,
          1213,
          1214,
          1215,
          1216,
          1217,
          1218,
          1219,
          1220,
          1221,
          1222,
          1223,
          1224,
          1225,
          1226,
          1227,
          1228,
          1229,
          1230,
          1231,
          1232,
          1233,
          1234,
          1235,
          1236,
          1237,
          1238,
          1239,
          1240,
          1241,
          1242,
          1243,
          1244,
          1245,
          1246,
          1247,
          1248,
          1249,
          1250
         ],
         "xaxis": "x",
         "y": [
          1256.04,
          1247.35,
          1250.27,
          1249.15,
          1248.53,
          1249.49,
          1254.56,
          1259.01,
          1274.86,
          1272.49,
          1268.74,
          1271.23,
          1277.17,
          1284.07,
          1269.92,
          1252.8,
          1255.98,
          1259.37,
          1265.57,
          1263.8399999999997,
          1259.64,
          1255.09,
          1245.73,
          1248.48,
          1238.56,
          1233.71,
          1233.85,
          1231.07,
          1225.9,
          1224.03,
          1214.83,
          1222.06,
          1213.63,
          1214.05,
          1213.06,
          1209.62,
          1203.13,
          1208,
          1197.75,
          1196.41,
          1184.78,
          1170.34,
          1190.9,
          1194.77,
          1191.07,
          1178.46,
          1168.91,
          1166.67,
          1163.21,
          1157.88,
          1140.01,
          1123.83,
          1150.74,
          1172.15,
          1155.3,
          1139.25,
          1140.98,
          1134.56,
          1131.53,
          1129.8,
          1125.14,
          1135.56,
          1145.69,
          1140.71,
          1149.4,
          1149.01,
          1136.96,
          1142.04,
          1137.03,
          1137.75,
          1133.71,
          1132.4,
          1134.79,
          1142.6,
          1149.34,
          1146.17,
          1139.29,
          1140.26,
          1139.45,
          1138.02,
          1131.97,
          1131.8,
          1145.57,
          1139.96,
          1135.16,
          1135.95,
          1131.36,
          1131.12,
          1129.99,
          1128.34,
          1120.6,
          1110.08,
          1110.08,
          1109.16,
          1117.46,
          1112.79,
          1112.85,
          1111.99,
          1115.74,
          1124.47,
          1131.92,
          1135.37,
          1148.89,
          1151.36,
          1161.47,
          1172.64,
          1167.86,
          1154.11,
          1155.37,
          1152.07,
          1149.64,
          1150.81,
          1168.58,
          1166.21,
          1168.03,
          1167.41,
          1162.43,
          1167.95,
          1166.03,
          1169.5,
          1166.21,
          1182.31,
          1200.69,
          1216.92,
          1209.6,
          1213.11,
          1255.72,
          1270.8599999999997,
          1263.38,
          1284.23,
          1310.23,
          1343.65,
          1317.11,
          1320.47,
          1313.42,
          1297.47,
          1276.68,
          1300.62,
          1306.15,
          1305.88,
          1325.38,
          1346.64,
          1349.13,
          1337.04,
          1342.36,
          1333.69,
          1319.99,
          1324.26,
          1341.38,
          1345.97,
          1344.59,
          1363.97,
          1398.24,
          1400.01,
          1405.25,
          1434.57,
          1504.14,
          1502.18,
          1545.19,
          1596.13,
          1632.17,
          1591.36,
          1495.3,
          1509.67,
          1441.2,
          1435.7,
          1349.31,
          1423.09,
          1377.18,
          1313.04,
          1316.39,
          1272.06,
          1255.8,
          1269.3,
          1251.45,
          1226.15,
          1201.57,
          1188.7,
          1260.75,
          1336.52,
          1256.11,
          1265.45,
          1298.73,
          1336.66,
          1326.53,
          1331.27,
          1340.29,
          1342.4,
          1347.44,
          1362.34,
          1394.77,
          1479.03,
          1464.94,
          1449.94,
          1432.44,
          1442.61,
          1465.1,
          1462.48,
          1454.89,
          1431.52,
          1439.06,
          1396.28,
          1403.86,
          1382.66,
          1381.37,
          1392.68,
          1430.41,
          1423.81,
          1425.32,
          1408.79,
          1391.46,
          1402.21,
          1407.89,
          1391.29,
          1397.57,
          1410.34,
          1431.6,
          1440.94,
          1462.03,
          1458.04,
          1462.6700000000003,
          1484.99,
          1510.57,
          1510.42,
          1499.97,
          1487.81,
          1495.15,
          1508.2000000000003,
          1520.69,
          1537.25,
          1540.51,
          1536.03,
          1541.4,
          1572.18,
          1575.18,
          1569.06,
          1546.15,
          1555.52,
          1561.27,
          1565.55,
          1560.83,
          1553.62,
          1550.43,
          1571.04,
          1585.75,
          1582.12,
          1586.29,
          1600.97,
          1589.63,
          1576.27,
          1578.01,
          1568.59,
          1561.17,
          1562.46,
          1556.8,
          1570.38,
          1583.6,
          1597.71,
          1606.25,
          1647.45,
          1645.67,
          1640.95,
          1637.63,
          1643.03,
          1640.64,
          1636.17,
          1648.5799999999997,
          1652.8,
          1678.79,
          1707.67,
          1718.49,
          1741.81,
          1778.12,
          1782.81,
          1780.43,
          1810.11,
          1874.81,
          1893.24,
          1968.27,
          1997.05,
          2000.4,
          2071.02,
          2055.45,
          1932.11,
          2004.39,
          1995.35,
          1955.75,
          1964.02,
          2010.45,
          2067.17,
          2061.41,
          2055.22,
          2032.51,
          1935.63,
          1965.96,
          2061.41,
          2068.45,
          2038.63,
          1998.65,
          2007.29,
          2012.89,
          2062.06,
          2087.27,
          2175.39,
          2169.04,
          2165.49,
          2178.57,
          2194.48,
          2235.72,
          2239.42,
          2267.73,
          2286.54,
          2315,
          2332.31,
          2326.9000000000005,
          2342.76,
          2374.64,
          2424.84,
          2440.87,
          2423.09,
          2441.85,
          2425.29,
          2370.54,
          2408.24,
          2473.73,
          2466.92,
          2475.26,
          2524,
          2561.47,
          2532.46,
          2543.03,
          2526.92,
          2493.59,
          2586.01,
          2601.51,
          2611.45,
          2636.68,
          2640.34,
          2607.67,
          2586.51,
          2599.07,
          2554.13,
          2474.39,
          2515.03,
          2455.33,
          2416.01,
          2506.68,
          2485.1,
          2461.88,
          2458.49,
          2407.26,
          2389.19,
          2391.75,
          2432.15,
          2475.09,
          2538.47,
          2514.4,
          2528.96,
          2570.31,
          2548.97,
          2543.52,
          2575.67,
          2619.03,
          2631.9,
          2657.61,
          2658.75,
          2674.47,
          2671.62,
          2674.36,
          2691.56,
          2714.79,
          2735.4,
          2699.51,
          2661.94,
          2664.62,
          2632.21,
          2648.0099999999998,
          2572.21,
          2506.62,
          2599.08,
          2585.28,
          2611.11,
          2665.11,
          2652.58,
          2654.03,
          2649.6,
          2637.13,
          2618.63,
          2645.85,
          2673.32,
          2673.88,
          2684.01,
          2738.3,
          2759.22,
          2793.81,
          2780.81,
          2787.19,
          2820,
          2823.05,
          2816.6,
          2815.4,
          2827.93,
          2782.86,
          2771.15,
          2827.13,
          2856.77,
          2906.91,
          2906.7,
          2960.14,
          2946.58,
          2944.78,
          2983.11,
          3025.83,
          3022.11,
          2969.72,
          2968.42,
          2905.32,
          2834.41,
          2913.84,
          2859.96,
          2843,
          2870.18,
          2871.6969,
          2828,
          2823.88,
          2843,
          2834.52,
          2822.74,
          2818.11,
          2801.13,
          2825.11,
          2899.82,
          2854.84,
          2871.03,
          2872.05,
          2883.38,
          2980.61,
          2994.4200000000005,
          3004.33,
          3058.64,
          3050.43,
          3076.3728,
          3094.95,
          3079.82,
          3081.07,
          3085.07,
          3111.09,
          3123.15,
          3107.45,
          3108.13,
          3109.6,
          3161.56,
          3162.41,
          3178.91,
          3154.34,
          3160.09,
          3160.32,
          3198.19,
          3180.86,
          3125.01,
          3076.45,
          3094.05,
          3044.87,
          2975.84,
          2977.02,
          2926.74,
          2818.73,
          2980.79,
          2936.61,
          2876.59,
          2875.98,
          2947.42,
          2947.7,
          2929.29,
          2889.03,
          2812.39,
          2698.2500000000005,
          2712.07,
          2816.95,
          2819.66,
          2758.48,
          2685.42,
          2615.4,
          2665.94,
          2633.42,
          2577.5,
          2570.81,
          2612.65,
          2681.11,
          2662.58,
          2639.38,
          2656.97,
          2587.45,
          2510.73,
          2571.66,
          2556.96,
          2584.53,
          2672.25,
          2751.07,
          2769.13,
          2782.17,
          2837.62,
          2819.87,
          2843.62,
          2848.84,
          2829.65,
          2749.86,
          2690.29,
          2688.92,
          2715.35,
          2784.58,
          2801.52,
          2769.13,
          2757.53,
          2765.44,
          2733.14,
          2735.01,
          2731.78,
          2651.49,
          2629.98,
          2628.37,
          2633.66,
          2584.61,
          2513.89,
          2546.09,
          2508.91,
          2455.81,
          2449.97,
          2361.27,
          2282.01,
          2418.85,
          2414.62,
          2376.74,
          2358.81,
          2415.55,
          2507.7,
          2520.23,
          2591.42,
          2521.65,
          2518.99,
          2524.5,
          2584.91,
          2616.94,
          2679.95,
          2649.2,
          2692.47,
          2765.47,
          2784.95,
          2834.13,
          2803.62,
          2857.75,
          2926.74,
          2947.38,
          2936.66,
          2898.31,
          2931.34,
          2920.51,
          2820.65,
          2815.06,
          2776.65,
          2779.98,
          2885.53,
          2871.05,
          2891.3,
          2876.74,
          2836.17,
          2851.86,
          2835.5799999999995,
          2813.52,
          2801.56,
          2700.89,
          2700.98,
          2754.29,
          2734.44,
          2732.52,
          2693.1,
          2718.51,
          2735.9300000000003,
          2720.43,
          2661.44,
          2653.7,
          2610.6,
          2547.04,
          2543.39,
          2544.93,
          2514.58,
          2566.9,
          2667.97,
          2668.11,
          2650.9700000000003,
          2631.32,
          2616.58,
          2634.65,
          2650.7,
          2630.36,
          2613.67,
          2572.23,
          2541.84,
          2527.58,
          2568.25,
          2544.3,
          2513.41,
          2497.47,
          2452.06,
          2428.75,
          2464.31,
          2419.71,
          2385.02,
          2415.24,
          2385.64,
          2343.87,
          2357.24,
          2320.51,
          2325.45,
          2420.91,
          2386.01,
          2370.99,
          2376.17,
          2356.17,
          2307.44,
          2275.68,
          2238.6199999999994,
          2256.57,
          2268.84,
          2313,
          2369.06,
          2350.42,
          2265.52,
          2274.42,
          2250.91,
          2235.09,
          2200.88,
          2217.19,
          2231.57,
          2239.6,
          2223.78,
          2173.44,
          2137.92,
          2130.71,
          2112.47,
          2078.7,
          2065.82,
          2020.23,
          2080.44,
          2062.8,
          2048.16,
          2032.34,
          1996.26,
          1966.37,
          1978.94,
          1971.36,
          1934.11,
          1884.81,
          1924.74,
          1893.53,
          1848.28,
          1862.06,
          1956.98,
          1933.13,
          1921.31,
          1962.71,
          2037.64,
          2028.77,
          2086.38,
          2076.67,
          2030.59,
          2043.92,
          2027.32,
          1992.61,
          1915.61,
          1927.28,
          1986.82,
          2001.53,
          2009.46,
          2011.39,
          2029.43,
          2045.63,
          2050.59,
          2044.72,
          2017.46,
          2078.51,
          2132.96,
          2088.16,
          2111.99,
          2127.4200000000005,
          2140.39,
          2195.1,
          2196.25,
          2193.43,
          2186.77,
          2148.16,
          2113.3,
          2123.82,
          2106.15,
          2062.8,
          2056.88,
          2037.92,
          2010.01,
          2065.89,
          2041.06,
          2040.7,
          2068.26,
          2060.55,
          2053.13,
          2054.95,
          2057.85,
          2039.55,
          2022.62,
          1989.26,
          1993.02,
          1995.21,
          1973.38,
          1972.29,
          1970.62,
          1977.3,
          1973.0100000000002,
          1951.79,
          1939.88,
          1937.74,
          1926.28,
          1912.74,
          1934.04,
          1981.48,
          1924.48,
          1910.38,
          1876.4099999999999,
          1837.6,
          1848.82,
          1838.96,
          1815.13,
          1831.05,
          1837.46,
          1853.76,
          1898.38,
          1871.22,
          1855.16,
          1866.48,
          1870.63,
          1860.94,
          1858.33,
          1845.51,
          1844.14,
          1858.49,
          1874.87,
          1930.99,
          1938.3,
          1922.16,
          1965.36,
          1958.94,
          1956.36,
          1917.22,
          1893.7,
          1883.16,
          1904.45,
          1897.86,
          1911.26,
          1936.83,
          1929.7,
          1921.99,
          1933.55,
          1965.98,
          1950.37,
          1953.35,
          1949.85,
          1961.06,
          1963.22,
          1938.76,
          1933.88,
          1917.28,
          1885.31,
          1902.2699999999998,
          1899.7,
          1897.08,
          1882.5999999999997,
          1855.06,
          1858.89,
          1873.11,
          1867.22,
          1867.21,
          1924.09,
          1983.95,
          1972.15,
          2029.03,
          2046.26,
          2064.09,
          2061.06,
          2125.84,
          2143.93,
          2164.61,
          2211.76,
          2190.42,
          2149.39,
          2182.11,
          2173.1,
          2178.81,
          2165.1,
          2173.25,
          2183.62,
          2183.21,
          2168.53,
          2127.52,
          2111.68,
          2116.65,
          2094.54,
          2096.08,
          2100.7,
          2177.34,
          2170.21,
          2182.61,
          2121.75,
          2105.46,
          2091.56,
          2070.41,
          2046.81,
          2080.38,
          2022.64,
          2027.19,
          2023.54,
          2019.93,
          1995.49,
          1967.4503,
          1938.25,
          1952.66,
          2002.7,
          1975.89,
          1951.21,
          1953.06,
          1938.62,
          1933.31,
          1926.4,
          1949.06,
          1933.29,
          1915.14,
          1888.27,
          1906,
          1918.1,
          1919.42,
          1908.5499999999997,
          1888.55,
          1871.88,
          1866.68,
          1875.07,
          1866.79,
          1838.48,
          1844.02,
          1871.33,
          1963.55,
          1934.47,
          1931.68,
          1908.04,
          1904.98,
          1920.12,
          1904.4,
          1885.6,
          1888.32,
          1905.68,
          1892,
          1889.73,
          1870.65,
          1866.4,
          1857.23,
          1869.73,
          1850.61,
          1833.69,
          1844.36,
          1841.93,
          1838.59,
          1821.64,
          1818.31,
          1821.6,
          1845.0100000000002,
          1877.32,
          1883.2,
          1891.31,
          1942.63,
          1959.12,
          1941.74,
          1888.61,
          1849.79,
          1866.34,
          1919.37,
          1901.99,
          1927.65,
          1932.33,
          1939.61,
          1980.09,
          1987.87,
          2020.64,
          2037.06,
          2042.07,
          2094.33,
          2091.39,
          2064.83,
          2050.78,
          2055.53,
          2117.73,
          2129.42,
          2186.36,
          2150.99,
          2097.29,
          2075.97,
          2088.7,
          2049.44,
          2049.38,
          2077.76,
          2076.96,
          2072.24,
          2097.55,
          2084.93,
          2097.09,
          2144.16,
          2154.07,
          2165.24,
          2163.92,
          2227.16,
          2200.5,
          2164.31,
          2156.2,
          2126.48,
          2100.34,
          2106.18,
          2077.58,
          2086.84,
          2089.84,
          2051.47,
          2048.26,
          2019.85,
          2060.91,
          2066.05,
          2080.86,
          2077.24,
          2045.44,
          2025.12,
          2033.13,
          2011.14,
          1998.28,
          2015.98,
          2045.45,
          2013.93,
          1993.38,
          1998.48,
          1993.4199999999998,
          1990.59,
          1960.78,
          1967.83,
          1961.37,
          1932.45,
          1942.68,
          1986.99,
          1967.57,
          2007.06,
          1964.91,
          1969.18,
          1985.43,
          2029.78,
          2010.35,
          2004.45,
          2022.91,
          2004.3,
          1971.1,
          1976.29,
          1958.72,
          1967.97,
          1956.92,
          1921.24,
          1908.66,
          1889.59,
          1894.76,
          1874.6,
          1851.43,
          1864.62,
          1907.89,
          1903.8399999999997,
          1875.65,
          1878.7,
          1864.4,
          1858.56,
          1847.7,
          1826.23,
          1847.54,
          1858.76,
          1863.9400000000003,
          1852.08,
          1853.48,
          1829.65,
          1850.33,
          1860.2,
          1907.95,
          1896.67,
          1894.53,
          1874.79,
          1858.53,
          1851.23,
          1847.81,
          1837.71,
          1841.0399999999997,
          1852.77,
          1963.98,
          1948.57,
          1985.44,
          1988.04,
          1994.6,
          2022.35,
          2060.49,
          2106.48,
          2141.87,
          2109.1,
          2088.07,
          2070.84,
          2068.9,
          2060.15,
          2030.1,
          2058,
          2049.28,
          2022.92,
          2059.49,
          2080.12,
          2089.62,
          2088.99,
          2120.62,
          2175.1699999999996,
          2163.06,
          2155.82,
          2130.18,
          2098.69,
          2098.29,
          2088.04,
          2084.09,
          2094.46,
          2104.72,
          2119.61,
          2097.93,
          2067.01,
          2061.7,
          2076.27,
          2085.71,
          2090.64,
          2096.38,
          2085.82,
          2101.16,
          2070.59,
          2076.5,
          2062.03,
          2034.82,
          2033.06,
          2026.59,
          2005.83,
          1979.02,
          1992.3,
          2001.64,
          2000.77,
          1972.09,
          1960.3,
          2078,
          2007.69,
          2017.03,
          2030.55,
          2052.65,
          2111.24,
          2108.72,
          2080.87,
          2070.25,
          2073.53,
          2067.29,
          2063.95,
          2048.57,
          2031.55,
          2041.7,
          2030.86,
          2035.64,
          2018.33,
          2012.07,
          2010.21,
          2006.78,
          2004.05,
          2026.81,
          2036.01,
          2025.3,
          2023.35,
          2006.52,
          1991.71,
          1972.14,
          1984.43,
          1969.02,
          1969.17,
          1965.93,
          1980.27,
          1980.34,
          2006.28,
          1998.9600000000003,
          1974.37,
          1958.75,
          1960.81,
          1960.6,
          1966.23,
          1974.5,
          1998.89,
          2027.51,
          2017.97,
          2018.76,
          2064.45,
          2092,
          2115.94,
          2131.49,
          2109.34,
          2113.27,
          2089.42,
          2069.53,
          2083.04,
          2079.07,
          2085.3,
          2079.71,
          2077.78,
          2073.19,
          2082.09,
          2115.24,
          2121.62,
          2112.29,
          2095.25,
          2076.49,
          2078.76,
          2068.31,
          2062.94,
          2066.16,
          2071.77,
          2060.16,
          2051.92,
          2037.09,
          2053.38,
          2100.43,
          2104.22,
          2119.69,
          2140.97,
          2136.35,
          2152.14,
          2175.4,
          2204.61,
          2257.59,
          2240.41,
          2310.59,
          2364.63,
          2424.32,
          2485.94,
          2488.09,
          2563.43,
          2536.11,
          2568.11,
          2681.56,
          2661.09,
          2696.65,
          2760.9,
          2755.62,
          2796.38,
          2651.32,
          2759.67,
          2766.38,
          2860.91,
          2931.65,
          2923.46,
          2957.75,
          3000.81,
          2966.33,
          2968.44,
          2974.46,
          2894.57,
          2782.6,
          2786.4,
          2749.57,
          2695.93,
          2823.25,
          2830.16,
          2739.46,
          2727.36,
          2701.9,
          2646.03,
          2632.94,
          2610.21,
          2688.38,
          2637.79,
          2580.76,
          2576.76,
          2588.3500000000004,
          2529.33,
          2470.39,
          2519.57,
          2486.76,
          2464.4,
          2508.86,
          2623.56,
          2597.49,
          2653.58,
          2690.72,
          2663.32,
          2668.17,
          2699.66,
          2742.88,
          2745.36,
          2697.91,
          2639.92,
          2665.81,
          2645.39,
          2627.14,
          2617.95,
          2645.36,
          2692.05,
          2677.62,
          2677.4,
          2675.51,
          2738.06,
          2760.21,
          2748.96,
          2734.83,
          2748.78,
          2753.76,
          2702.65,
          2711.75,
          2680.44,
          2667.4,
          2683.24,
          2716.66,
          2755.47,
          2717.2600713431834,
          2721.0525763535497,
          2728.6765598481893,
          2738.5428255093098,
          2749.0078880906103,
          2758.8391647863386,
          2767.310229887962,
          2774.3953086060283,
          2780.159896299243,
          2784.821646745205,
          2788.413432139158,
          2790.9508169674873,
          2792.3165072607994,
          2792.14056630671,
          2790.166740401387,
          2786.147616469264,
          2780.017823667526,
          2772.190630238652,
          2763.536651293039,
          2755.8372111684084,
          2750.5492703062296,
          2747.088351113796,
          2742.8128489619494,
          2736.224464133382,
          2727.1822446393967,
          2717.430160050392,
          2707.145396479368,
          2695.8504354840516,
          2685.83001914978,
          2676.7120939940214
         ],
         "yaxis": "y"
        }
       ],
       "layout": {
        "autosize": true,
        "font": {
         "color": "black",
         "size": 15
        },
        "legend": {
         "title": {
          "text": "Stock"
         },
         "tracegroupgap": 0
        },
        "margin": {
         "t": 60
        },
        "plot_bgcolor": "white",
        "template": {
         "data": {
          "bar": [
           {
            "error_x": {
             "color": "#2a3f5f"
            },
            "error_y": {
             "color": "#2a3f5f"
            },
            "marker": {
             "line": {
              "color": "#E5ECF6",
              "width": 0.5
             },
             "pattern": {
              "fillmode": "overlay",
              "size": 10,
              "solidity": 0.2
             }
            },
            "type": "bar"
           }
          ],
          "barpolar": [
           {
            "marker": {
             "line": {
              "color": "#E5ECF6",
              "width": 0.5
             },
             "pattern": {
              "fillmode": "overlay",
              "size": 10,
              "solidity": 0.2
             }
            },
            "type": "barpolar"
           }
          ],
          "carpet": [
           {
            "aaxis": {
             "endlinecolor": "#2a3f5f",
             "gridcolor": "white",
             "linecolor": "white",
             "minorgridcolor": "white",
             "startlinecolor": "#2a3f5f"
            },
            "baxis": {
             "endlinecolor": "#2a3f5f",
             "gridcolor": "white",
             "linecolor": "white",
             "minorgridcolor": "white",
             "startlinecolor": "#2a3f5f"
            },
            "type": "carpet"
           }
          ],
          "choropleth": [
           {
            "colorbar": {
             "outlinewidth": 0,
             "ticks": ""
            },
            "type": "choropleth"
           }
          ],
          "contour": [
           {
            "colorbar": {
             "outlinewidth": 0,
             "ticks": ""
            },
            "colorscale": [
             [
              0,
              "#0d0887"
             ],
             [
              0.1111111111111111,
              "#46039f"
             ],
             [
              0.2222222222222222,
              "#7201a8"
             ],
             [
              0.3333333333333333,
              "#9c179e"
             ],
             [
              0.4444444444444444,
              "#bd3786"
             ],
             [
              0.5555555555555556,
              "#d8576b"
             ],
             [
              0.6666666666666666,
              "#ed7953"
             ],
             [
              0.7777777777777778,
              "#fb9f3a"
             ],
             [
              0.8888888888888888,
              "#fdca26"
             ],
             [
              1,
              "#f0f921"
             ]
            ],
            "type": "contour"
           }
          ],
          "contourcarpet": [
           {
            "colorbar": {
             "outlinewidth": 0,
             "ticks": ""
            },
            "type": "contourcarpet"
           }
          ],
          "heatmap": [
           {
            "colorbar": {
             "outlinewidth": 0,
             "ticks": ""
            },
            "colorscale": [
             [
              0,
              "#0d0887"
             ],
             [
              0.1111111111111111,
              "#46039f"
             ],
             [
              0.2222222222222222,
              "#7201a8"
             ],
             [
              0.3333333333333333,
              "#9c179e"
             ],
             [
              0.4444444444444444,
              "#bd3786"
             ],
             [
              0.5555555555555556,
              "#d8576b"
             ],
             [
              0.6666666666666666,
              "#ed7953"
             ],
             [
              0.7777777777777778,
              "#fb9f3a"
             ],
             [
              0.8888888888888888,
              "#fdca26"
             ],
             [
              1,
              "#f0f921"
             ]
            ],
            "type": "heatmap"
           }
          ],
          "heatmapgl": [
           {
            "colorbar": {
             "outlinewidth": 0,
             "ticks": ""
            },
            "colorscale": [
             [
              0,
              "#0d0887"
             ],
             [
              0.1111111111111111,
              "#46039f"
             ],
             [
              0.2222222222222222,
              "#7201a8"
             ],
             [
              0.3333333333333333,
              "#9c179e"
             ],
             [
              0.4444444444444444,
              "#bd3786"
             ],
             [
              0.5555555555555556,
              "#d8576b"
             ],
             [
              0.6666666666666666,
              "#ed7953"
             ],
             [
              0.7777777777777778,
              "#fb9f3a"
             ],
             [
              0.8888888888888888,
              "#fdca26"
             ],
             [
              1,
              "#f0f921"
             ]
            ],
            "type": "heatmapgl"
           }
          ],
          "histogram": [
           {
            "marker": {
             "pattern": {
              "fillmode": "overlay",
              "size": 10,
              "solidity": 0.2
             }
            },
            "type": "histogram"
           }
          ],
          "histogram2d": [
           {
            "colorbar": {
             "outlinewidth": 0,
             "ticks": ""
            },
            "colorscale": [
             [
              0,
              "#0d0887"
             ],
             [
              0.1111111111111111,
              "#46039f"
             ],
             [
              0.2222222222222222,
              "#7201a8"
             ],
             [
              0.3333333333333333,
              "#9c179e"
             ],
             [
              0.4444444444444444,
              "#bd3786"
             ],
             [
              0.5555555555555556,
              "#d8576b"
             ],
             [
              0.6666666666666666,
              "#ed7953"
             ],
             [
              0.7777777777777778,
              "#fb9f3a"
             ],
             [
              0.8888888888888888,
              "#fdca26"
             ],
             [
              1,
              "#f0f921"
             ]
            ],
            "type": "histogram2d"
           }
          ],
          "histogram2dcontour": [
           {
            "colorbar": {
             "outlinewidth": 0,
             "ticks": ""
            },
            "colorscale": [
             [
              0,
              "#0d0887"
             ],
             [
              0.1111111111111111,
              "#46039f"
             ],
             [
              0.2222222222222222,
              "#7201a8"
             ],
             [
              0.3333333333333333,
              "#9c179e"
             ],
             [
              0.4444444444444444,
              "#bd3786"
             ],
             [
              0.5555555555555556,
              "#d8576b"
             ],
             [
              0.6666666666666666,
              "#ed7953"
             ],
             [
              0.7777777777777778,
              "#fb9f3a"
             ],
             [
              0.8888888888888888,
              "#fdca26"
             ],
             [
              1,
              "#f0f921"
             ]
            ],
            "type": "histogram2dcontour"
           }
          ],
          "mesh3d": [
           {
            "colorbar": {
             "outlinewidth": 0,
             "ticks": ""
            },
            "type": "mesh3d"
           }
          ],
          "parcoords": [
           {
            "line": {
             "colorbar": {
              "outlinewidth": 0,
              "ticks": ""
             }
            },
            "type": "parcoords"
           }
          ],
          "pie": [
           {
            "automargin": true,
            "type": "pie"
           }
          ],
          "scatter": [
           {
            "fillpattern": {
             "fillmode": "overlay",
             "size": 10,
             "solidity": 0.2
            },
            "type": "scatter"
           }
          ],
          "scatter3d": [
           {
            "line": {
             "colorbar": {
              "outlinewidth": 0,
              "ticks": ""
             }
            },
            "marker": {
             "colorbar": {
              "outlinewidth": 0,
              "ticks": ""
             }
            },
            "type": "scatter3d"
           }
          ],
          "scattercarpet": [
           {
            "marker": {
             "colorbar": {
              "outlinewidth": 0,
              "ticks": ""
             }
            },
            "type": "scattercarpet"
           }
          ],
          "scattergeo": [
           {
            "marker": {
             "colorbar": {
              "outlinewidth": 0,
              "ticks": ""
             }
            },
            "type": "scattergeo"
           }
          ],
          "scattergl": [
           {
            "marker": {
             "colorbar": {
              "outlinewidth": 0,
              "ticks": ""
             }
            },
            "type": "scattergl"
           }
          ],
          "scattermapbox": [
           {
            "marker": {
             "colorbar": {
              "outlinewidth": 0,
              "ticks": ""
             }
            },
            "type": "scattermapbox"
           }
          ],
          "scatterpolar": [
           {
            "marker": {
             "colorbar": {
              "outlinewidth": 0,
              "ticks": ""
             }
            },
            "type": "scatterpolar"
           }
          ],
          "scatterpolargl": [
           {
            "marker": {
             "colorbar": {
              "outlinewidth": 0,
              "ticks": ""
             }
            },
            "type": "scatterpolargl"
           }
          ],
          "scatterternary": [
           {
            "marker": {
             "colorbar": {
              "outlinewidth": 0,
              "ticks": ""
             }
            },
            "type": "scatterternary"
           }
          ],
          "surface": [
           {
            "colorbar": {
             "outlinewidth": 0,
             "ticks": ""
            },
            "colorscale": [
             [
              0,
              "#0d0887"
             ],
             [
              0.1111111111111111,
              "#46039f"
             ],
             [
              0.2222222222222222,
              "#7201a8"
             ],
             [
              0.3333333333333333,
              "#9c179e"
             ],
             [
              0.4444444444444444,
              "#bd3786"
             ],
             [
              0.5555555555555556,
              "#d8576b"
             ],
             [
              0.6666666666666666,
              "#ed7953"
             ],
             [
              0.7777777777777778,
              "#fb9f3a"
             ],
             [
              0.8888888888888888,
              "#fdca26"
             ],
             [
              1,
              "#f0f921"
             ]
            ],
            "type": "surface"
           }
          ],
          "table": [
           {
            "cells": {
             "fill": {
              "color": "#EBF0F8"
             },
             "line": {
              "color": "white"
             }
            },
            "header": {
             "fill": {
              "color": "#C8D4E3"
             },
             "line": {
              "color": "white"
             }
            },
            "type": "table"
           }
          ]
         },
         "layout": {
          "annotationdefaults": {
           "arrowcolor": "#2a3f5f",
           "arrowhead": 0,
           "arrowwidth": 1
          },
          "autotypenumbers": "strict",
          "coloraxis": {
           "colorbar": {
            "outlinewidth": 0,
            "ticks": ""
           }
          },
          "colorscale": {
           "diverging": [
            [
             0,
             "#8e0152"
            ],
            [
             0.1,
             "#c51b7d"
            ],
            [
             0.2,
             "#de77ae"
            ],
            [
             0.3,
             "#f1b6da"
            ],
            [
             0.4,
             "#fde0ef"
            ],
            [
             0.5,
             "#f7f7f7"
            ],
            [
             0.6,
             "#e6f5d0"
            ],
            [
             0.7,
             "#b8e186"
            ],
            [
             0.8,
             "#7fbc41"
            ],
            [
             0.9,
             "#4d9221"
            ],
            [
             1,
             "#276419"
            ]
           ],
           "sequential": [
            [
             0,
             "#0d0887"
            ],
            [
             0.1111111111111111,
             "#46039f"
            ],
            [
             0.2222222222222222,
             "#7201a8"
            ],
            [
             0.3333333333333333,
             "#9c179e"
            ],
            [
             0.4444444444444444,
             "#bd3786"
            ],
            [
             0.5555555555555556,
             "#d8576b"
            ],
            [
             0.6666666666666666,
             "#ed7953"
            ],
            [
             0.7777777777777778,
             "#fb9f3a"
            ],
            [
             0.8888888888888888,
             "#fdca26"
            ],
            [
             1,
             "#f0f921"
            ]
           ],
           "sequentialminus": [
            [
             0,
             "#0d0887"
            ],
            [
             0.1111111111111111,
             "#46039f"
            ],
            [
             0.2222222222222222,
             "#7201a8"
            ],
            [
             0.3333333333333333,
             "#9c179e"
            ],
            [
             0.4444444444444444,
             "#bd3786"
            ],
            [
             0.5555555555555556,
             "#d8576b"
            ],
            [
             0.6666666666666666,
             "#ed7953"
            ],
            [
             0.7777777777777778,
             "#fb9f3a"
            ],
            [
             0.8888888888888888,
             "#fdca26"
            ],
            [
             1,
             "#f0f921"
            ]
           ]
          },
          "colorway": [
           "#636efa",
           "#EF553B",
           "#00cc96",
           "#ab63fa",
           "#FFA15A",
           "#19d3f3",
           "#FF6692",
           "#B6E880",
           "#FF97FF",
           "#FECB52"
          ],
          "font": {
           "color": "#2a3f5f"
          },
          "geo": {
           "bgcolor": "white",
           "lakecolor": "white",
           "landcolor": "#E5ECF6",
           "showlakes": true,
           "showland": true,
           "subunitcolor": "white"
          },
          "hoverlabel": {
           "align": "left"
          },
          "hovermode": "closest",
          "mapbox": {
           "style": "light"
          },
          "paper_bgcolor": "white",
          "plot_bgcolor": "#E5ECF6",
          "polar": {
           "angularaxis": {
            "gridcolor": "white",
            "linecolor": "white",
            "ticks": ""
           },
           "bgcolor": "#E5ECF6",
           "radialaxis": {
            "gridcolor": "white",
            "linecolor": "white",
            "ticks": ""
           }
          },
          "scene": {
           "xaxis": {
            "backgroundcolor": "#E5ECF6",
            "gridcolor": "white",
            "gridwidth": 2,
            "linecolor": "white",
            "showbackground": true,
            "ticks": "",
            "zerolinecolor": "white"
           },
           "yaxis": {
            "backgroundcolor": "#E5ECF6",
            "gridcolor": "white",
            "gridwidth": 2,
            "linecolor": "white",
            "showbackground": true,
            "ticks": "",
            "zerolinecolor": "white"
           },
           "zaxis": {
            "backgroundcolor": "#E5ECF6",
            "gridcolor": "white",
            "gridwidth": 2,
            "linecolor": "white",
            "showbackground": true,
            "ticks": "",
            "zerolinecolor": "white"
           }
          },
          "shapedefaults": {
           "line": {
            "color": "#2a3f5f"
           }
          },
          "ternary": {
           "aaxis": {
            "gridcolor": "white",
            "linecolor": "white",
            "ticks": ""
           },
           "baxis": {
            "gridcolor": "white",
            "linecolor": "white",
            "ticks": ""
           },
           "bgcolor": "#E5ECF6",
           "caxis": {
            "gridcolor": "white",
            "linecolor": "white",
            "ticks": ""
           }
          },
          "title": {
           "x": 0.05
          },
          "xaxis": {
           "automargin": true,
           "gridcolor": "white",
           "linecolor": "white",
           "ticks": "",
           "title": {
            "standoff": 15
           },
           "zerolinecolor": "white",
           "zerolinewidth": 2
          },
          "yaxis": {
           "automargin": true,
           "gridcolor": "white",
           "linecolor": "white",
           "ticks": "",
           "title": {
            "standoff": 15
           },
           "zerolinecolor": "white",
           "zerolinewidth": 2
          }
         }
        },
        "title": {
         "text": "Plotting nepali Stock price with prediction"
        },
        "xaxis": {
         "anchor": "y",
         "autorange": true,
         "domain": [
          0,
          1
         ],
         "range": [
          0,
          1250
         ],
         "showgrid": false,
         "title": {
          "text": "Timestamp"
         },
         "type": "linear"
        },
        "yaxis": {
         "anchor": "x",
         "autorange": true,
         "domain": [
          0,
          1
         ],
         "range": [
          993.1027777777779,
          3314.2472222222223
         ],
         "showgrid": false,
         "title": {
          "text": "Stock price"
         },
         "type": "linear"
        }
       }
      },
      "image/png": "[encoded data removed]",
      "text/html": [
       "<div>                            <div id=\"ae8e7c96-7741-4406-988f-230832b3cf27\" class=\"plotly-graph-div\" style=\"height:525px; width:100%;\"></div>            <script type=\"text/javascript\">                require([\"plotly\"], function(Plotly) {                    window.PLOTLYENV=window.PLOTLYENV || {};                                    if (document.getElementById(\"ae8e7c96-7741-4406-988f-230832b3cf27\")) {                    Plotly.newPlot(                        \"ae8e7c96-7741-4406-988f-230832b3cf27\",                        [{\"hovertemplate\":\"variable=0\\u003cbr\\u003eTimestamp=%{x}\\u003cbr\\u003eStock price=%{y}\\u003cextra\\u003e\\u003c\\u002fextra\\u003e\",\"legendgroup\":\"0\",\"line\":{\"color\":\"#636efa\",\"dash\":\"solid\"},\"marker\":{\"symbol\":\"circle\"},\"mode\":\"lines\",\"name\":\"Close price\",\"showlegend\":true,\"x\":[0,1,2,3,4,5,6,7,8,9,10,11,12,13,14,15,16,17,18,19,20,21,22,23,24,25,26,27,28,29,30,31,32,33,34,35,36,37,38,39,40,41,42,43,44,45,46,47,48,49,50,51,52,53,54,55,56,57,58,59,60,61,62,63,64,65,66,67,68,69,70,71,72,73,74,75,76,77,78,79,80,81,82,83,84,85,86,87,88,89,90,91,92,93,94,95,96,97,98,99,100,101,102,103,104,105,106,107,108,109,110,111,112,113,114,115,116,117,118,119,120,121,122,123,124,125,126,127,128,129,130,131,132,133,134,135,136,137,138,139,140,141,142,143,144,145,146,147,148,149,150,151,152,153,154,155,156,157,158,159,160,161,162,163,164,165,166,167,168,169,170,171,172,173,174,175,176,177,178,179,180,181,182,183,184,185,186,187,188,189,190,191,192,193,194,195,196,197,198,199,200,201,202,203,204,205,206,207,208,209,210,211,212,213,214,215,216,217,218,219,220,221,222,223,224,225,226,227,228,229,230,231,232,233,234,235,236,237,238,239,240,241,242,243,244,245,246,247,248,249,250,251,252,253,254,255,256,257,258,259,260,261,262,263,264,265,266,267,268,269,270,271,272,273,274,275,276,277,278,279,280,281,282,283,284,285,286,287,288,289,290,291,292,293,294,295,296,297,298,299,300,301,302,303,304,305,306,307,308,309,310,311,312,313,314,315,316,317,318,319,320,321,322,323,324,325,326,327,328,329,330,331,332,333,334,335,336,337,338,339,340,341,342,343,344,345,346,347,348,349,350,351,352,353,354,355,356,357,358,359,360,361,362,363,364,365,366,367,368,369,370,371,372,373,374,375,376,377,378,379,380,381,382,383,384,385,386,387,388,389,390,391,392,393,394,395,396,397,398,399,400,401,402,403,404,405,406,407,408,409,410,411,412,413,414,415,416,417,418,419,420,421,422,423,424,425,426,427,428,429,430,431,432,433,434,435,436,437,438,439,440,441,442,443,444,445,446,447,448,449,450,451,452,453,454,455,456,457,458,459,460,461,462,463,464,465,466,467,468,469,470,471,472,473,474,475,476,477,478,479,480,481,482,483,484,485,486,487,488,489,490,491,492,493,494,495,496,497,498,499,500,501,502,503,504,505,506,507,508,509,510,511,512,513,514,515,516,517,518,519,520,521,522,523,524,525,526,527,528,529,530,531,532,533,534,535,536,537,538,539,540,541,542,543,544,545,546,547,548,549,550,551,552,553,554,555,556,557,558,559,560,561,562,563,564,565,566,567,568,569,570,571,572,573,574,575,576,577,578,579,580,581,582,583,584,585,586,587,588,589,590,591,592,593,594,595,596,597,598,599,600,601,602,603,604,605,606,607,608,609,610,611,612,613,614,615,616,617,618,619,620,621,622,623,624,625,626,627,628,629,630,631,632,633,634,635,636,637,638,639,640,641,642,643,644,645,646,647,648,649,650,651,652,653,654,655,656,657,658,659,660,661,662,663,664,665,666,667,668,669,670,671,672,673,674,675,676,677,678,679,680,681,682,683,684,685,686,687,688,689,690,691,692,693,694,695,696,697,698,699,700,701,702,703,704,705,706,707,708,709,710,711,712,713,714,715,716,717,718,719,720,721,722,723,724,725,726,727,728,729,730,731,732,733,734,735,736,737,738,739,740,741,742,743,744,745,746,747,748,749,750,751,752,753,754,755,756,757,758,759,760,761,762,763,764,765,766,767,768,769,770,771,772,773,774,775,776,777,778,779,780,781,782,783,784,785,786,787,788,789,790,791,792,793,794,795,796,797,798,799,800,801,802,803,804,805,806,807,808,809,810,811,812,813,814,815,816,817,818,819,820,821,822,823,824,825,826,827,828,829,830,831,832,833,834,835,836,837,838,839,840,841,842,843,844,845,846,847,848,849,850,851,852,853,854,855,856,857,858,859,860,861,862,863,864,865,866,867,868,869,870,871,872,873,874,875,876,877,878,879,880,881,882,883,884,885,886,887,888,889,890,891,892,893,894,895,896,897,898,899,900,901,902,903,904,905,906,907,908,909,910,911,912,913,914,915,916,917,918,919,920,921,922,923,924,925,926,927,928,929,930,931,932,933,934,935,936,937,938,939,940,941,942,943,944,945,946,947,948,949,950,951,952,953,954,955,956,957,958,959,960,961,962,963,964,965,966,967,968,969,970,971,972,973,974,975,976,977,978,979,980,981,982,983,984,985,986,987,988,989,990,991,992,993,994,995,996,997,998,999,1000,1001,1002,1003,1004,1005,1006,1007,1008,1009,1010,1011,1012,1013,1014,1015,1016,1017,1018,1019,1020,1021,1022,1023,1024,1025,1026,1027,1028,1029,1030,1031,1032,1033,1034,1035,1036,1037,1038,1039,1040,1041,1042,1043,1044,1045,1046,1047,1048,1049,1050,1051,1052,1053,1054,1055,1056,1057,1058,1059,1060,1061,1062,1063,1064,1065,1066,1067,1068,1069,1070,1071,1072,1073,1074,1075,1076,1077,1078,1079,1080,1081,1082,1083,1084,1085,1086,1087,1088,1089,1090,1091,1092,1093,1094,1095,1096,1097,1098,1099,1100,1101,1102,1103,1104,1105,1106,1107,1108,1109,1110,1111,1112,1113,1114,1115,1116,1117,1118,1119,1120,1121,1122,1123,1124,1125,1126,1127,1128,1129,1130,1131,1132,1133,1134,1135,1136,1137,1138,1139,1140,1141,1142,1143,1144,1145,1146,1147,1148,1149,1150,1151,1152,1153,1154,1155,1156,1157,1158,1159,1160,1161,1162,1163,1164,1165,1166,1167,1168,1169,1170,1171,1172,1173,1174,1175,1176,1177,1178,1179,1180,1181,1182,1183,1184,1185,1186,1187,1188,1189,1190,1191,1192,1193,1194,1195,1196,1197,1198,1199,1200,1201,1202,1203,1204,1205,1206,1207,1208,1209,1210,1211,1212,1213,1214,1215,1216,1217,1218,1219,1220,1221,1222,1223,1224,1225,1226,1227,1228,1229,1230,1231,1232,1233,1234,1235,1236,1237,1238,1239,1240,1241,1242,1243,1244,1245,1246,1247,1248,1249,1250],\"xaxis\":\"x\",\"y\":[1256.04,1247.35,1250.27,1249.15,1248.53,1249.49,1254.56,1259.01,1274.86,1272.49,1268.74,1271.23,1277.17,1284.07,1269.92,1252.8,1255.98,1259.37,1265.57,1263.8399999999997,1259.64,1255.09,1245.73,1248.48,1238.56,1233.71,1233.85,1231.07,1225.9,1224.03,1214.83,1222.06,1213.63,1214.05,1213.06,1209.62,1203.13,1208.0,1197.75,1196.41,1184.78,1170.34,1190.9,1194.77,1191.07,1178.46,1168.91,1166.67,1163.21,1157.88,1140.01,1123.83,1150.74,1172.15,1155.3,1139.25,1140.98,1134.56,1131.53,1129.8,1125.14,1135.56,1145.69,1140.71,1149.4,1149.01,1136.96,1142.04,1137.03,1137.75,1133.71,1132.4,1134.79,1142.6,1149.34,1146.17,1139.29,1140.26,1139.45,1138.02,1131.97,1131.8,1145.57,1139.96,1135.16,1135.95,1131.36,1131.12,1129.99,1128.34,1120.6,1110.08,1110.08,1109.16,1117.46,1112.79,1112.85,1111.99,1115.74,1124.47,1131.92,1135.37,1148.89,1151.36,1161.47,1172.64,1167.86,1154.11,1155.37,1152.07,1149.64,1150.81,1168.58,1166.21,1168.03,1167.41,1162.43,1167.95,1166.03,1169.5,1166.21,1182.31,1200.69,1216.92,1209.6,1213.11,1255.72,1270.8599999999997,1263.38,1284.23,1310.23,1343.65,1317.11,1320.47,1313.42,1297.47,1276.68,1300.62,1306.15,1305.88,1325.38,1346.64,1349.13,1337.04,1342.36,1333.69,1319.99,1324.26,1341.38,1345.97,1344.59,1363.97,1398.24,1400.01,1405.25,1434.57,1504.14,1502.18,1545.19,1596.13,1632.17,1591.36,1495.3,1509.67,1441.2,1435.7,1349.31,1423.09,1377.18,1313.04,1316.39,1272.06,1255.8,1269.3,1251.45,1226.15,1201.57,1188.7,1260.75,1336.52,1256.11,1265.45,1298.73,1336.66,1326.53,1331.27,1340.29,1342.4,1347.44,1362.34,1394.77,1479.03,1464.94,1449.94,1432.44,1442.61,1465.1,1462.48,1454.89,1431.52,1439.06,1396.28,1403.86,1382.66,1381.37,1392.68,1430.41,1423.81,1425.32,1408.79,1391.46,1402.21,1407.89,1391.29,1397.57,1410.34,1431.6,1440.94,1462.03,1458.04,1462.6700000000003,1484.99,1510.57,1510.42,1499.97,1487.81,1495.15,1508.2000000000003,1520.69,1537.25,1540.51,1536.03,1541.4,1572.18,1575.18,1569.06,1546.15,1555.52,1561.27,1565.55,1560.83,1553.62,1550.43,1571.04,1585.75,1582.12,1586.29,1600.97,1589.63,1576.27,1578.01,1568.59,1561.17,1562.46,1556.8,1570.38,1583.6,1597.71,1606.25,1647.45,1645.67,1640.95,1637.63,1643.03,1640.64,1636.17,1648.5799999999997,1652.8,1678.79,1707.67,1718.49,1741.81,1778.12,1782.81,1780.43,1810.11,1874.81,1893.24,1968.27,1997.05,2000.4,2071.02,2055.45,1932.11,2004.39,1995.35,1955.75,1964.02,2010.45,2067.17,2061.41,2055.22,2032.51,1935.63,1965.96,2061.41,2068.45,2038.63,1998.65,2007.29,2012.89,2062.06,2087.27,2175.39,2169.04,2165.49,2178.57,2194.48,2235.72,2239.42,2267.73,2286.54,2315.0,2332.31,2326.9000000000005,2342.76,2374.64,2424.84,2440.87,2423.09,2441.85,2425.29,2370.54,2408.24,2473.73,2466.92,2475.26,2524.0,2561.47,2532.46,2543.03,2526.92,2493.59,2586.01,2601.51,2611.45,2636.68,2640.34,2607.67,2586.51,2599.07,2554.13,2474.39,2515.03,2455.33,2416.01,2506.68,2485.1,2461.88,2458.49,2407.26,2389.19,2391.75,2432.15,2475.09,2538.47,2514.4,2528.96,2570.31,2548.97,2543.52,2575.67,2619.03,2631.9,2657.61,2658.75,2674.47,2671.62,2674.36,2691.56,2714.79,2735.4,2699.51,2661.94,2664.62,2632.21,2648.0099999999998,2572.21,2506.62,2599.08,2585.28,2611.11,2665.11,2652.58,2654.03,2649.6,2637.13,2618.63,2645.85,2673.32,2673.88,2684.01,2738.3,2759.22,2793.81,2780.81,2787.19,2820.0,2823.05,2816.6,2815.4,2827.93,2782.86,2771.15,2827.13,2856.77,2906.91,2906.7,2960.14,2946.58,2944.78,2983.11,3025.83,3022.11,2969.72,2968.42,2905.32,2834.41,2913.84,2859.96,2843.0,2870.18,2871.6969,2828.0,2823.88,2843.0,2834.52,2822.74,2818.11,2801.13,2825.11,2899.82,2854.84,2871.03,2872.05,2883.38,2980.61,2994.4200000000005,3004.33,3058.64,3050.43,3076.3728,3094.95,3079.82,3081.07,3085.07,3111.09,3123.15,3107.45,3108.13,3109.6,3161.56,3162.41,3178.91,3154.34,3160.09,3160.32,3198.19,3180.86,3125.01,3076.45,3094.05,3044.87,2975.84,2977.02,2926.74,2818.73,2980.79,2936.61,2876.59,2875.98,2947.42,2947.7,2929.29,2889.03,2812.39,2698.2500000000005,2712.07,2816.95,2819.66,2758.48,2685.42,2615.4,2665.94,2633.42,2577.5,2570.81,2612.65,2681.11,2662.58,2639.38,2656.97,2587.45,2510.73,2571.66,2556.96,2584.53,2672.25,2751.07,2769.13,2782.17,2837.62,2819.87,2843.62,2848.84,2829.65,2749.86,2690.29,2688.92,2715.35,2784.58,2801.52,2769.13,2757.53,2765.44,2733.14,2735.01,2731.78,2651.49,2629.98,2628.37,2633.66,2584.61,2513.89,2546.09,2508.91,2455.81,2449.97,2361.27,2282.01,2418.85,2414.62,2376.74,2358.81,2415.55,2507.7,2520.23,2591.42,2521.65,2518.99,2524.5,2584.91,2616.94,2679.95,2649.2,2692.47,2765.47,2784.95,2834.13,2803.62,2857.75,2926.74,2947.38,2936.66,2898.31,2931.34,2920.51,2820.65,2815.06,2776.65,2779.98,2885.53,2871.05,2891.3,2876.74,2836.17,2851.86,2835.5799999999995,2813.52,2801.56,2700.89,2700.98,2754.29,2734.44,2732.52,2693.1,2718.51,2735.9300000000003,2720.43,2661.44,2653.7,2610.6,2547.04,2543.39,2544.93,2514.58,2566.9,2667.97,2668.11,2650.9700000000003,2631.32,2616.58,2634.65,2650.7,2630.36,2613.67,2572.23,2541.84,2527.58,2568.25,2544.3,2513.41,2497.47,2452.06,2428.75,2464.31,2419.71,2385.02,2415.24,2385.64,2343.87,2357.24,2320.51,2325.45,2420.91,2386.01,2370.99,2376.17,2356.17,2307.44,2275.68,2238.6199999999994,2256.57,2268.84,2313.0,2369.06,2350.42,2265.52,2274.42,2250.91,2235.09,2200.88,2217.19,2231.57,2239.6,2223.78,2173.44,2137.92,2130.71,2112.47,2078.7,2065.82,2020.23,2080.44,2062.8,2048.16,2032.34,1996.26,1966.37,1978.94,1971.36,1934.11,1884.81,1924.74,1893.53,1848.28,1862.06,1956.98,1933.13,1921.31,1962.71,2037.64,2028.77,2086.38,2076.67,2030.59,2043.92,2027.32,1992.61,1915.61,1927.28,1986.82,2001.53,2009.46,2011.39,2029.43,2045.63,2050.59,2044.72,2017.46,2078.51,2132.96,2088.16,2111.99,2127.4200000000005,2140.39,2195.1,2196.25,2193.43,2186.77,2148.16,2113.3,2123.82,2106.15,2062.8,2056.88,2037.92,2010.01,2065.89,2041.06,2040.7,2068.26,2060.55,2053.13,2054.95,2057.85,2039.55,2022.62,1989.26,1993.02,1995.21,1973.38,1972.29,1970.62,1977.3,1973.0100000000002,1951.79,1939.88,1937.74,1926.28,1912.74,1934.04,1981.48,1924.48,1910.38,1876.4099999999999,1837.6,1848.82,1838.96,1815.13,1831.05,1837.46,1853.76,1898.38,1871.22,1855.16,1866.48,1870.63,1860.94,1858.33,1845.51,1844.14,1858.49,1874.87,1930.99,1938.3,1922.16,1965.36,1958.94,1956.36,1917.22,1893.7,1883.16,1904.45,1897.86,1911.26,1936.83,1929.7,1921.99,1933.55,1965.98,1950.37,1953.35,1949.85,1961.06,1963.22,1938.76,1933.88,1917.28,1885.31,1902.2699999999998,1899.7,1897.08,1882.5999999999997,1855.06,1858.89,1873.11,1867.22,1867.21,1924.09,1983.95,1972.15,2029.03,2046.26,2064.09,2061.06,2125.84,2143.93,2164.61,2211.76,2190.42,2149.39,2182.11,2173.1,2178.81,2165.1,2173.25,2183.62,2183.21,2168.53,2127.52,2111.68,2116.65,2094.54,2096.08,2100.7,2177.34,2170.21,2182.61,2121.75,2105.46,2091.56,2070.41,2046.81,2080.38,2022.64,2027.19,2023.54,2019.93,1995.49,1967.4503,1938.25,1952.66,2002.7,1975.89,1951.21,1953.06,1938.62,1933.31,1926.4,1949.06,1933.29,1915.14,1888.27,1906.0,1918.1,1919.42,1908.5499999999997,1888.55,1871.88,1866.68,1875.07,1866.79,1838.48,1844.02,1871.33,1963.55,1934.47,1931.68,1908.04,1904.98,1920.12,1904.4,1885.6,1888.32,1905.68,1892.0,1889.73,1870.65,1866.4,1857.23,1869.73,1850.61,1833.69,1844.36,1841.93,1838.59,1821.64,1818.31,1821.6,1845.0100000000002,1877.32,1883.2,1891.31,1942.63,1959.12,1941.74,1888.61,1849.79,1866.34,1919.37,1901.99,1927.65,1932.33,1939.61,1980.09,1987.87,2020.64,2037.06,2042.07,2094.33,2091.39,2064.83,2050.78,2055.53,2117.73,2129.42,2186.36,2150.99,2097.29,2075.97,2088.7,2049.44,2049.38,2077.76,2076.96,2072.24,2097.55,2084.93,2097.09,2144.16,2154.07,2165.24,2163.92,2227.16,2200.5,2164.31,2156.2,2126.48,2100.34,2106.18,2077.58,2086.84,2089.84,2051.47,2048.26,2019.85,2060.91,2066.05,2080.86,2077.24,2045.44,2025.12,2033.13,2011.14,1998.28,2015.98,2045.45,2013.93,1993.38,1998.48,1993.4199999999998,1990.59,1960.78,1967.83,1961.37,1932.45,1942.68,1986.99,1967.57,2007.06,1964.91,1969.18,1985.43,2029.78,2010.35,2004.45,2022.91,2004.3,1971.1,1976.29,1958.72,1967.97,1956.92,1921.24,1908.66,1889.59,1894.76,1874.6,1851.43,1864.62,1907.89,1903.8399999999997,1875.65,1878.7,1864.4,1858.56,1847.7,1826.23,1847.54,1858.76,1863.9400000000003,1852.08,1853.48,1829.65,1850.33,1860.2,1907.95,1896.67,1894.53,1874.79,1858.53,1851.23,1847.81,1837.71,1841.0399999999997,1852.77,1963.98,1948.57,1985.44,1988.04,1994.6,2022.35,2060.49,2106.48,2141.87,2109.1,2088.07,2070.84,2068.9,2060.15,2030.1,2058.0,2049.28,2022.92,2059.49,2080.12,2089.62,2088.99,2120.62,2175.1699999999996,2163.06,2155.82,2130.18,2098.69,2098.29,2088.04,2084.09,2094.46,2104.72,2119.61,2097.93,2067.01,2061.7,2076.27,2085.71,2090.64,2096.38,2085.82,2101.16,2070.59,2076.5,2062.03,2034.82,2033.06,2026.59,2005.83,1979.02,1992.3,2001.64,2000.77,1972.09,1960.3,2078.0,2007.69,2017.03,2030.55,2052.65,2111.24,2108.72,2080.87,2070.25,2073.53,2067.29,2063.95,2048.57,2031.55,2041.7,2030.86,2035.64,2018.33,2012.07,2010.21,2006.78,2004.05,2026.81,2036.01,2025.3,2023.35,2006.52,1991.71,1972.14,1984.43,1969.02,1969.17,1965.93,1980.27,1980.34,2006.28,1998.9600000000003,1974.37,1958.75,1960.81,1960.6,1966.23,1974.5,1998.89,2027.51,2017.97,2018.76,2064.45,2092.0,2115.94,2131.49,2109.34,2113.27,2089.42,2069.53,2083.04,2079.07,2085.3,2079.71,2077.78,2073.19,2082.09,2115.24,2121.62,2112.29,2095.25,2076.49,2078.76,2068.31,2062.94,2066.16,2071.77,2060.16,2051.92,2037.09,2053.38,2100.43,2104.22,2119.69,2140.97,2136.35,2152.14,2175.4,2204.61,2257.59,2240.41,2310.59,2364.63,2424.32,2485.94,2488.09,2563.43,2536.11,2568.11,2681.56,2661.09,2696.65,2760.9,2755.62,2796.38,2651.32,2759.67,2766.38,2860.91,2931.65,2923.46,2957.75,3000.81,2966.33,2968.44,2974.46,2894.57,2782.6,2786.4,2749.57,2695.93,2823.25,2830.16,2739.46,2727.36,2701.9,2646.03,2632.94,2610.21,2688.38,2637.79,2580.76,2576.76,2588.3500000000004,2529.33,2470.39,2519.57,2486.76,2464.4,2508.86,2623.56,2597.49,2653.58,2690.72,2663.32,2668.17,2699.66,2742.88,2745.36,2697.91,2639.92,2665.81,2645.39,2627.14,2617.95,2645.36,2692.05,2677.62,2677.4,2675.51,2738.06,2760.21,2748.96,2734.83,2748.78,2753.76,2702.65,2711.75,2680.44,2667.4,2683.24,2716.66,2755.47,2717.2600713431834,2721.0525763535497,2728.6765598481893,2738.5428255093098,2749.0078880906103,2758.8391647863386,2767.310229887962,2774.3953086060283,2780.159896299243,2784.821646745205,2788.413432139158,2790.9508169674873,2792.3165072607994,2792.14056630671,2790.166740401387,2786.147616469264,2780.017823667526,2772.190630238652,2763.536651293039,2755.8372111684084,2750.5492703062296,2747.088351113796,2742.8128489619494,2736.224464133382,2727.1822446393967,2717.430160050392,2707.145396479368,2695.8504354840516,2685.83001914978,2676.7120939940214],\"yaxis\":\"y\",\"type\":\"scattergl\"}],                        {\"template\":{\"data\":{\"histogram2dcontour\":[{\"type\":\"histogram2dcontour\",\"colorbar\":{\"outlinewidth\":0,\"ticks\":\"\"},\"colorscale\":[[0.0,\"#0d0887\"],[0.1111111111111111,\"#46039f\"],[0.2222222222222222,\"#7201a8\"],[0.3333333333333333,\"#9c179e\"],[0.4444444444444444,\"#bd3786\"],[0.5555555555555556,\"#d8576b\"],[0.6666666666666666,\"#ed7953\"],[0.7777777777777778,\"#fb9f3a\"],[0.8888888888888888,\"#fdca26\"],[1.0,\"#f0f921\"]]}],\"choropleth\":[{\"type\":\"choropleth\",\"colorbar\":{\"outlinewidth\":0,\"ticks\":\"\"}}],\"histogram2d\":[{\"type\":\"histogram2d\",\"colorbar\":{\"outlinewidth\":0,\"ticks\":\"\"},\"colorscale\":[[0.0,\"#0d0887\"],[0.1111111111111111,\"#46039f\"],[0.2222222222222222,\"#7201a8\"],[0.3333333333333333,\"#9c179e\"],[0.4444444444444444,\"#bd3786\"],[0.5555555555555556,\"#d8576b\"],[0.6666666666666666,\"#ed7953\"],[0.7777777777777778,\"#fb9f3a\"],[0.8888888888888888,\"#fdca26\"],[1.0,\"#f0f921\"]]}],\"heatmap\":[{\"type\":\"heatmap\",\"colorbar\":{\"outlinewidth\":0,\"ticks\":\"\"},\"colorscale\":[[0.0,\"#0d0887\"],[0.1111111111111111,\"#46039f\"],[0.2222222222222222,\"#7201a8\"],[0.3333333333333333,\"#9c179e\"],[0.4444444444444444,\"#bd3786\"],[0.5555555555555556,\"#d8576b\"],[0.6666666666666666,\"#ed7953\"],[0.7777777777777778,\"#fb9f3a\"],[0.8888888888888888,\"#fdca26\"],[1.0,\"#f0f921\"]]}],\"heatmapgl\":[{\"type\":\"heatmapgl\",\"colorbar\":{\"outlinewidth\":0,\"ticks\":\"\"},\"colorscale\":[[0.0,\"#0d0887\"],[0.1111111111111111,\"#46039f\"],[0.2222222222222222,\"#7201a8\"],[0.3333333333333333,\"#9c179e\"],[0.4444444444444444,\"#bd3786\"],[0.5555555555555556,\"#d8576b\"],[0.6666666666666666,\"#ed7953\"],[0.7777777777777778,\"#fb9f3a\"],[0.8888888888888888,\"#fdca26\"],[1.0,\"#f0f921\"]]}],\"contourcarpet\":[{\"type\":\"contourcarpet\",\"colorbar\":{\"outlinewidth\":0,\"ticks\":\"\"}}],\"contour\":[{\"type\":\"contour\",\"colorbar\":{\"outlinewidth\":0,\"ticks\":\"\"},\"colorscale\":[[0.0,\"#0d0887\"],[0.1111111111111111,\"#46039f\"],[0.2222222222222222,\"#7201a8\"],[0.3333333333333333,\"#9c179e\"],[0.4444444444444444,\"#bd3786\"],[0.5555555555555556,\"#d8576b\"],[0.6666666666666666,\"#ed7953\"],[0.7777777777777778,\"#fb9f3a\"],[0.8888888888888888,\"#fdca26\"],[1.0,\"#f0f921\"]]}],\"surface\":[{\"type\":\"surface\",\"colorbar\":{\"outlinewidth\":0,\"ticks\":\"\"},\"colorscale\":[[0.0,\"#0d0887\"],[0.1111111111111111,\"#46039f\"],[0.2222222222222222,\"#7201a8\"],[0.3333333333333333,\"#9c179e\"],[0.4444444444444444,\"#bd3786\"],[0.5555555555555556,\"#d8576b\"],[0.6666666666666666,\"#ed7953\"],[0.7777777777777778,\"#fb9f3a\"],[0.8888888888888888,\"#fdca26\"],[1.0,\"#f0f921\"]]}],\"mesh3d\":[{\"type\":\"mesh3d\",\"colorbar\":{\"outlinewidth\":0,\"ticks\":\"\"}}],\"scatter\":[{\"fillpattern\":{\"fillmode\":\"overlay\",\"size\":10,\"solidity\":0.2},\"type\":\"scatter\"}],\"parcoords\":[{\"type\":\"parcoords\",\"line\":{\"colorbar\":{\"outlinewidth\":0,\"ticks\":\"\"}}}],\"scatterpolargl\":[{\"type\":\"scatterpolargl\",\"marker\":{\"colorbar\":{\"outlinewidth\":0,\"ticks\":\"\"}}}],\"bar\":[{\"error_x\":{\"color\":\"#2a3f5f\"},\"error_y\":{\"color\":\"#2a3f5f\"},\"marker\":{\"line\":{\"color\":\"#E5ECF6\",\"width\":0.5},\"pattern\":{\"fillmode\":\"overlay\",\"size\":10,\"solidity\":0.2}},\"type\":\"bar\"}],\"scattergeo\":[{\"type\":\"scattergeo\",\"marker\":{\"colorbar\":{\"outlinewidth\":0,\"ticks\":\"\"}}}],\"scatterpolar\":[{\"type\":\"scatterpolar\",\"marker\":{\"colorbar\":{\"outlinewidth\":0,\"ticks\":\"\"}}}],\"histogram\":[{\"marker\":{\"pattern\":{\"fillmode\":\"overlay\",\"size\":10,\"solidity\":0.2}},\"type\":\"histogram\"}],\"scattergl\":[{\"type\":\"scattergl\",\"marker\":{\"colorbar\":{\"outlinewidth\":0,\"ticks\":\"\"}}}],\"scatter3d\":[{\"type\":\"scatter3d\",\"line\":{\"colorbar\":{\"outlinewidth\":0,\"ticks\":\"\"}},\"marker\":{\"colorbar\":{\"outlinewidth\":0,\"ticks\":\"\"}}}],\"scattermapbox\":[{\"type\":\"scattermapbox\",\"marker\":{\"colorbar\":{\"outlinewidth\":0,\"ticks\":\"\"}}}],\"scatterternary\":[{\"type\":\"scatterternary\",\"marker\":{\"colorbar\":{\"outlinewidth\":0,\"ticks\":\"\"}}}],\"scattercarpet\":[{\"type\":\"scattercarpet\",\"marker\":{\"colorbar\":{\"outlinewidth\":0,\"ticks\":\"\"}}}],\"carpet\":[{\"aaxis\":{\"endlinecolor\":\"#2a3f5f\",\"gridcolor\":\"white\",\"linecolor\":\"white\",\"minorgridcolor\":\"white\",\"startlinecolor\":\"#2a3f5f\"},\"baxis\":{\"endlinecolor\":\"#2a3f5f\",\"gridcolor\":\"white\",\"linecolor\":\"white\",\"minorgridcolor\":\"white\",\"startlinecolor\":\"#2a3f5f\"},\"type\":\"carpet\"}],\"table\":[{\"cells\":{\"fill\":{\"color\":\"#EBF0F8\"},\"line\":{\"color\":\"white\"}},\"header\":{\"fill\":{\"color\":\"#C8D4E3\"},\"line\":{\"color\":\"white\"}},\"type\":\"table\"}],\"barpolar\":[{\"marker\":{\"line\":{\"color\":\"#E5ECF6\",\"width\":0.5},\"pattern\":{\"fillmode\":\"overlay\",\"size\":10,\"solidity\":0.2}},\"type\":\"barpolar\"}],\"pie\":[{\"automargin\":true,\"type\":\"pie\"}]},\"layout\":{\"autotypenumbers\":\"strict\",\"colorway\":[\"#636efa\",\"#EF553B\",\"#00cc96\",\"#ab63fa\",\"#FFA15A\",\"#19d3f3\",\"#FF6692\",\"#B6E880\",\"#FF97FF\",\"#FECB52\"],\"font\":{\"color\":\"#2a3f5f\"},\"hovermode\":\"closest\",\"hoverlabel\":{\"align\":\"left\"},\"paper_bgcolor\":\"white\",\"plot_bgcolor\":\"#E5ECF6\",\"polar\":{\"bgcolor\":\"#E5ECF6\",\"angularaxis\":{\"gridcolor\":\"white\",\"linecolor\":\"white\",\"ticks\":\"\"},\"radialaxis\":{\"gridcolor\":\"white\",\"linecolor\":\"white\",\"ticks\":\"\"}},\"ternary\":{\"bgcolor\":\"#E5ECF6\",\"aaxis\":{\"gridcolor\":\"white\",\"linecolor\":\"white\",\"ticks\":\"\"},\"baxis\":{\"gridcolor\":\"white\",\"linecolor\":\"white\",\"ticks\":\"\"},\"caxis\":{\"gridcolor\":\"white\",\"linecolor\":\"white\",\"ticks\":\"\"}},\"coloraxis\":{\"colorbar\":{\"outlinewidth\":0,\"ticks\":\"\"}},\"colorscale\":{\"sequential\":[[0.0,\"#0d0887\"],[0.1111111111111111,\"#46039f\"],[0.2222222222222222,\"#7201a8\"],[0.3333333333333333,\"#9c179e\"],[0.4444444444444444,\"#bd3786\"],[0.5555555555555556,\"#d8576b\"],[0.6666666666666666,\"#ed7953\"],[0.7777777777777778,\"#fb9f3a\"],[0.8888888888888888,\"#fdca26\"],[1.0,\"#f0f921\"]],\"sequentialminus\":[[0.0,\"#0d0887\"],[0.1111111111111111,\"#46039f\"],[0.2222222222222222,\"#7201a8\"],[0.3333333333333333,\"#9c179e\"],[0.4444444444444444,\"#bd3786\"],[0.5555555555555556,\"#d8576b\"],[0.6666666666666666,\"#ed7953\"],[0.7777777777777778,\"#fb9f3a\"],[0.8888888888888888,\"#fdca26\"],[1.0,\"#f0f921\"]],\"diverging\":[[0,\"#8e0152\"],[0.1,\"#c51b7d\"],[0.2,\"#de77ae\"],[0.3,\"#f1b6da\"],[0.4,\"#fde0ef\"],[0.5,\"#f7f7f7\"],[0.6,\"#e6f5d0\"],[0.7,\"#b8e186\"],[0.8,\"#7fbc41\"],[0.9,\"#4d9221\"],[1,\"#276419\"]]},\"xaxis\":{\"gridcolor\":\"white\",\"linecolor\":\"white\",\"ticks\":\"\",\"title\":{\"standoff\":15},\"zerolinecolor\":\"white\",\"automargin\":true,\"zerolinewidth\":2},\"yaxis\":{\"gridcolor\":\"white\",\"linecolor\":\"white\",\"ticks\":\"\",\"title\":{\"standoff\":15},\"zerolinecolor\":\"white\",\"automargin\":true,\"zerolinewidth\":2},\"scene\":{\"xaxis\":{\"backgroundcolor\":\"#E5ECF6\",\"gridcolor\":\"white\",\"linecolor\":\"white\",\"showbackground\":true,\"ticks\":\"\",\"zerolinecolor\":\"white\",\"gridwidth\":2},\"yaxis\":{\"backgroundcolor\":\"#E5ECF6\",\"gridcolor\":\"white\",\"linecolor\":\"white\",\"showbackground\":true,\"ticks\":\"\",\"zerolinecolor\":\"white\",\"gridwidth\":2},\"zaxis\":{\"backgroundcolor\":\"#E5ECF6\",\"gridcolor\":\"white\",\"linecolor\":\"white\",\"showbackground\":true,\"ticks\":\"\",\"zerolinecolor\":\"white\",\"gridwidth\":2}},\"shapedefaults\":{\"line\":{\"color\":\"#2a3f5f\"}},\"annotationdefaults\":{\"arrowcolor\":\"#2a3f5f\",\"arrowhead\":0,\"arrowwidth\":1},\"geo\":{\"bgcolor\":\"white\",\"landcolor\":\"#E5ECF6\",\"subunitcolor\":\"white\",\"showland\":true,\"showlakes\":true,\"lakecolor\":\"white\"},\"title\":{\"x\":0.05},\"mapbox\":{\"style\":\"light\"}}},\"xaxis\":{\"anchor\":\"y\",\"domain\":[0.0,1.0],\"title\":{\"text\":\"Timestamp\"},\"showgrid\":false},\"yaxis\":{\"anchor\":\"x\",\"domain\":[0.0,1.0],\"title\":{\"text\":\"Stock price\"},\"showgrid\":false},\"legend\":{\"title\":{\"text\":\"Stock\"},\"tracegroupgap\":0},\"margin\":{\"t\":60},\"title\":{\"text\":\"Plotting nepali Stock price with prediction\"},\"font\":{\"size\":15,\"color\":\"black\"},\"plot_bgcolor\":\"white\"},                        {\"responsive\": true}                    ).then(function(){\n",
       "                            \n",
       "var gd = document.getElementById('ae8e7c96-7741-4406-988f-230832b3cf27');\n",
       "var x = new MutationObserver(function (mutations, observer) {{\n",
       "        var display = window.getComputedStyle(gd).display;\n",
       "        if (!display || display === 'none') {{\n",
       "            console.log([gd, 'removed!']);\n",
       "            Plotly.purge(gd);\n",
       "            observer.disconnect();\n",
       "        }}\n",
       "}});\n",
       "\n",
       "// Listen for the removal of the full notebook cells\n",
       "var notebookContainer = gd.closest('#notebook-container');\n",
       "if (notebookContainer) {{\n",
       "    x.observe(notebookContainer, {childList: true});\n",
       "}}\n",
       "\n",
       "// Listen for the clearing of the current output cell\n",
       "var outputEl = gd.closest('.output');\n",
       "if (outputEl) {{\n",
       "    x.observe(outputEl, {childList: true});\n",
       "}}\n",
       "\n",
       "                        })                };                });            </script>        </div>"
      ]
     },
     "metadata": {},
     "output_type": "display_data"
    }
   ],
   "source": [
    "lstmdf=data.tolist()\n",
    "lstmdf.extend((np.array(lst_output).reshape(-1,1)).tolist())\n",
    "lstmdf=scaler.inverse_transform(lstmdf).reshape(1,-1).tolist()[0]\n",
    "\n",
    "names = cycle(['Close price'])\n",
    "\n",
    "fig = px.line(lstmdf,labels={'value': 'Stock price','index': 'Timestamp'})\n",
    "fig.update_layout(title_text='Plotting nepali Stock price with prediction',\n",
    "                  plot_bgcolor='white', font_size=15, font_color='black',legend_title_text='Stock')\n",
    "\n",
    "fig.for_each_trace(lambda t:  t.update(name = next(names)))\n",
    "\n",
    "fig.update_xaxes(showgrid=False)\n",
    "fig.update_yaxes(showgrid=False)\n",
    "fig.show()"
   ]
  },
  {
   "cell_type": "code",
   "execution_count": null,
   "id": "84f6e990-a0b9-4fe4-9f11-e7508962bcdc",
   "metadata": {},
   "outputs": [],
   "source": []
  }
 ],
 "metadata": {
  "kernelspec": {
   "display_name": "Python 3 (ipykernel)",
   "language": "python",
   "name": "python3"
  },
  "language_info": {
   "codemirror_mode": {
    "name": "ipython",
    "version": 3
   },
   "file_extension": ".py",
   "mimetype": "text/x-python",
   "name": "python",
   "nbconvert_exporter": "python",
   "pygments_lexer": "ipython3",
   "version": "3.12.7"
  }
 },
 "nbformat": 4,
 "nbformat_minor": 5
}
